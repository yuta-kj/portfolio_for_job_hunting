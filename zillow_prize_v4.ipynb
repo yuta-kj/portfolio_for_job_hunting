{
  "cells": [
    {
      "cell_type": "markdown",
      "metadata": {
        "id": "view-in-github",
        "colab_type": "text"
      },
      "source": [
        "<a href=\"https://colab.research.google.com/github/yuta-kj/portfolio_for_job_hunting/blob/master/zillow_prize_v4.ipynb\" target=\"_parent\"><img src=\"https://colab.research.google.com/assets/colab-badge.svg\" alt=\"Open In Colab\"/></a>"
      ]
    },
    {
      "cell_type": "code",
      "execution_count": null,
      "metadata": {
        "colab": {
          "base_uri": "https://localhost:8080/"
        },
        "id": "F5r7H9ea_70f",
        "outputId": "935ea933-3eb3-436b-cc30-b99779b0358b"
      },
      "outputs": [
        {
          "output_type": "stream",
          "name": "stdout",
          "text": [
            "Mounted at /content/gdrive\n"
          ]
        }
      ],
      "source": [
        "from google.colab import drive\n",
        "drive.mount('/content/gdrive')"
      ]
    },
    {
      "cell_type": "code",
      "execution_count": null,
      "metadata": {
        "colab": {
          "base_uri": "https://localhost:8080/"
        },
        "id": "h5qJcEQpALql",
        "outputId": "0869673b-9c8e-42b1-85ee-51dc919ae79c"
      },
      "outputs": [
        {
          "output_type": "stream",
          "name": "stdout",
          "text": [
            "/content/gdrive/MyDrive/kaggle/zillow_prize\n"
          ]
        }
      ],
      "source": [
        "cd /content/gdrive/MyDrive/kaggle/zillow_prize/"
      ]
    },
    {
      "cell_type": "code",
      "execution_count": null,
      "metadata": {
        "colab": {
          "base_uri": "https://localhost:8080/"
        },
        "id": "nPbxz-6kXGNr",
        "outputId": "aa103eea-4c2b-4830-8bad-c593b3cb8b52"
      },
      "outputs": [
        {
          "output_type": "stream",
          "name": "stdout",
          "text": [
            "Collecting optuna\n",
            "  Downloading optuna-2.10.0-py3-none-any.whl (308 kB)\n",
            "\u001b[?25l\r\u001b[K     |█                               | 10 kB 32.6 MB/s eta 0:00:01\r\u001b[K     |██▏                             | 20 kB 20.4 MB/s eta 0:00:01\r\u001b[K     |███▏                            | 30 kB 11.5 MB/s eta 0:00:01\r\u001b[K     |████▎                           | 40 kB 9.3 MB/s eta 0:00:01\r\u001b[K     |█████▎                          | 51 kB 3.6 MB/s eta 0:00:01\r\u001b[K     |██████▍                         | 61 kB 4.3 MB/s eta 0:00:01\r\u001b[K     |███████▍                        | 71 kB 4.5 MB/s eta 0:00:01\r\u001b[K     |████████▌                       | 81 kB 4.3 MB/s eta 0:00:01\r\u001b[K     |█████████▋                      | 92 kB 4.8 MB/s eta 0:00:01\r\u001b[K     |██████████▋                     | 102 kB 4.2 MB/s eta 0:00:01\r\u001b[K     |███████████▊                    | 112 kB 4.2 MB/s eta 0:00:01\r\u001b[K     |████████████▊                   | 122 kB 4.2 MB/s eta 0:00:01\r\u001b[K     |█████████████▉                  | 133 kB 4.2 MB/s eta 0:00:01\r\u001b[K     |██████████████▉                 | 143 kB 4.2 MB/s eta 0:00:01\r\u001b[K     |████████████████                | 153 kB 4.2 MB/s eta 0:00:01\r\u001b[K     |█████████████████               | 163 kB 4.2 MB/s eta 0:00:01\r\u001b[K     |██████████████████              | 174 kB 4.2 MB/s eta 0:00:01\r\u001b[K     |███████████████████▏            | 184 kB 4.2 MB/s eta 0:00:01\r\u001b[K     |████████████████████▏           | 194 kB 4.2 MB/s eta 0:00:01\r\u001b[K     |█████████████████████▎          | 204 kB 4.2 MB/s eta 0:00:01\r\u001b[K     |██████████████████████▎         | 215 kB 4.2 MB/s eta 0:00:01\r\u001b[K     |███████████████████████▍        | 225 kB 4.2 MB/s eta 0:00:01\r\u001b[K     |████████████████████████▌       | 235 kB 4.2 MB/s eta 0:00:01\r\u001b[K     |█████████████████████████▌      | 245 kB 4.2 MB/s eta 0:00:01\r\u001b[K     |██████████████████████████▋     | 256 kB 4.2 MB/s eta 0:00:01\r\u001b[K     |███████████████████████████▋    | 266 kB 4.2 MB/s eta 0:00:01\r\u001b[K     |████████████████████████████▊   | 276 kB 4.2 MB/s eta 0:00:01\r\u001b[K     |█████████████████████████████▊  | 286 kB 4.2 MB/s eta 0:00:01\r\u001b[K     |██████████████████████████████▉ | 296 kB 4.2 MB/s eta 0:00:01\r\u001b[K     |████████████████████████████████| 307 kB 4.2 MB/s eta 0:00:01\r\u001b[K     |████████████████████████████████| 308 kB 4.2 MB/s \n",
            "\u001b[?25hRequirement already satisfied: PyYAML in /usr/local/lib/python3.7/dist-packages (from optuna) (3.13)\n",
            "Requirement already satisfied: scipy!=1.4.0 in /usr/local/lib/python3.7/dist-packages (from optuna) (1.4.1)\n",
            "Collecting cmaes>=0.8.2\n",
            "  Downloading cmaes-0.8.2-py3-none-any.whl (15 kB)\n",
            "Requirement already satisfied: sqlalchemy>=1.1.0 in /usr/local/lib/python3.7/dist-packages (from optuna) (1.4.32)\n",
            "Collecting alembic\n",
            "  Downloading alembic-1.7.7-py3-none-any.whl (210 kB)\n",
            "\u001b[K     |████████████████████████████████| 210 kB 60.5 MB/s \n",
            "\u001b[?25hRequirement already satisfied: packaging>=20.0 in /usr/local/lib/python3.7/dist-packages (from optuna) (21.3)\n",
            "Requirement already satisfied: numpy in /usr/local/lib/python3.7/dist-packages (from optuna) (1.21.5)\n",
            "Collecting colorlog\n",
            "  Downloading colorlog-6.6.0-py2.py3-none-any.whl (11 kB)\n",
            "Collecting cliff\n",
            "  Downloading cliff-3.10.1-py3-none-any.whl (81 kB)\n",
            "\u001b[K     |████████████████████████████████| 81 kB 10.4 MB/s \n",
            "\u001b[?25hRequirement already satisfied: tqdm in /usr/local/lib/python3.7/dist-packages (from optuna) (4.63.0)\n",
            "Requirement already satisfied: pyparsing!=3.0.5,>=2.0.2 in /usr/local/lib/python3.7/dist-packages (from packaging>=20.0->optuna) (3.0.7)\n",
            "Requirement already satisfied: greenlet!=0.4.17 in /usr/local/lib/python3.7/dist-packages (from sqlalchemy>=1.1.0->optuna) (1.1.2)\n",
            "Requirement already satisfied: importlib-metadata in /usr/local/lib/python3.7/dist-packages (from sqlalchemy>=1.1.0->optuna) (4.11.3)\n",
            "Requirement already satisfied: importlib-resources in /usr/local/lib/python3.7/dist-packages (from alembic->optuna) (5.4.0)\n",
            "Collecting Mako\n",
            "  Downloading Mako-1.2.0-py3-none-any.whl (78 kB)\n",
            "\u001b[K     |████████████████████████████████| 78 kB 6.8 MB/s \n",
            "\u001b[?25hRequirement already satisfied: PrettyTable>=0.7.2 in /usr/local/lib/python3.7/dist-packages (from cliff->optuna) (3.2.0)\n",
            "Collecting cmd2>=1.0.0\n",
            "  Downloading cmd2-2.4.0-py3-none-any.whl (150 kB)\n",
            "\u001b[K     |████████████████████████████████| 150 kB 51.9 MB/s \n",
            "\u001b[?25hCollecting stevedore>=2.0.1\n",
            "  Downloading stevedore-3.5.0-py3-none-any.whl (49 kB)\n",
            "\u001b[K     |████████████████████████████████| 49 kB 6.2 MB/s \n",
            "\u001b[?25hCollecting pbr!=2.1.0,>=2.0.0\n",
            "  Downloading pbr-5.8.1-py2.py3-none-any.whl (113 kB)\n",
            "\u001b[K     |████████████████████████████████| 113 kB 47.5 MB/s \n",
            "\u001b[?25hCollecting autopage>=0.4.0\n",
            "  Downloading autopage-0.5.0-py3-none-any.whl (29 kB)\n",
            "Requirement already satisfied: attrs>=16.3.0 in /usr/local/lib/python3.7/dist-packages (from cmd2>=1.0.0->cliff->optuna) (21.4.0)\n",
            "Requirement already satisfied: typing-extensions in /usr/local/lib/python3.7/dist-packages (from cmd2>=1.0.0->cliff->optuna) (3.10.0.2)\n",
            "Collecting pyperclip>=1.6\n",
            "  Downloading pyperclip-1.8.2.tar.gz (20 kB)\n",
            "Requirement already satisfied: wcwidth>=0.1.7 in /usr/local/lib/python3.7/dist-packages (from cmd2>=1.0.0->cliff->optuna) (0.2.5)\n",
            "Requirement already satisfied: zipp>=0.5 in /usr/local/lib/python3.7/dist-packages (from importlib-metadata->sqlalchemy>=1.1.0->optuna) (3.7.0)\n",
            "Requirement already satisfied: MarkupSafe>=0.9.2 in /usr/local/lib/python3.7/dist-packages (from Mako->alembic->optuna) (2.0.1)\n",
            "Building wheels for collected packages: pyperclip\n",
            "  Building wheel for pyperclip (setup.py) ... \u001b[?25l\u001b[?25hdone\n",
            "  Created wheel for pyperclip: filename=pyperclip-1.8.2-py3-none-any.whl size=11137 sha256=567c474959f02b23a0e0a6bf87a487af85bbe3734be1ab2945a8b5cee5cccdbf\n",
            "  Stored in directory: /root/.cache/pip/wheels/9f/18/84/8f69f8b08169c7bae2dde6bd7daf0c19fca8c8e500ee620a28\n",
            "Successfully built pyperclip\n",
            "Installing collected packages: pyperclip, pbr, stevedore, Mako, cmd2, autopage, colorlog, cmaes, cliff, alembic, optuna\n",
            "Successfully installed Mako-1.2.0 alembic-1.7.7 autopage-0.5.0 cliff-3.10.1 cmaes-0.8.2 cmd2-2.4.0 colorlog-6.6.0 optuna-2.10.0 pbr-5.8.1 pyperclip-1.8.2 stevedore-3.5.0\n"
          ]
        }
      ],
      "source": [
        "!pip install optuna"
      ]
    },
    {
      "cell_type": "code",
      "source": [
        "print('Loading Properties ...')\n",
        "properties2016 = pd.read_csv('/content/gdrive/MyDrive/kaggle/zillow_prize/datasets/properties_2016.csv', low_memory = False)\n",
        "properties2017 = pd.read_csv('/content/gdrive/MyDrive/kaggle/zillow_prize/datasets/properties_2017.csv', low_memory = False)\n",
        "\n",
        "print('Loading Train ...')\n",
        "train2016 = pd.read_csv('/content/gdrive/MyDrive/kaggle/zillow_prize/datasets/train_2016_v2.csv', parse_dates=['transactiondate'], low_memory=False)\n",
        "train2017 = pd.read_csv('/content/gdrive/MyDrive/kaggle/zillow_prize/datasets/train_2017.csv', parse_dates=['transactiondate'], low_memory=False)\n",
        "\n",
        "def add_date_features(df):\n",
        "    df[\"transaction_year\"] = df[\"transactiondate\"].dt.year\n",
        "    df[\"transaction_month\"] = (df[\"transactiondate\"].dt.year - 2016)*12 + df[\"transactiondate\"].dt.month\n",
        "    df[\"transaction_day\"] = df[\"transactiondate\"].dt.day\n",
        "    df[\"transaction_quarter\"] = (df[\"transactiondate\"].dt.year - 2016)*4 +df[\"transactiondate\"].dt.quarter\n",
        "    df.drop([\"transactiondate\"], inplace=True, axis=1)\n",
        "    return df\n",
        "\n",
        "train2016 = add_date_features(train2016)\n",
        "train2017 = add_date_features(train2017)\n",
        "\n",
        "print('Loading Sample ...')\n",
        "sample_submission = pd.read_csv('../input/sample_submission.csv', low_memory = False)\n",
        "\n",
        "print('Merge Train with Properties ...')\n",
        "train2016 = pd.merge(train2016, properties2016, how = 'left', on = 'parcelid')\n",
        "train2017 = pd.merge(train2017, properties2017, how = 'left', on = 'parcelid')\n",
        "\n",
        "print('Tax Features 2017  ...')\n",
        "train2017.iloc[:, train2017.columns.str.startswith('tax')] = np.nan\n",
        "\n",
        "print('Concat Train 2016 & 2017 ...')\n",
        "train_df = pd.concat([train2016, train2017], axis = 0)\n",
        "test_df = pd.merge(sample_submission[['ParcelId']], properties2016.rename(columns = {'parcelid': 'ParcelId'}), how = 'left', on = 'ParcelId')"
      ],
      "metadata": {
        "id": "jb6YQr5LRXXL"
      },
      "execution_count": null,
      "outputs": []
    },
    {
      "cell_type": "code",
      "execution_count": null,
      "metadata": {
        "id": "WcON9a5oK1IB"
      },
      "outputs": [],
      "source": [
        "import pandas as pd\n",
        "from sklearn.model_selection import train_test_split\n",
        "\n",
        "# Read the data\n",
        "train_2016_df_ = pd.read_csv(\"/content/gdrive/MyDrive/kaggle/zillow_prize/datasets/train_2016_v2.csv\", parse_dates=[\"transactiondate\"], index_col='parcelid')\n",
        "train_2017_df_ = pd.read_csv(\"/content/gdrive/MyDrive/kaggle/zillow_prize/datasets/train_2017.csv\", parse_dates=[\"transactiondate\"], index_col='parcelid')\n",
        "prop_2016_df = pd.read_csv(\"/content/gdrive/MyDrive/kaggle/zillow_prize/datasets/properties_2016.csv\", index_col='parcelid', low_memory=False)\n",
        "prop_2017_df = pd.read_csv(\"/content/gdrive/MyDrive/kaggle/zillow_prize/datasets/properties_2017.csv\", index_col='parcelid', low_memory=False)\n",
        "sample_sub = pd.read_csv(\"/content/gdrive/MyDrive/kaggle/zillow_prize/datasets/sample_submission.csv\", index_col='parceid')\n",
        "\n",
        "\n",
        "# Merge datasets\n",
        "train_2016_df = pd.merge(train_2016_df_, prop_2016_df, on='parcelid', how='left')\n",
        "train_2017_df = pd.merge(train_2017_df_, prop_2017_df, on='parcelid', how='left')\n",
        "\n",
        "X_full = pd.concat([train_2016_df, train_2017_df], axis=0)"
      ]
    },
    {
      "cell_type": "code",
      "execution_count": null,
      "metadata": {
        "id": "lJyFhIyqUDla"
      },
      "outputs": [],
      "source": [
        "# float64->float32にしてメモリを効率化\n",
        "import numpy as np\n",
        "for c, dtype in zip(X_full.columns, X_full.dtypes):\n",
        "\tif dtype == np.float64:\n",
        "\t\tX_full[c] = X_full[c].astype(np.float32)"
      ]
    },
    {
      "cell_type": "code",
      "execution_count": null,
      "metadata": {
        "id": "NkatffFpMi3-"
      },
      "outputs": [],
      "source": [
        "sample_sub = pd.read_csv(\"/content/gdrive/MyDrive/kaggle/zillow_prize/datasets/sample_submission.csv\")\n",
        "sample_sub.set_index('ParcelId', inplace=True)\n",
        "sample_sub.rename(columns={'ParcelId': 'parcelid'}, inplace=True)"
      ]
    },
    {
      "cell_type": "code",
      "execution_count": null,
      "metadata": {
        "id": "J7afel1IK-Ig"
      },
      "outputs": [],
      "source": [
        "# 目的変数の欠損値の除去\n",
        "X_full.dropna(axis=0, subset=['logerror'], inplace=True)\n",
        "y = X_full.logerror\n",
        "X_full.drop(['logerror'], axis=1, inplace=True)"
      ]
    },
    {
      "cell_type": "code",
      "execution_count": null,
      "metadata": {
        "id": "-S5wji7pYTYc"
      },
      "outputs": [],
      "source": [
        "# Break off validation set from training data\n",
        "X_tr_fl, X_val_fl, y_tr, y_val = train_test_split(X_full, y, train_size=0.8, test_size=0.2, random_state=0)"
      ]
    },
    {
      "cell_type": "code",
      "execution_count": null,
      "metadata": {
        "id": "KN9taxcF62Mt"
      },
      "outputs": [],
      "source": [
        "categorical_cols = [cname for cname in X_tr_fl.columns if\n",
        "                    X_tr_fl[cname].nunique() < 10 and \n",
        "                    X_tr_fl[cname].dtype == \"object\"]"
      ]
    },
    {
      "cell_type": "code",
      "execution_count": null,
      "metadata": {
        "id": "-NTBSVPsZqFq"
      },
      "outputs": [],
      "source": [
        "# Select numerical columns\n",
        "numerical_cols = [cname for cname in X_tr_fl.columns if\n",
        "                  X_tr_fl[cname].dtype in ['int32', 'float32']]\n",
        "                #   X_tr_fl[cname].dtype in ['int64', 'float64']]"
      ]
    },
    {
      "cell_type": "code",
      "execution_count": null,
      "metadata": {
        "id": "hadxWwRUa2Ow"
      },
      "outputs": [],
      "source": [
        "# Keep selected columns only\n",
        "# my_cols = categorical_cols + numerical_cols\n",
        "my_cols =numerical_cols + categorical_cols\n",
        "X_tr = X_tr_fl[my_cols].copy()\n",
        "X_val = X_val_fl[my_cols].copy()\n",
        "# X_test = prop_2016_df[my_cols].copy()"
      ]
    },
    {
      "cell_type": "markdown",
      "source": [
        "## Optuna + Cross Validation + pipeline + XGB"
      ],
      "metadata": {
        "id": "U8o5Pc82BujD"
      }
    },
    {
      "cell_type": "code",
      "source": [
        "import optuna\n",
        "from sklearn.model_selection import cross_val_score, cross_validate\n",
        "from sklearn.pipeline import Pipeline\n",
        "from sklearn.compose import ColumnTransformer\n",
        "from sklearn.impute import SimpleImputer\n",
        "from sklearn.preprocessing import OneHotEncoder\n",
        "import xgboost as xgb\n",
        "from xgboost import XGBRegressor as xgbreg\n",
        "from sklearn.metrics import mean_absolute_error\n",
        "\n",
        "def objective(trial, X_tr=X_tr, X_val=X_val, y_tr= y_tr):\n",
        "    param = {\n",
        "        'lambda': trial.suggest_loguniform('lambda', 1e-3, 10.0),\n",
        "        'alpha': trial.suggest_loguniform('alpha', 1e-3, 10.0),\n",
        "        'colsample_bytree': trial.suggest_categorical('colsample_bytree', [0.5, 0.6, 0.7, 0.8, 0.9, 1.0]),\n",
        "        'subsampele': trial.suggest_categorical('subsample', [0.6, 0.7, 0.8, 1.0]),\n",
        "        'learning_rate': trial.suggest_categorical('learning_rate', [0.008, 0.01, 0.012, 0.014]),\n",
        "        'max_depth': trial.suggest_categorical('max_depth', [4,5,7,9,15]),\n",
        "        'min_child_weight': trial.suggest_int('min_child_weight', 1, 300),\n",
        "        'n_estimators': 1000,\n",
        "        \"tree_method\": 'gpu_hist',\n",
        "        \"predictor\": 'gpu_predictor',\n",
        "        \"gpu_id\": 0,\n",
        "        \"verbosity\": 1}\n",
        "\n",
        "    fit_param = {\n",
        "        'model__eval_set': None,     #[(X_val, y_val)]を変換後に加える。\n",
        "        'model__eval_metric': 'mae',\n",
        "        'model__early_stopping_rounds': 500,\n",
        "        'model__verbose': True}\n",
        "\n",
        "    ## 前処理\n",
        "    numerical_transformer = SimpleImputer(strategy='constant') # np.ndarrayの型で返される。 \n",
        "\n",
        "    # Preprocessing for categorical data\n",
        "    categorical_transformer = Pipeline(steps=[\n",
        "        ('imputer', SimpleImputer(strategy='most_frequent')),\n",
        "        ('onehot', OneHotEncoder(handle_unknown='ignore'))])\n",
        "\n",
        "    ## Bundle preprocessing for numerical and categorical data\n",
        "    preprocessor = ColumnTransformer(transformers=[\n",
        "            ('num', numerical_transformer, numerical_cols),\n",
        "            ('cat', categorical_transformer, categorical_cols),\n",
        "            ])\n",
        "    df_tr_ev = pd.concat([X_tr, X_val])\n",
        "    preprocessor.fit(df_tr_ev)\n",
        "    X_tr = preprocessor.transform(X_tr)\n",
        "    X_val = preprocessor.transform(X_val)\n",
        "    fit_param['model__eval_set'] = [(X_val, y_val)]\n",
        "    # Define model\n",
        "    model = xgbreg(objective=\"reg:squarederror\", **param)\n",
        "    \n",
        "    # Bundle preprocessing and modeling code in a pipeline\n",
        "    reg = Pipeline(steps=[('model', model)])\n",
        "\n",
        "    # cross_validate()は、\n",
        "    # 評価に複数の指標を考慮できる\n",
        "    # テストスコアに加えて、学習の時のスコア、学習時間、テストの時間などを算出してくれる。\n",
        "    scores =  cross_validate(reg,\n",
        "                             X_tr,\n",
        "                             y_tr,\n",
        "                             scoring='neg_mean_absolute_error', #optuna(direction='maximize')にすること！\n",
        "                             n_jobs=-1,\n",
        "                             verbose=2,\n",
        "                             cv=3)\n",
        "    \n",
        "    # reg.fit(X_tr, y_tr, **fit_param)\n",
        "    # y_pred = reg.predict(X_val)\n",
        "    # mae = mean_absolute_error(y_val, y_pred)\n",
        "    return scores['test_score'].mean()"
      ],
      "metadata": {
        "id": "n4nLoJfxGKmp"
      },
      "execution_count": null,
      "outputs": []
    },
    {
      "cell_type": "code",
      "source": [
        "optuna.logging.get_verbosity()"
      ],
      "metadata": {
        "colab": {
          "base_uri": "https://localhost:8080/"
        },
        "id": "LxQ-azo-dGMF",
        "outputId": "ad3e5c47-f24f-4d2c-ab6e-83a7ac2f2836"
      },
      "execution_count": null,
      "outputs": [
        {
          "output_type": "execute_result",
          "data": {
            "text/plain": [
              "20"
            ]
          },
          "metadata": {},
          "execution_count": 28
        }
      ]
    },
    {
      "cell_type": "code",
      "source": [
        "sampler = optuna.samplers.TPESampler(seed=100)\n",
        "study = optuna.create_study(storage=\"sqlite:////content/gdrive/MyDrive/kaggle/zillow_prize/results/study_1.db\", \n",
        "                            study_name = \"study_1\", sampler=sampler, pruner=optuna.pruners.MedianPruner(),\n",
        "                            load_if_exists=False, direction = 'maximize')\n",
        "study.optimize(objective,n_trials=3,show_progress_bar=True)"
      ],
      "metadata": {
        "colab": {
          "base_uri": "https://localhost:8080/",
          "height": 312,
          "referenced_widgets": [
            "ed13370c60014cef8e2125e05d037add",
            "0feac7de1136426bb82f3f14cb3cc2c9",
            "30cfca19154a4ac4b6faa3092ff6a515",
            "b241aa44f01d40b39d54a5cb0c0d25ed",
            "230e920cdd14469b83aaa9361c2758e3",
            "0b9a6595dd96479fa5a9f9622cc76aa1",
            "0cd7ba65b365438d99966ac0b48f66f9",
            "ac4ca16ef00d4e138a4bd928c50549a1",
            "e541434c53574dc195d6908c271a1f2c",
            "6c6f01afb6894eac98ada12f1020e0d1",
            "af0ebec253754be0a7bfb9889367dff1"
          ]
        },
        "id": "2UmHyBPZRxTJ",
        "outputId": "bb59e6d0-35df-4cbe-d3e3-c0e285dfe527"
      },
      "execution_count": null,
      "outputs": [
        {
          "output_type": "stream",
          "name": "stderr",
          "text": [
            "\u001b[32m[I 2022-04-13 06:23:58,294]\u001b[0m A new study created in RDB with name: study_1\u001b[0m\n",
            "/usr/local/lib/python3.7/dist-packages/optuna/progress_bar.py:47: ExperimentalWarning:\n",
            "\n",
            "Progress bar is experimental (supported from v1.2.0). The interface can change in the future.\n",
            "\n"
          ]
        },
        {
          "output_type": "display_data",
          "data": {
            "text/plain": [
              "  0%|          | 0/3 [00:00<?, ?it/s]"
            ],
            "application/vnd.jupyter.widget-view+json": {
              "version_major": 2,
              "version_minor": 0,
              "model_id": "ed13370c60014cef8e2125e05d037add"
            }
          },
          "metadata": {}
        },
        {
          "output_type": "stream",
          "name": "stderr",
          "text": [
            "[Parallel(n_jobs=-1)]: Using backend LokyBackend with 4 concurrent workers.\n",
            "[Parallel(n_jobs=-1)]: Done   3 out of   3 | elapsed:   21.4s finished\n"
          ]
        },
        {
          "output_type": "stream",
          "name": "stdout",
          "text": [
            "\u001b[32m[I 2022-04-13 06:24:21,053]\u001b[0m Trial 0 finished with value: -0.06951829294363658 and parameters: {'lambda': 0.14914880124867258, 'alpha': 0.01298606404406187, 'colsample_bytree': 0.6, 'subsample': 0.8, 'learning_rate': 0.014, 'max_depth': 7, 'min_child_weight': 283}. Best is trial 0 with value: -0.06951829294363658.\u001b[0m\n"
          ]
        },
        {
          "output_type": "stream",
          "name": "stderr",
          "text": [
            "[Parallel(n_jobs=-1)]: Using backend LokyBackend with 4 concurrent workers.\n",
            "[Parallel(n_jobs=-1)]: Done   3 out of   3 | elapsed:   13.1s finished\n"
          ]
        },
        {
          "output_type": "stream",
          "name": "stdout",
          "text": [
            "\u001b[32m[I 2022-04-13 06:24:35,394]\u001b[0m Trial 1 finished with value: -0.06942699352900188 and parameters: {'lambda': 1.864650814036825, 'alpha': 0.022102825780085232, 'colsample_bytree': 0.9, 'subsample': 0.7, 'learning_rate': 0.012, 'max_depth': 4, 'min_child_weight': 7}. Best is trial 1 with value: -0.06942699352900188.\u001b[0m\n"
          ]
        },
        {
          "output_type": "stream",
          "name": "stderr",
          "text": [
            "[Parallel(n_jobs=-1)]: Using backend LokyBackend with 4 concurrent workers.\n",
            "[Parallel(n_jobs=-1)]: Done   3 out of   3 | elapsed:   40.3s finished\n"
          ]
        },
        {
          "output_type": "stream",
          "name": "stdout",
          "text": [
            "\u001b[32m[I 2022-04-13 06:25:16,919]\u001b[0m Trial 2 finished with value: -0.07032801955938339 and parameters: {'lambda': 0.0069200034454602885, 'alpha': 0.15091746885099416, 'colsample_bytree': 0.9, 'subsample': 0.7, 'learning_rate': 0.014, 'max_depth': 15, 'min_child_weight': 284}. Best is trial 1 with value: -0.06942699352900188.\u001b[0m\n"
          ]
        }
      ]
    },
    {
      "cell_type": "code",
      "source": [
        "print(study.best_trial,\"\\n\")\n",
        "print(study.best_params)\n",
        "print(study.get_trials())"
      ],
      "metadata": {
        "colab": {
          "base_uri": "https://localhost:8080/"
        },
        "id": "27EDzi0fmVco",
        "outputId": "6ed26d5e-e921-4305-b8a5-035aa02355f0"
      },
      "execution_count": null,
      "outputs": [
        {
          "output_type": "stream",
          "name": "stdout",
          "text": [
            "FrozenTrial(number=1, values=[-0.06942699352900188], datetime_start=datetime.datetime(2022, 4, 13, 6, 24, 21, 71990), datetime_complete=datetime.datetime(2022, 4, 13, 6, 24, 35, 327942), params={'alpha': 0.022102825780085232, 'colsample_bytree': 0.9, 'lambda': 1.864650814036825, 'learning_rate': 0.012, 'max_depth': 4, 'min_child_weight': 7, 'subsample': 0.7}, distributions={'alpha': LogUniformDistribution(high=10.0, low=0.001), 'colsample_bytree': CategoricalDistribution(choices=(0.5, 0.6, 0.7, 0.8, 0.9, 1.0)), 'lambda': LogUniformDistribution(high=10.0, low=0.001), 'learning_rate': CategoricalDistribution(choices=(0.008, 0.01, 0.012, 0.014)), 'max_depth': CategoricalDistribution(choices=(4, 5, 7, 9, 15)), 'min_child_weight': IntUniformDistribution(high=300, low=1, step=1), 'subsample': CategoricalDistribution(choices=(0.6, 0.7, 0.8, 1.0))}, user_attrs={}, system_attrs={}, intermediate_values={}, trial_id=2, state=TrialState.COMPLETE, value=None) \n",
            "\n",
            "{'alpha': 0.022102825780085232, 'colsample_bytree': 0.9, 'lambda': 1.864650814036825, 'learning_rate': 0.012, 'max_depth': 4, 'min_child_weight': 7, 'subsample': 0.7}\n",
            "[FrozenTrial(number=0, values=[-0.06951829294363658], datetime_start=datetime.datetime(2022, 4, 13, 6, 23, 58, 408941), datetime_complete=datetime.datetime(2022, 4, 13, 6, 24, 20, 981457), params={'alpha': 0.01298606404406187, 'colsample_bytree': 0.6, 'lambda': 0.14914880124867258, 'learning_rate': 0.014, 'max_depth': 7, 'min_child_weight': 283, 'subsample': 0.8}, distributions={'alpha': LogUniformDistribution(high=10.0, low=0.001), 'colsample_bytree': CategoricalDistribution(choices=(0.5, 0.6, 0.7, 0.8, 0.9, 1.0)), 'lambda': LogUniformDistribution(high=10.0, low=0.001), 'learning_rate': CategoricalDistribution(choices=(0.008, 0.01, 0.012, 0.014)), 'max_depth': CategoricalDistribution(choices=(4, 5, 7, 9, 15)), 'min_child_weight': IntUniformDistribution(high=300, low=1, step=1), 'subsample': CategoricalDistribution(choices=(0.6, 0.7, 0.8, 1.0))}, user_attrs={}, system_attrs={}, intermediate_values={}, trial_id=1, state=TrialState.COMPLETE, value=None), FrozenTrial(number=1, values=[-0.06942699352900188], datetime_start=datetime.datetime(2022, 4, 13, 6, 24, 21, 71990), datetime_complete=datetime.datetime(2022, 4, 13, 6, 24, 35, 327942), params={'alpha': 0.022102825780085232, 'colsample_bytree': 0.9, 'lambda': 1.864650814036825, 'learning_rate': 0.012, 'max_depth': 4, 'min_child_weight': 7, 'subsample': 0.7}, distributions={'alpha': LogUniformDistribution(high=10.0, low=0.001), 'colsample_bytree': CategoricalDistribution(choices=(0.5, 0.6, 0.7, 0.8, 0.9, 1.0)), 'lambda': LogUniformDistribution(high=10.0, low=0.001), 'learning_rate': CategoricalDistribution(choices=(0.008, 0.01, 0.012, 0.014)), 'max_depth': CategoricalDistribution(choices=(4, 5, 7, 9, 15)), 'min_child_weight': IntUniformDistribution(high=300, low=1, step=1), 'subsample': CategoricalDistribution(choices=(0.6, 0.7, 0.8, 1.0))}, user_attrs={}, system_attrs={}, intermediate_values={}, trial_id=2, state=TrialState.COMPLETE, value=None), FrozenTrial(number=2, values=[-0.07032801955938339], datetime_start=datetime.datetime(2022, 4, 13, 6, 24, 35, 414448), datetime_complete=datetime.datetime(2022, 4, 13, 6, 25, 16, 849533), params={'alpha': 0.15091746885099416, 'colsample_bytree': 0.9, 'lambda': 0.0069200034454602885, 'learning_rate': 0.014, 'max_depth': 15, 'min_child_weight': 284, 'subsample': 0.7}, distributions={'alpha': LogUniformDistribution(high=10.0, low=0.001), 'colsample_bytree': CategoricalDistribution(choices=(0.5, 0.6, 0.7, 0.8, 0.9, 1.0)), 'lambda': LogUniformDistribution(high=10.0, low=0.001), 'learning_rate': CategoricalDistribution(choices=(0.008, 0.01, 0.012, 0.014)), 'max_depth': CategoricalDistribution(choices=(4, 5, 7, 9, 15)), 'min_child_weight': IntUniformDistribution(high=300, low=1, step=1), 'subsample': CategoricalDistribution(choices=(0.6, 0.7, 0.8, 1.0))}, user_attrs={}, system_attrs={}, intermediate_values={}, trial_id=3, state=TrialState.COMPLETE, value=None)]\n"
          ]
        }
      ]
    },
    {
      "cell_type": "code",
      "source": [
        "optuna.visualization.plot_optimization_history(study)"
      ],
      "metadata": {
        "colab": {
          "base_uri": "https://localhost:8080/",
          "height": 542
        },
        "id": "4HINAxfyYkTL",
        "outputId": "4349fcca-5bf8-4416-e1ce-22ab7fbd4a9e"
      },
      "execution_count": null,
      "outputs": [
        {
          "output_type": "display_data",
          "data": {
            "text/html": [
              "<html>\n",
              "<head><meta charset=\"utf-8\" /></head>\n",
              "<body>\n",
              "    <div>            <script src=\"https://cdnjs.cloudflare.com/ajax/libs/mathjax/2.7.5/MathJax.js?config=TeX-AMS-MML_SVG\"></script><script type=\"text/javascript\">if (window.MathJax) {MathJax.Hub.Config({SVG: {font: \"STIX-Web\"}});}</script>                <script type=\"text/javascript\">window.PlotlyConfig = {MathJaxConfig: 'local'};</script>\n",
              "        <script src=\"https://cdn.plot.ly/plotly-2.8.3.min.js\"></script>                <div id=\"29173544-a4f3-4747-b692-9f2c0381c196\" class=\"plotly-graph-div\" style=\"height:525px; width:100%;\"></div>            <script type=\"text/javascript\">                                    window.PLOTLYENV=window.PLOTLYENV || {};                                    if (document.getElementById(\"29173544-a4f3-4747-b692-9f2c0381c196\")) {                    Plotly.newPlot(                        \"29173544-a4f3-4747-b692-9f2c0381c196\",                        [{\"mode\":\"markers\",\"name\":\"Objective Value\",\"x\":[0,1,2],\"y\":[-0.06951829294363658,-0.06942699352900188,-0.07032801955938339],\"type\":\"scatter\"},{\"name\":\"Best Value\",\"x\":[0,1,2],\"y\":[-0.06951829294363658,-0.06942699352900188,-0.06942699352900188],\"type\":\"scatter\"}],                        {\"title\":{\"text\":\"Optimization History Plot\"},\"xaxis\":{\"title\":{\"text\":\"#Trials\"}},\"yaxis\":{\"title\":{\"text\":\"Objective Value\"}},\"template\":{\"data\":{\"bar\":[{\"error_x\":{\"color\":\"#2a3f5f\"},\"error_y\":{\"color\":\"#2a3f5f\"},\"marker\":{\"line\":{\"color\":\"#E5ECF6\",\"width\":0.5},\"pattern\":{\"fillmode\":\"overlay\",\"size\":10,\"solidity\":0.2}},\"type\":\"bar\"}],\"barpolar\":[{\"marker\":{\"line\":{\"color\":\"#E5ECF6\",\"width\":0.5},\"pattern\":{\"fillmode\":\"overlay\",\"size\":10,\"solidity\":0.2}},\"type\":\"barpolar\"}],\"carpet\":[{\"aaxis\":{\"endlinecolor\":\"#2a3f5f\",\"gridcolor\":\"white\",\"linecolor\":\"white\",\"minorgridcolor\":\"white\",\"startlinecolor\":\"#2a3f5f\"},\"baxis\":{\"endlinecolor\":\"#2a3f5f\",\"gridcolor\":\"white\",\"linecolor\":\"white\",\"minorgridcolor\":\"white\",\"startlinecolor\":\"#2a3f5f\"},\"type\":\"carpet\"}],\"choropleth\":[{\"colorbar\":{\"outlinewidth\":0,\"ticks\":\"\"},\"type\":\"choropleth\"}],\"contour\":[{\"colorbar\":{\"outlinewidth\":0,\"ticks\":\"\"},\"colorscale\":[[0.0,\"#0d0887\"],[0.1111111111111111,\"#46039f\"],[0.2222222222222222,\"#7201a8\"],[0.3333333333333333,\"#9c179e\"],[0.4444444444444444,\"#bd3786\"],[0.5555555555555556,\"#d8576b\"],[0.6666666666666666,\"#ed7953\"],[0.7777777777777778,\"#fb9f3a\"],[0.8888888888888888,\"#fdca26\"],[1.0,\"#f0f921\"]],\"type\":\"contour\"}],\"contourcarpet\":[{\"colorbar\":{\"outlinewidth\":0,\"ticks\":\"\"},\"type\":\"contourcarpet\"}],\"heatmap\":[{\"colorbar\":{\"outlinewidth\":0,\"ticks\":\"\"},\"colorscale\":[[0.0,\"#0d0887\"],[0.1111111111111111,\"#46039f\"],[0.2222222222222222,\"#7201a8\"],[0.3333333333333333,\"#9c179e\"],[0.4444444444444444,\"#bd3786\"],[0.5555555555555556,\"#d8576b\"],[0.6666666666666666,\"#ed7953\"],[0.7777777777777778,\"#fb9f3a\"],[0.8888888888888888,\"#fdca26\"],[1.0,\"#f0f921\"]],\"type\":\"heatmap\"}],\"heatmapgl\":[{\"colorbar\":{\"outlinewidth\":0,\"ticks\":\"\"},\"colorscale\":[[0.0,\"#0d0887\"],[0.1111111111111111,\"#46039f\"],[0.2222222222222222,\"#7201a8\"],[0.3333333333333333,\"#9c179e\"],[0.4444444444444444,\"#bd3786\"],[0.5555555555555556,\"#d8576b\"],[0.6666666666666666,\"#ed7953\"],[0.7777777777777778,\"#fb9f3a\"],[0.8888888888888888,\"#fdca26\"],[1.0,\"#f0f921\"]],\"type\":\"heatmapgl\"}],\"histogram\":[{\"marker\":{\"pattern\":{\"fillmode\":\"overlay\",\"size\":10,\"solidity\":0.2}},\"type\":\"histogram\"}],\"histogram2d\":[{\"colorbar\":{\"outlinewidth\":0,\"ticks\":\"\"},\"colorscale\":[[0.0,\"#0d0887\"],[0.1111111111111111,\"#46039f\"],[0.2222222222222222,\"#7201a8\"],[0.3333333333333333,\"#9c179e\"],[0.4444444444444444,\"#bd3786\"],[0.5555555555555556,\"#d8576b\"],[0.6666666666666666,\"#ed7953\"],[0.7777777777777778,\"#fb9f3a\"],[0.8888888888888888,\"#fdca26\"],[1.0,\"#f0f921\"]],\"type\":\"histogram2d\"}],\"histogram2dcontour\":[{\"colorbar\":{\"outlinewidth\":0,\"ticks\":\"\"},\"colorscale\":[[0.0,\"#0d0887\"],[0.1111111111111111,\"#46039f\"],[0.2222222222222222,\"#7201a8\"],[0.3333333333333333,\"#9c179e\"],[0.4444444444444444,\"#bd3786\"],[0.5555555555555556,\"#d8576b\"],[0.6666666666666666,\"#ed7953\"],[0.7777777777777778,\"#fb9f3a\"],[0.8888888888888888,\"#fdca26\"],[1.0,\"#f0f921\"]],\"type\":\"histogram2dcontour\"}],\"mesh3d\":[{\"colorbar\":{\"outlinewidth\":0,\"ticks\":\"\"},\"type\":\"mesh3d\"}],\"parcoords\":[{\"line\":{\"colorbar\":{\"outlinewidth\":0,\"ticks\":\"\"}},\"type\":\"parcoords\"}],\"pie\":[{\"automargin\":true,\"type\":\"pie\"}],\"scatter\":[{\"marker\":{\"colorbar\":{\"outlinewidth\":0,\"ticks\":\"\"}},\"type\":\"scatter\"}],\"scatter3d\":[{\"line\":{\"colorbar\":{\"outlinewidth\":0,\"ticks\":\"\"}},\"marker\":{\"colorbar\":{\"outlinewidth\":0,\"ticks\":\"\"}},\"type\":\"scatter3d\"}],\"scattercarpet\":[{\"marker\":{\"colorbar\":{\"outlinewidth\":0,\"ticks\":\"\"}},\"type\":\"scattercarpet\"}],\"scattergeo\":[{\"marker\":{\"colorbar\":{\"outlinewidth\":0,\"ticks\":\"\"}},\"type\":\"scattergeo\"}],\"scattergl\":[{\"marker\":{\"colorbar\":{\"outlinewidth\":0,\"ticks\":\"\"}},\"type\":\"scattergl\"}],\"scattermapbox\":[{\"marker\":{\"colorbar\":{\"outlinewidth\":0,\"ticks\":\"\"}},\"type\":\"scattermapbox\"}],\"scatterpolar\":[{\"marker\":{\"colorbar\":{\"outlinewidth\":0,\"ticks\":\"\"}},\"type\":\"scatterpolar\"}],\"scatterpolargl\":[{\"marker\":{\"colorbar\":{\"outlinewidth\":0,\"ticks\":\"\"}},\"type\":\"scatterpolargl\"}],\"scatterternary\":[{\"marker\":{\"colorbar\":{\"outlinewidth\":0,\"ticks\":\"\"}},\"type\":\"scatterternary\"}],\"surface\":[{\"colorbar\":{\"outlinewidth\":0,\"ticks\":\"\"},\"colorscale\":[[0.0,\"#0d0887\"],[0.1111111111111111,\"#46039f\"],[0.2222222222222222,\"#7201a8\"],[0.3333333333333333,\"#9c179e\"],[0.4444444444444444,\"#bd3786\"],[0.5555555555555556,\"#d8576b\"],[0.6666666666666666,\"#ed7953\"],[0.7777777777777778,\"#fb9f3a\"],[0.8888888888888888,\"#fdca26\"],[1.0,\"#f0f921\"]],\"type\":\"surface\"}],\"table\":[{\"cells\":{\"fill\":{\"color\":\"#EBF0F8\"},\"line\":{\"color\":\"white\"}},\"header\":{\"fill\":{\"color\":\"#C8D4E3\"},\"line\":{\"color\":\"white\"}},\"type\":\"table\"}]},\"layout\":{\"annotationdefaults\":{\"arrowcolor\":\"#2a3f5f\",\"arrowhead\":0,\"arrowwidth\":1},\"autotypenumbers\":\"strict\",\"coloraxis\":{\"colorbar\":{\"outlinewidth\":0,\"ticks\":\"\"}},\"colorscale\":{\"diverging\":[[0,\"#8e0152\"],[0.1,\"#c51b7d\"],[0.2,\"#de77ae\"],[0.3,\"#f1b6da\"],[0.4,\"#fde0ef\"],[0.5,\"#f7f7f7\"],[0.6,\"#e6f5d0\"],[0.7,\"#b8e186\"],[0.8,\"#7fbc41\"],[0.9,\"#4d9221\"],[1,\"#276419\"]],\"sequential\":[[0.0,\"#0d0887\"],[0.1111111111111111,\"#46039f\"],[0.2222222222222222,\"#7201a8\"],[0.3333333333333333,\"#9c179e\"],[0.4444444444444444,\"#bd3786\"],[0.5555555555555556,\"#d8576b\"],[0.6666666666666666,\"#ed7953\"],[0.7777777777777778,\"#fb9f3a\"],[0.8888888888888888,\"#fdca26\"],[1.0,\"#f0f921\"]],\"sequentialminus\":[[0.0,\"#0d0887\"],[0.1111111111111111,\"#46039f\"],[0.2222222222222222,\"#7201a8\"],[0.3333333333333333,\"#9c179e\"],[0.4444444444444444,\"#bd3786\"],[0.5555555555555556,\"#d8576b\"],[0.6666666666666666,\"#ed7953\"],[0.7777777777777778,\"#fb9f3a\"],[0.8888888888888888,\"#fdca26\"],[1.0,\"#f0f921\"]]},\"colorway\":[\"#636efa\",\"#EF553B\",\"#00cc96\",\"#ab63fa\",\"#FFA15A\",\"#19d3f3\",\"#FF6692\",\"#B6E880\",\"#FF97FF\",\"#FECB52\"],\"font\":{\"color\":\"#2a3f5f\"},\"geo\":{\"bgcolor\":\"white\",\"lakecolor\":\"white\",\"landcolor\":\"#E5ECF6\",\"showlakes\":true,\"showland\":true,\"subunitcolor\":\"white\"},\"hoverlabel\":{\"align\":\"left\"},\"hovermode\":\"closest\",\"mapbox\":{\"style\":\"light\"},\"paper_bgcolor\":\"white\",\"plot_bgcolor\":\"#E5ECF6\",\"polar\":{\"angularaxis\":{\"gridcolor\":\"white\",\"linecolor\":\"white\",\"ticks\":\"\"},\"bgcolor\":\"#E5ECF6\",\"radialaxis\":{\"gridcolor\":\"white\",\"linecolor\":\"white\",\"ticks\":\"\"}},\"scene\":{\"xaxis\":{\"backgroundcolor\":\"#E5ECF6\",\"gridcolor\":\"white\",\"gridwidth\":2,\"linecolor\":\"white\",\"showbackground\":true,\"ticks\":\"\",\"zerolinecolor\":\"white\"},\"yaxis\":{\"backgroundcolor\":\"#E5ECF6\",\"gridcolor\":\"white\",\"gridwidth\":2,\"linecolor\":\"white\",\"showbackground\":true,\"ticks\":\"\",\"zerolinecolor\":\"white\"},\"zaxis\":{\"backgroundcolor\":\"#E5ECF6\",\"gridcolor\":\"white\",\"gridwidth\":2,\"linecolor\":\"white\",\"showbackground\":true,\"ticks\":\"\",\"zerolinecolor\":\"white\"}},\"shapedefaults\":{\"line\":{\"color\":\"#2a3f5f\"}},\"ternary\":{\"aaxis\":{\"gridcolor\":\"white\",\"linecolor\":\"white\",\"ticks\":\"\"},\"baxis\":{\"gridcolor\":\"white\",\"linecolor\":\"white\",\"ticks\":\"\"},\"bgcolor\":\"#E5ECF6\",\"caxis\":{\"gridcolor\":\"white\",\"linecolor\":\"white\",\"ticks\":\"\"}},\"title\":{\"x\":0.05},\"xaxis\":{\"automargin\":true,\"gridcolor\":\"white\",\"linecolor\":\"white\",\"ticks\":\"\",\"title\":{\"standoff\":15},\"zerolinecolor\":\"white\",\"zerolinewidth\":2},\"yaxis\":{\"automargin\":true,\"gridcolor\":\"white\",\"linecolor\":\"white\",\"ticks\":\"\",\"title\":{\"standoff\":15},\"zerolinecolor\":\"white\",\"zerolinewidth\":2}}}},                        {\"responsive\": true}                    ).then(function(){\n",
              "                            \n",
              "var gd = document.getElementById('29173544-a4f3-4747-b692-9f2c0381c196');\n",
              "var x = new MutationObserver(function (mutations, observer) {{\n",
              "        var display = window.getComputedStyle(gd).display;\n",
              "        if (!display || display === 'none') {{\n",
              "            console.log([gd, 'removed!']);\n",
              "            Plotly.purge(gd);\n",
              "            observer.disconnect();\n",
              "        }}\n",
              "}});\n",
              "\n",
              "// Listen for the removal of the full notebook cells\n",
              "var notebookContainer = gd.closest('#notebook-container');\n",
              "if (notebookContainer) {{\n",
              "    x.observe(notebookContainer, {childList: true});\n",
              "}}\n",
              "\n",
              "// Listen for the clearing of the current output cell\n",
              "var outputEl = gd.closest('.output');\n",
              "if (outputEl) {{\n",
              "    x.observe(outputEl, {childList: true});\n",
              "}}\n",
              "\n",
              "                        })                };                            </script>        </div>\n",
              "</body>\n",
              "</html>"
            ]
          },
          "metadata": {}
        }
      ]
    },
    {
      "cell_type": "code",
      "execution_count": null,
      "metadata": {
        "id": "Tld-I0yjkhNS"
      },
      "outputs": [],
      "source": [
        "# 保存した結果の読み込み\n",
        "study = optuna.load_study(study_name='study_1', storage='sqlite:////content/gdrive/MyDrive/kaggle/zillow_prize/results/study_1.db')"
      ]
    },
    {
      "cell_type": "code",
      "execution_count": null,
      "metadata": {
        "colab": {
          "base_uri": "https://localhost:8080/",
          "height": 260
        },
        "outputId": "859f85b6-4b8b-442b-9c42-d7821cd905e6",
        "id": "SNdyzX-akhNT"
      },
      "outputs": [
        {
          "output_type": "execute_result",
          "data": {
            "text/plain": [
              "   number     value             datetime_start          datetime_complete  \\\n",
              "0       0 -0.069518 2022-04-13 06:23:58.408941 2022-04-13 06:24:20.981457   \n",
              "1       1 -0.069427 2022-04-13 06:24:21.071990 2022-04-13 06:24:35.327942   \n",
              "2       2 -0.070328 2022-04-13 06:24:35.414448 2022-04-13 06:25:16.849533   \n",
              "\n",
              "                duration  params_alpha  params_colsample_bytree  \\\n",
              "0 0 days 00:00:22.572516      0.012986                      0.6   \n",
              "1 0 days 00:00:14.255952      0.022103                      0.9   \n",
              "2 0 days 00:00:41.435085      0.150917                      0.9   \n",
              "\n",
              "   params_lambda  params_learning_rate  params_max_depth  \\\n",
              "0       0.149149                 0.014                 7   \n",
              "1       1.864651                 0.012                 4   \n",
              "2       0.006920                 0.014                15   \n",
              "\n",
              "   params_min_child_weight  params_subsample     state  \n",
              "0                      283               0.8  COMPLETE  \n",
              "1                        7               0.7  COMPLETE  \n",
              "2                      284               0.7  COMPLETE  "
            ],
            "text/html": [
              "\n",
              "  <div id=\"df-53965854-edd5-4f60-859a-cda044cbfd02\">\n",
              "    <div class=\"colab-df-container\">\n",
              "      <div>\n",
              "<style scoped>\n",
              "    .dataframe tbody tr th:only-of-type {\n",
              "        vertical-align: middle;\n",
              "    }\n",
              "\n",
              "    .dataframe tbody tr th {\n",
              "        vertical-align: top;\n",
              "    }\n",
              "\n",
              "    .dataframe thead th {\n",
              "        text-align: right;\n",
              "    }\n",
              "</style>\n",
              "<table border=\"1\" class=\"dataframe\">\n",
              "  <thead>\n",
              "    <tr style=\"text-align: right;\">\n",
              "      <th></th>\n",
              "      <th>number</th>\n",
              "      <th>value</th>\n",
              "      <th>datetime_start</th>\n",
              "      <th>datetime_complete</th>\n",
              "      <th>duration</th>\n",
              "      <th>params_alpha</th>\n",
              "      <th>params_colsample_bytree</th>\n",
              "      <th>params_lambda</th>\n",
              "      <th>params_learning_rate</th>\n",
              "      <th>params_max_depth</th>\n",
              "      <th>params_min_child_weight</th>\n",
              "      <th>params_subsample</th>\n",
              "      <th>state</th>\n",
              "    </tr>\n",
              "  </thead>\n",
              "  <tbody>\n",
              "    <tr>\n",
              "      <th>0</th>\n",
              "      <td>0</td>\n",
              "      <td>-0.069518</td>\n",
              "      <td>2022-04-13 06:23:58.408941</td>\n",
              "      <td>2022-04-13 06:24:20.981457</td>\n",
              "      <td>0 days 00:00:22.572516</td>\n",
              "      <td>0.012986</td>\n",
              "      <td>0.6</td>\n",
              "      <td>0.149149</td>\n",
              "      <td>0.014</td>\n",
              "      <td>7</td>\n",
              "      <td>283</td>\n",
              "      <td>0.8</td>\n",
              "      <td>COMPLETE</td>\n",
              "    </tr>\n",
              "    <tr>\n",
              "      <th>1</th>\n",
              "      <td>1</td>\n",
              "      <td>-0.069427</td>\n",
              "      <td>2022-04-13 06:24:21.071990</td>\n",
              "      <td>2022-04-13 06:24:35.327942</td>\n",
              "      <td>0 days 00:00:14.255952</td>\n",
              "      <td>0.022103</td>\n",
              "      <td>0.9</td>\n",
              "      <td>1.864651</td>\n",
              "      <td>0.012</td>\n",
              "      <td>4</td>\n",
              "      <td>7</td>\n",
              "      <td>0.7</td>\n",
              "      <td>COMPLETE</td>\n",
              "    </tr>\n",
              "    <tr>\n",
              "      <th>2</th>\n",
              "      <td>2</td>\n",
              "      <td>-0.070328</td>\n",
              "      <td>2022-04-13 06:24:35.414448</td>\n",
              "      <td>2022-04-13 06:25:16.849533</td>\n",
              "      <td>0 days 00:00:41.435085</td>\n",
              "      <td>0.150917</td>\n",
              "      <td>0.9</td>\n",
              "      <td>0.006920</td>\n",
              "      <td>0.014</td>\n",
              "      <td>15</td>\n",
              "      <td>284</td>\n",
              "      <td>0.7</td>\n",
              "      <td>COMPLETE</td>\n",
              "    </tr>\n",
              "  </tbody>\n",
              "</table>\n",
              "</div>\n",
              "      <button class=\"colab-df-convert\" onclick=\"convertToInteractive('df-53965854-edd5-4f60-859a-cda044cbfd02')\"\n",
              "              title=\"Convert this dataframe to an interactive table.\"\n",
              "              style=\"display:none;\">\n",
              "        \n",
              "  <svg xmlns=\"http://www.w3.org/2000/svg\" height=\"24px\"viewBox=\"0 0 24 24\"\n",
              "       width=\"24px\">\n",
              "    <path d=\"M0 0h24v24H0V0z\" fill=\"none\"/>\n",
              "    <path d=\"M18.56 5.44l.94 2.06.94-2.06 2.06-.94-2.06-.94-.94-2.06-.94 2.06-2.06.94zm-11 1L8.5 8.5l.94-2.06 2.06-.94-2.06-.94L8.5 2.5l-.94 2.06-2.06.94zm10 10l.94 2.06.94-2.06 2.06-.94-2.06-.94-.94-2.06-.94 2.06-2.06.94z\"/><path d=\"M17.41 7.96l-1.37-1.37c-.4-.4-.92-.59-1.43-.59-.52 0-1.04.2-1.43.59L10.3 9.45l-7.72 7.72c-.78.78-.78 2.05 0 2.83L4 21.41c.39.39.9.59 1.41.59.51 0 1.02-.2 1.41-.59l7.78-7.78 2.81-2.81c.8-.78.8-2.07 0-2.86zM5.41 20L4 18.59l7.72-7.72 1.47 1.35L5.41 20z\"/>\n",
              "  </svg>\n",
              "      </button>\n",
              "      \n",
              "  <style>\n",
              "    .colab-df-container {\n",
              "      display:flex;\n",
              "      flex-wrap:wrap;\n",
              "      gap: 12px;\n",
              "    }\n",
              "\n",
              "    .colab-df-convert {\n",
              "      background-color: #E8F0FE;\n",
              "      border: none;\n",
              "      border-radius: 50%;\n",
              "      cursor: pointer;\n",
              "      display: none;\n",
              "      fill: #1967D2;\n",
              "      height: 32px;\n",
              "      padding: 0 0 0 0;\n",
              "      width: 32px;\n",
              "    }\n",
              "\n",
              "    .colab-df-convert:hover {\n",
              "      background-color: #E2EBFA;\n",
              "      box-shadow: 0px 1px 2px rgba(60, 64, 67, 0.3), 0px 1px 3px 1px rgba(60, 64, 67, 0.15);\n",
              "      fill: #174EA6;\n",
              "    }\n",
              "\n",
              "    [theme=dark] .colab-df-convert {\n",
              "      background-color: #3B4455;\n",
              "      fill: #D2E3FC;\n",
              "    }\n",
              "\n",
              "    [theme=dark] .colab-df-convert:hover {\n",
              "      background-color: #434B5C;\n",
              "      box-shadow: 0px 1px 3px 1px rgba(0, 0, 0, 0.15);\n",
              "      filter: drop-shadow(0px 1px 2px rgba(0, 0, 0, 0.3));\n",
              "      fill: #FFFFFF;\n",
              "    }\n",
              "  </style>\n",
              "\n",
              "      <script>\n",
              "        const buttonEl =\n",
              "          document.querySelector('#df-53965854-edd5-4f60-859a-cda044cbfd02 button.colab-df-convert');\n",
              "        buttonEl.style.display =\n",
              "          google.colab.kernel.accessAllowed ? 'block' : 'none';\n",
              "\n",
              "        async function convertToInteractive(key) {\n",
              "          const element = document.querySelector('#df-53965854-edd5-4f60-859a-cda044cbfd02');\n",
              "          const dataTable =\n",
              "            await google.colab.kernel.invokeFunction('convertToInteractive',\n",
              "                                                     [key], {});\n",
              "          if (!dataTable) return;\n",
              "\n",
              "          const docLinkHtml = 'Like what you see? Visit the ' +\n",
              "            '<a target=\"_blank\" href=https://colab.research.google.com/notebooks/data_table.ipynb>data table notebook</a>'\n",
              "            + ' to learn more about interactive tables.';\n",
              "          element.innerHTML = '';\n",
              "          dataTable['output_type'] = 'display_data';\n",
              "          await google.colab.output.renderOutput(dataTable, element);\n",
              "          const docLink = document.createElement('div');\n",
              "          docLink.innerHTML = docLinkHtml;\n",
              "          element.appendChild(docLink);\n",
              "        }\n",
              "      </script>\n",
              "    </div>\n",
              "  </div>\n",
              "  "
            ]
          },
          "metadata": {},
          "execution_count": 44
        }
      ],
      "source": [
        "study.trials_dataframe()"
      ]
    },
    {
      "cell_type": "code",
      "source": [
        "# optunaにcvを含める　optuna単体でハイパラ探索してからcvをかけるのか？"
      ],
      "metadata": {
        "id": "EjdlOqK5KW8Z"
      },
      "execution_count": null,
      "outputs": []
    },
    {
      "cell_type": "code",
      "source": [
        "best_param = study.best_params\n",
        "best_param"
      ],
      "metadata": {
        "colab": {
          "base_uri": "https://localhost:8080/"
        },
        "id": "nTksOwTLK2YM",
        "outputId": "4f236bdf-d254-47cc-fe66-5486fee35891"
      },
      "execution_count": null,
      "outputs": [
        {
          "output_type": "execute_result",
          "data": {
            "text/plain": [
              "{'alpha': 0.022102825780085232,\n",
              " 'colsample_bytree': 0.9,\n",
              " 'lambda': 1.864650814036825,\n",
              " 'learning_rate': 0.012,\n",
              " 'max_depth': 4,\n",
              " 'min_child_weight': 7,\n",
              " 'subsample': 0.7}"
            ]
          },
          "metadata": {},
          "execution_count": 53
        }
      ]
    },
    {
      "cell_type": "code",
      "source": [
        "add_param = {'n_estimators': 1000,\n",
        "            'tree_method': 'gpu_hist',\n",
        "            'predictor': 'gpu_predictor',\n",
        "            'gpu_id': 0,\n",
        "            'verbosity': 1}"
      ],
      "metadata": {
        "id": "txgCZpMgMXKo"
      },
      "execution_count": null,
      "outputs": []
    },
    {
      "cell_type": "code",
      "source": [
        "best_param.update(add_param)\n",
        "best_param"
      ],
      "metadata": {
        "colab": {
          "base_uri": "https://localhost:8080/"
        },
        "id": "LKRk1mTkL2Jv",
        "outputId": "fc406d3f-990f-4dae-8bca-ac88d45f11d9"
      },
      "execution_count": null,
      "outputs": [
        {
          "output_type": "execute_result",
          "data": {
            "text/plain": [
              "{'alpha': 0.022102825780085232,\n",
              " 'colsample_bytree': 0.9,\n",
              " 'gpu_id': 0,\n",
              " 'lambda': 1.864650814036825,\n",
              " 'learning_rate': 0.012,\n",
              " 'max_depth': 4,\n",
              " 'min_child_weight': 7,\n",
              " 'n_estimators': 1000,\n",
              " 'predictor': 'gpu_predictor',\n",
              " 'subsample': 0.7,\n",
              " 'tree_method': 'gpu_hist',\n",
              " 'verbosity': 1}"
            ]
          },
          "metadata": {},
          "execution_count": 55
        }
      ]
    },
    {
      "cell_type": "code",
      "source": [
        "#final model\n",
        "# metric や objective の情報は失われてしまうようなので、study.best_params を変数に代入し、metric や objectiveを改めて追加する\n",
        "model_f = xgbreg(**best_param)"
      ],
      "metadata": {
        "id": "bGImcHM40OGP"
      },
      "execution_count": null,
      "outputs": []
    },
    {
      "cell_type": "code",
      "source": [
        "model_f.predict()"
      ],
      "metadata": {
        "id": "LD4QtoGHMzUz"
      },
      "execution_count": null,
      "outputs": []
    },
    {
      "cell_type": "code",
      "source": [
        "sample_sub = pd.read_csv(\"/content/gdrive/MyDrive/kaggle/zillow_prize/datasets/sample_submission.csv\", index_col='ParcelId')"
      ],
      "metadata": {
        "id": "-LiiD33tvrkv"
      },
      "execution_count": null,
      "outputs": []
    },
    {
      "cell_type": "code",
      "source": [
        "sample_sub"
      ],
      "metadata": {
        "colab": {
          "base_uri": "https://localhost:8080/",
          "height": 455
        },
        "id": "WqTeHdIq0Ubo",
        "outputId": "71668a9f-d074-44e5-b44d-ccc98f931c30"
      },
      "execution_count": null,
      "outputs": [
        {
          "output_type": "execute_result",
          "data": {
            "text/plain": [
              "           201610  201611  201612  201710  201711  201712\n",
              "ParcelId                                                 \n",
              "10754147        0       0       0       0       0       0\n",
              "10759547        0       0       0       0       0       0\n",
              "10843547        0       0       0       0       0       0\n",
              "10859147        0       0       0       0       0       0\n",
              "10879947        0       0       0       0       0       0\n",
              "...           ...     ...     ...     ...     ...     ...\n",
              "168176230       0       0       0       0       0       0\n",
              "14273630        0       0       0       0       0       0\n",
              "168040630       0       0       0       0       0       0\n",
              "168040830       0       0       0       0       0       0\n",
              "168040430       0       0       0       0       0       0\n",
              "\n",
              "[2985217 rows x 6 columns]"
            ],
            "text/html": [
              "\n",
              "  <div id=\"df-9a9c1db7-56f4-4050-bc81-73b545004f8b\">\n",
              "    <div class=\"colab-df-container\">\n",
              "      <div>\n",
              "<style scoped>\n",
              "    .dataframe tbody tr th:only-of-type {\n",
              "        vertical-align: middle;\n",
              "    }\n",
              "\n",
              "    .dataframe tbody tr th {\n",
              "        vertical-align: top;\n",
              "    }\n",
              "\n",
              "    .dataframe thead th {\n",
              "        text-align: right;\n",
              "    }\n",
              "</style>\n",
              "<table border=\"1\" class=\"dataframe\">\n",
              "  <thead>\n",
              "    <tr style=\"text-align: right;\">\n",
              "      <th></th>\n",
              "      <th>201610</th>\n",
              "      <th>201611</th>\n",
              "      <th>201612</th>\n",
              "      <th>201710</th>\n",
              "      <th>201711</th>\n",
              "      <th>201712</th>\n",
              "    </tr>\n",
              "    <tr>\n",
              "      <th>ParcelId</th>\n",
              "      <th></th>\n",
              "      <th></th>\n",
              "      <th></th>\n",
              "      <th></th>\n",
              "      <th></th>\n",
              "      <th></th>\n",
              "    </tr>\n",
              "  </thead>\n",
              "  <tbody>\n",
              "    <tr>\n",
              "      <th>10754147</th>\n",
              "      <td>0</td>\n",
              "      <td>0</td>\n",
              "      <td>0</td>\n",
              "      <td>0</td>\n",
              "      <td>0</td>\n",
              "      <td>0</td>\n",
              "    </tr>\n",
              "    <tr>\n",
              "      <th>10759547</th>\n",
              "      <td>0</td>\n",
              "      <td>0</td>\n",
              "      <td>0</td>\n",
              "      <td>0</td>\n",
              "      <td>0</td>\n",
              "      <td>0</td>\n",
              "    </tr>\n",
              "    <tr>\n",
              "      <th>10843547</th>\n",
              "      <td>0</td>\n",
              "      <td>0</td>\n",
              "      <td>0</td>\n",
              "      <td>0</td>\n",
              "      <td>0</td>\n",
              "      <td>0</td>\n",
              "    </tr>\n",
              "    <tr>\n",
              "      <th>10859147</th>\n",
              "      <td>0</td>\n",
              "      <td>0</td>\n",
              "      <td>0</td>\n",
              "      <td>0</td>\n",
              "      <td>0</td>\n",
              "      <td>0</td>\n",
              "    </tr>\n",
              "    <tr>\n",
              "      <th>10879947</th>\n",
              "      <td>0</td>\n",
              "      <td>0</td>\n",
              "      <td>0</td>\n",
              "      <td>0</td>\n",
              "      <td>0</td>\n",
              "      <td>0</td>\n",
              "    </tr>\n",
              "    <tr>\n",
              "      <th>...</th>\n",
              "      <td>...</td>\n",
              "      <td>...</td>\n",
              "      <td>...</td>\n",
              "      <td>...</td>\n",
              "      <td>...</td>\n",
              "      <td>...</td>\n",
              "    </tr>\n",
              "    <tr>\n",
              "      <th>168176230</th>\n",
              "      <td>0</td>\n",
              "      <td>0</td>\n",
              "      <td>0</td>\n",
              "      <td>0</td>\n",
              "      <td>0</td>\n",
              "      <td>0</td>\n",
              "    </tr>\n",
              "    <tr>\n",
              "      <th>14273630</th>\n",
              "      <td>0</td>\n",
              "      <td>0</td>\n",
              "      <td>0</td>\n",
              "      <td>0</td>\n",
              "      <td>0</td>\n",
              "      <td>0</td>\n",
              "    </tr>\n",
              "    <tr>\n",
              "      <th>168040630</th>\n",
              "      <td>0</td>\n",
              "      <td>0</td>\n",
              "      <td>0</td>\n",
              "      <td>0</td>\n",
              "      <td>0</td>\n",
              "      <td>0</td>\n",
              "    </tr>\n",
              "    <tr>\n",
              "      <th>168040830</th>\n",
              "      <td>0</td>\n",
              "      <td>0</td>\n",
              "      <td>0</td>\n",
              "      <td>0</td>\n",
              "      <td>0</td>\n",
              "      <td>0</td>\n",
              "    </tr>\n",
              "    <tr>\n",
              "      <th>168040430</th>\n",
              "      <td>0</td>\n",
              "      <td>0</td>\n",
              "      <td>0</td>\n",
              "      <td>0</td>\n",
              "      <td>0</td>\n",
              "      <td>0</td>\n",
              "    </tr>\n",
              "  </tbody>\n",
              "</table>\n",
              "<p>2985217 rows × 6 columns</p>\n",
              "</div>\n",
              "      <button class=\"colab-df-convert\" onclick=\"convertToInteractive('df-9a9c1db7-56f4-4050-bc81-73b545004f8b')\"\n",
              "              title=\"Convert this dataframe to an interactive table.\"\n",
              "              style=\"display:none;\">\n",
              "        \n",
              "  <svg xmlns=\"http://www.w3.org/2000/svg\" height=\"24px\"viewBox=\"0 0 24 24\"\n",
              "       width=\"24px\">\n",
              "    <path d=\"M0 0h24v24H0V0z\" fill=\"none\"/>\n",
              "    <path d=\"M18.56 5.44l.94 2.06.94-2.06 2.06-.94-2.06-.94-.94-2.06-.94 2.06-2.06.94zm-11 1L8.5 8.5l.94-2.06 2.06-.94-2.06-.94L8.5 2.5l-.94 2.06-2.06.94zm10 10l.94 2.06.94-2.06 2.06-.94-2.06-.94-.94-2.06-.94 2.06-2.06.94z\"/><path d=\"M17.41 7.96l-1.37-1.37c-.4-.4-.92-.59-1.43-.59-.52 0-1.04.2-1.43.59L10.3 9.45l-7.72 7.72c-.78.78-.78 2.05 0 2.83L4 21.41c.39.39.9.59 1.41.59.51 0 1.02-.2 1.41-.59l7.78-7.78 2.81-2.81c.8-.78.8-2.07 0-2.86zM5.41 20L4 18.59l7.72-7.72 1.47 1.35L5.41 20z\"/>\n",
              "  </svg>\n",
              "      </button>\n",
              "      \n",
              "  <style>\n",
              "    .colab-df-container {\n",
              "      display:flex;\n",
              "      flex-wrap:wrap;\n",
              "      gap: 12px;\n",
              "    }\n",
              "\n",
              "    .colab-df-convert {\n",
              "      background-color: #E8F0FE;\n",
              "      border: none;\n",
              "      border-radius: 50%;\n",
              "      cursor: pointer;\n",
              "      display: none;\n",
              "      fill: #1967D2;\n",
              "      height: 32px;\n",
              "      padding: 0 0 0 0;\n",
              "      width: 32px;\n",
              "    }\n",
              "\n",
              "    .colab-df-convert:hover {\n",
              "      background-color: #E2EBFA;\n",
              "      box-shadow: 0px 1px 2px rgba(60, 64, 67, 0.3), 0px 1px 3px 1px rgba(60, 64, 67, 0.15);\n",
              "      fill: #174EA6;\n",
              "    }\n",
              "\n",
              "    [theme=dark] .colab-df-convert {\n",
              "      background-color: #3B4455;\n",
              "      fill: #D2E3FC;\n",
              "    }\n",
              "\n",
              "    [theme=dark] .colab-df-convert:hover {\n",
              "      background-color: #434B5C;\n",
              "      box-shadow: 0px 1px 3px 1px rgba(0, 0, 0, 0.15);\n",
              "      filter: drop-shadow(0px 1px 2px rgba(0, 0, 0, 0.3));\n",
              "      fill: #FFFFFF;\n",
              "    }\n",
              "  </style>\n",
              "\n",
              "      <script>\n",
              "        const buttonEl =\n",
              "          document.querySelector('#df-9a9c1db7-56f4-4050-bc81-73b545004f8b button.colab-df-convert');\n",
              "        buttonEl.style.display =\n",
              "          google.colab.kernel.accessAllowed ? 'block' : 'none';\n",
              "\n",
              "        async function convertToInteractive(key) {\n",
              "          const element = document.querySelector('#df-9a9c1db7-56f4-4050-bc81-73b545004f8b');\n",
              "          const dataTable =\n",
              "            await google.colab.kernel.invokeFunction('convertToInteractive',\n",
              "                                                     [key], {});\n",
              "          if (!dataTable) return;\n",
              "\n",
              "          const docLinkHtml = 'Like what you see? Visit the ' +\n",
              "            '<a target=\"_blank\" href=https://colab.research.google.com/notebooks/data_table.ipynb>data table notebook</a>'\n",
              "            + ' to learn more about interactive tables.';\n",
              "          element.innerHTML = '';\n",
              "          dataTable['output_type'] = 'display_data';\n",
              "          await google.colab.output.renderOutput(dataTable, element);\n",
              "          const docLink = document.createElement('div');\n",
              "          docLink.innerHTML = docLinkHtml;\n",
              "          element.appendChild(docLink);\n",
              "        }\n",
              "      </script>\n",
              "    </div>\n",
              "  </div>\n",
              "  "
            ]
          },
          "metadata": {},
          "execution_count": 51
        }
      ]
    },
    {
      "cell_type": "markdown",
      "source": [
        "# Optuna + Pipeline + XGBReg"
      ],
      "metadata": {
        "id": "4tUd64flhnzT"
      }
    },
    {
      "cell_type": "code",
      "source": [
        "# params = {\n",
        "#         'max_depth': trial.suggest_int('max_depth', 2, 15),\n",
        "#         'subsample': trial.suggest_discrete_uniform('subsample', 0.6, 1.0, 0.05),\n",
        "#         'eta': trial.suggest_discrete_uniform('eta', 0.01, 0.1, 0.01),\n",
        "# #         'reg_alpha': trial.suggest_int('reg_alpha', 1, 50),\n",
        "# #         'reg_lambda': trial.suggest_int('reg_lambda', 5, 100),\n",
        "#         'min_child_weight': trial.suggest_int('min_child_weight', 2, 20),\n",
        "#         \"colsample_bytree\": trial.suggest_float(\"colsample_bytree\", 0.1, 1.0),\n",
        "#         \"objective\": \"reg:linear\",\n",
        "#         \"eval_metric\": \"mae\",\n",
        "#         \"tree_method\": 'gpu_hist',\n",
        "#         \"predictor\": 'gpu_predictor',\n",
        "#         \"gpu_id\": 0,\n",
        "#         \"verbosity\": 0,\n",
        "#     }"
      ],
      "metadata": {
        "id": "3PHBXMe8iokX"
      },
      "execution_count": null,
      "outputs": []
    },
    {
      "cell_type": "code",
      "execution_count": null,
      "metadata": {
        "id": "kqG28qp65ktF"
      },
      "outputs": [],
      "source": [
        "# sklearnのpipelineを用いたいならXGBもsklearnAPIで記述する必要がありそう。\n",
        "# eval_metricおよびobjectiveは、cross_valで最大化or最小化したい評価指標に合わせることが望ましい。\n",
        "# https://qiita.com/c60evaporator/items/a9a049c3469f6b4872c6\n",
        "\n",
        "from sklearn.compose import ColumnTransformer\n",
        "from sklearn.pipeline import Pipeline\n",
        "from sklearn.impute import SimpleImputer\n",
        "from sklearn.preprocessing import OneHotEncoder\n",
        "import xgboost as xgb\n",
        "from xgboost import XGBRegressor as xgbreg\n",
        "from sklearn.metrics import mean_absolute_error\n",
        "\n",
        "# # Preprocessing for numerical data\n",
        "# numerical_transformer = SimpleImputer(strategy='constant')\n",
        "\n",
        "# # Preprocessing for categorical data\n",
        "# categorical_transformer = Pipeline(steps=[\n",
        "#     ('imputer', SimpleImputer(strategy='most_frequent')),\n",
        "#     ('onehot', OneHotEncoder(handle_unknown='ignore'))])\n",
        "\n",
        "# # Bundle preprocessing for numerical and categorical data\n",
        "# preprocessor = ColumnTransformer(transformers=[\n",
        "#         ('num', numerical_transformer, numerical_cols),\n",
        "#         ('cat', categorical_transformer, categorical_cols)])\n",
        "\n",
        "# # Define model\n",
        "# model = xgbreg(objective=\"reg:squarederror\")\n",
        "\n",
        "# # Bundle preprocessing and modeling code in a pipeline\n",
        "# reg = Pipeline(steps=[('preprocessor', preprocessor),\n",
        "#                       ('model', model)])\n",
        "\n",
        "def objective(trial, X_tr=X_tr, X_val=X_val, y_tr= y_tr):\n",
        "    param = {\n",
        "        'n_estimators': 10000,\n",
        "        'lambda': trial.suggest_loguniform('lambda', 1e-3, 10.0),\n",
        "        'alpha': trial.suggest_loguniform('alpha', 1e-3, 10.0),\n",
        "        'colsample_bytree': trial.suggest_categorical('colsample_bytree', [0.5, 0.6, 0.7, 0.8, 0.9, 1.0]),\n",
        "        'subsampele': trial.suggest_categorical('subsample', [0.6, 0.7, 0.8, 1.0]),\n",
        "        'learning_rate': trial.suggest_categorical('learning_rate', [0.008, 0.01, 0.012, 0.014]),\n",
        "        'max_depth': trial.suggest_categorical('max_depth', [4,5,7,9,15]),\n",
        "        'min_child_weight': trial.suggest_int('min_child_weight', 1, 300),\n",
        "        \"tree_method\": 'gpu_hist',\n",
        "        \"predictor\": 'gpu_predictor',\n",
        "        \"gpu_id\": 0,\n",
        "        \"verbosity\": 0}\n",
        "\n",
        "    fit_param = {\n",
        "        'model__eval_set': None,     #[(X_val, y_val)]を変換後に加える。\n",
        "        'model__eval_metric': 'mae',\n",
        "        'model__early_stopping_rounds': 500,\n",
        "        'model__verbose': True}\n",
        "\n",
        "    numerical_transformer = SimpleImputer(strategy='constant') # np.ndarrayの型で返される。 \n",
        "\n",
        "    # Preprocessing for categorical data\n",
        "    categorical_transformer = Pipeline(steps=[\n",
        "        ('imputer', SimpleImputer(strategy='most_frequent')),\n",
        "        ('onehot', OneHotEncoder(handle_unknown='ignore'))])\n",
        "\n",
        "    ## Bundle preprocessing for numerical and categorical data\n",
        "    # preprocessor = ColumnTransformer(transformers=[\n",
        "    #         ('num', numerical_transformer, numerical_cols)])\n",
        "    #         ('cat', categorical_transformer, categorical_cols)]) #元のコード\n",
        "    \n",
        "    # X_tr, X_valの全体でpreprocessorを学習させる。後にfit\n",
        "    preprocessor = ColumnTransformer(transformers=[\n",
        "            ('num', numerical_transformer, numerical_cols),\n",
        "            ('cat', categorical_transformer, categorical_cols),\n",
        "            ])\n",
        "    df_tr_ev = pd.concat([X_tr, X_val])\n",
        "    preprocessor.fit(df_tr_ev)\n",
        "    X_tr = preprocessor.transform(X_tr)\n",
        "    X_val = preprocessor.transform(X_val)\n",
        "    fit_param['model__eval_set'] = [(X_val, y_val)]\n",
        "    # Define model\n",
        "    model = xgbreg(objective=\"reg:squarederror\", **param)\n",
        "    \n",
        "    # Bundle preprocessing and modeling code in a pipeline\n",
        "    reg = Pipeline(steps=[('model', model)])\n",
        "     \n",
        "    reg.fit(X_tr, y_tr, **fit_param)\n",
        "    y_pred = reg.predict(X_val)\n",
        "    mae = mean_absolute_error(y_val, y_pred)\n",
        "    return mae"
      ]
    },
    {
      "cell_type": "code",
      "execution_count": null,
      "metadata": {
        "id": "nn_ZWKhsXXL0",
        "collapsed": true
      },
      "outputs": [],
      "source": [
        "import optuna\n",
        "sampler = optuna.samplers.TPESampler(seed=100)\n",
        "study = optuna.create_study(direction = 'minimize', study_name = \"study_1\", sampler=sampler, pruner=optuna.pruners.MedianPruner())\n",
        "study.optimize(objective,n_trials=50)"
      ]
    },
    {
      "cell_type": "code",
      "source": [
        "optuna.visualization.plot_parallel_coordinate(study)"
      ],
      "metadata": {
        "id": "xRLYCq3FuLZ9"
      },
      "execution_count": null,
      "outputs": []
    },
    {
      "cell_type": "code",
      "source": [
        "optuna.visualization.plot_optimization_history(study)"
      ],
      "metadata": {
        "id": "DvbviWMZg4-m"
      },
      "execution_count": null,
      "outputs": []
    },
    {
      "cell_type": "code",
      "source": [
        "import optuna\n",
        "\n",
        "\n",
        "def objective(trial):\n",
        "    x = trial.suggest_float(\"x\", -100, 100)\n",
        "    y = trial.suggest_categorical(\"y\", [-1, 0, 1])\n",
        "    return x ** 2 + y\n",
        "\n",
        "\n",
        "sampler = optuna.samplers.TPESampler(seed=10)\n",
        "study = optuna.create_study(sampler=sampler)\n",
        "study.optimize(objective, n_trials=10)\n",
        "\n",
        "fig = optuna.visualization.plot_optimization_history(study)\n",
        "fig.show()"
      ],
      "metadata": {
        "id": "AlABBevDu58e"
      },
      "execution_count": null,
      "outputs": []
    },
    {
      "cell_type": "code",
      "source": [
        "for trial in study.get_trials():\n",
        "    print(f\"{trial.number}: {trial.value:.3f} ({trial.params['threshold']})\")"
      ],
      "metadata": {
        "id": "DApgwt6Aqvab"
      },
      "execution_count": null,
      "outputs": []
    },
    {
      "cell_type": "code",
      "source": [
        "# imputer_cat_pipeline = make_column_transformer(\n",
        "#     (make_pipeline(SimpleImputer(strategy='constant'), cat_columns_fill_miss),\n",
        "#     (make_pipeline(SimpleImputer(strategy='most_frequent'), cat_columns_fill_freq),\n",
        "# )\n",
        "\n",
        "# encoder_cat_pipeline = make_column_transformer(\n",
        "#     (OrdinalEncoder(categories=ord_mapping), cat_columns_ord),\n",
        "#     (OneHotEncoder(), cat_columns_onehot),\n",
        "# )\n",
        "\n",
        "# cat_pipeline = Pipeline([\n",
        "#     ('imp_cat', imputer_cat_pipeline),\n",
        "#     ('cat_encoder', encoder_cat_pipeline),\n",
        "# ])\n",
        "\n",
        "\n",
        "########\n",
        "# imputer_cat_pipeline = ColumnTransformer([\n",
        "#         ('imp_miss', SimpleImputer(strategy='constant'), cat_columns_fill_miss),  # fill_value='missing_value' by default\n",
        "#         ('imp_freq', SimpleImputer(strategy='most_frequent'), cat_columns_fill_freq),\n",
        "# ])\n",
        "\n",
        "# encoder_cat_pipeline = ColumnTransformer([\n",
        "#         ('ordinal', OrdinalEncoder(categories=ord_mapping), cat_columns_ord),\n",
        "#         ('pass_ord', OneHotEncoder(), cat_columns_onehot),\n",
        "# ])\n",
        "\n",
        "# cat_pipeline = Pipeline([\n",
        "#         ('imp_cat', imputer_cat_pipeline),\n",
        "#         ('cat_encoder', encoder_cat_pipeline),\n",
        "# ])"
      ],
      "metadata": {
        "id": "sqSLMieg-vAP"
      },
      "execution_count": null,
      "outputs": []
    },
    {
      "cell_type": "code",
      "source": [
        "my_cols =numerical_cols\n",
        "X_tr = X_tr_fl[my_cols].copy()\n",
        "X_val = X_val_fl[my_cols].copy()"
      ],
      "metadata": {
        "id": "uqHQJ7imPHS0"
      },
      "execution_count": null,
      "outputs": []
    },
    {
      "cell_type": "code",
      "execution_count": null,
      "metadata": {
        "id": "ToIPrOkgazbM"
      },
      "outputs": [],
      "source": [
        "# # 中身の動作確認\n",
        "\n",
        "# from sklearn.compose import ColumnTransformer\n",
        "# from sklearn.pipeline import Pipeline\n",
        "# from sklearn.impute import SimpleImputer\n",
        "# from sklearn.preprocessing import OneHotEncoder\n",
        "# import xgboost as xgb\n",
        "# from xgboost import XGBRegressor as xgbreg\n",
        "# from sklearn.metrics import mean_absolute_error\n",
        "\n",
        "# param = {\n",
        "#         'n_estimators': 1000,\n",
        "#         'tree_method':'gpu_hist',\n",
        "#         'predictor':\"gpu_predictor\",\n",
        "#         'use_label_encoder':False,\n",
        "#         'random_state':42,\n",
        "#         'verbosity':2\n",
        "#         }\n",
        "\n",
        "# fit_param = {\n",
        "#     'eval_set': None,\n",
        "#     'eval_metric': 'mae',\n",
        "#     'early_stopping_rounds': 50,\n",
        "#     'verbose': True,}\n",
        "# # fit_param = {\n",
        "# #     'model__eval_set': None,\n",
        "# #     'model__eval_metric': 'mae',\n",
        "# #     'model__early_stopping_rounds': 50,\n",
        "# #     'model__verbose': True,}\n",
        "\n",
        "# numerical_transformer = SimpleImputer(strategy='constant')\n",
        "\n",
        "# preprocessor = ColumnTransformer(transformers=[\n",
        "#             ('num', numerical_transformer, numerical_cols),\n",
        "#             # ('cat', categorical_transformer, categorical_cols),\n",
        "#             ])\n",
        "# df_tr_ev = pd.concat([X_tr, X_val])\n",
        "# preprocessor.fit(df_tr_ev)\n",
        "# # X_tr_ = pd.DataFrame(preprocessor.transform(X_tr))\n",
        "# # X_val_ = pd.DataFrame(preprocessor.transform(X_val))\n",
        "# X_tr_ = preprocessor.transform(X_tr)\n",
        "# X_val_ = preprocessor.transform(X_val)\n",
        "# fit_param['eval_set'] = [(X_val_, y_val)]\n",
        "# # Define model\n",
        "# reg = xgbreg(objective=\"reg:squarederror\", **param)\n",
        "\n",
        "# # Bundle preprocessing and modeling code in a pipeline\n",
        "# # reg = Pipeline(steps=[('preprocessor', preprocessor),\n",
        "# #                         ('model', model)])\n",
        " \n",
        "# reg.fit(X_tr_, y_tr, **fit_param)\n",
        "# y_pred = reg.predict(X_val_)\n",
        "# mae = mean_absolute_error(y_val, y_pred)"
      ]
    },
    {
      "cell_type": "code",
      "source": [
        "numerical_cols"
      ],
      "metadata": {
        "id": "n5qQ8avsNFKS"
      },
      "execution_count": null,
      "outputs": []
    },
    {
      "cell_type": "code",
      "execution_count": null,
      "metadata": {
        "colab": {
          "base_uri": "https://localhost:8080/"
        },
        "id": "sptdH1SRPqM-",
        "outputId": "0dbf2004-4cb3-4b2e-ed67-98e4c79dee01"
      },
      "outputs": [
        {
          "name": "stdout",
          "output_type": "stream",
          "text": [
            "Loading data ...\n"
          ]
        },
        {
          "name": "stderr",
          "output_type": "stream",
          "text": [
            "/usr/local/lib/python3.7/dist-packages/IPython/core/interactiveshell.py:2882: DtypeWarning: Columns (22,32,34,49,55) have mixed types.Specify dtype option on import or set low_memory=False.\n",
            "  exec(code_obj, self.user_global_ns, self.user_ns)\n"
          ]
        },
        {
          "name": "stdout",
          "output_type": "stream",
          "text": [
            "Binding to float32\n"
          ]
        }
      ],
      "source": [
        "# import numpy as np\n",
        "# import pandas as pd\n",
        "# import xgboost as xgb\n",
        "# import gc\n",
        "# import sqlite3\n",
        "\n",
        "# print('Loading data ...')\n",
        "\n",
        "# train = pd.read_csv('/content/gdrive/MyDrive/kaggle/zillow_prize/datasets/train_2016_v2.csv')\n",
        "# prop = pd.read_csv('/content/gdrive/MyDrive/kaggle/zillow_prize/datasets/properties_2016.csv')\n",
        "# sample = pd.read_csv('/content/gdrive/MyDrive/kaggle/zillow_prize/datasets/sample_submission.csv')\n",
        "\n",
        "# print('Binding to float32')"
      ]
    },
    {
      "cell_type": "markdown",
      "source": [
        "# Optuna + XGB.CV"
      ],
      "metadata": {
        "id": "QqROKmjoh82M"
      }
    },
    {
      "cell_type": "code",
      "execution_count": null,
      "metadata": {
        "colab": {
          "base_uri": "https://localhost:8080/"
        },
        "id": "Vd-8q13LQhgh",
        "outputId": "43561196-afb0-4e5e-cc9b-f4df099f3df8"
      },
      "outputs": [
        {
          "name": "stdout",
          "output_type": "stream",
          "text": [
            "Creating training set ...\n",
            "(90275, 55) (90275,)\n"
          ]
        }
      ],
      "source": [
        "# for c, dtype in zip(prop.columns, prop.dtypes):\n",
        "# \tif dtype == np.float64:\n",
        "# \t\tprop[c] = prop[c].astype(np.float32)\n",
        "\n",
        "# print('Creating training set ...')\n",
        "\n",
        "# df_train = train.merge(prop, how='left', on='parcelid')\n",
        "\n",
        "# x_train = df_train.drop(['parcelid', 'logerror', 'transactiondate', 'propertyzoningdesc', 'propertycountylandusecode'], axis=1)\n",
        "# y_train = df_train['logerror'].values\n",
        "# print(x_train.shape, y_train.shape)"
      ]
    },
    {
      "cell_type": "code",
      "execution_count": null,
      "metadata": {
        "colab": {
          "base_uri": "https://localhost:8080/"
        },
        "id": "W1H3ZUrCSXD9",
        "outputId": "3dce447b-000c-486c-8da7-9e45f65f6d3c"
      },
      "outputs": [
        {
          "data": {
            "text/plain": [
              "172"
            ]
          },
          "execution_count": 6,
          "metadata": {},
          "output_type": "execute_result"
        }
      ],
      "source": [
        "# train_columns = x_train.columns\n",
        "\n",
        "# for c in x_train.dtypes[x_train.dtypes == object].index.values:\n",
        "#     x_train[c] = (x_train[c] == True)\n",
        "\n",
        "# del df_train; gc.collect()"
      ]
    },
    {
      "cell_type": "code",
      "execution_count": null,
      "metadata": {
        "colab": {
          "base_uri": "https://localhost:8080/"
        },
        "id": "X5YLNC3-SnRj",
        "outputId": "c5127eff-54ac-4ec4-bdd2-1cc97a5e2100"
      },
      "outputs": [
        {
          "name": "stdout",
          "output_type": "stream",
          "text": [
            "Building DMatrix...\n",
            "Training ...\n"
          ]
        }
      ],
      "source": [
        "from sklearn.model_selection import train_test_split\n",
        "import xgboost as xgb\n",
        "\n",
        "x_tr, x_val, y_tr, y_val = train_test_split(x_train, y_train, train_size=0.8, test_size=0.2)\n",
        "# split = 80000\n",
        "# x_train, y_train, x_valid, y_valid = x_train[:split], y_train[:split], x_train[split:], y_train[split:]\n",
        "\n",
        "print('Building DMatrix...')\n",
        "\n",
        "d_tr = xgb.DMatrix(x_tr, label=y_tr)\n",
        "d_val = xgb.DMatrix(x_val, label=y_val)\n",
        "\n",
        "del x_tr, x_val; gc.collect()\n",
        "\n",
        "print('Training ...')"
      ]
    },
    {
      "cell_type": "markdown",
      "source": [
        ""
      ],
      "metadata": {
        "id": "TGjBCuBWh2q3"
      }
    },
    {
      "cell_type": "code",
      "execution_count": null,
      "metadata": {
        "id": "nTiuLQX0Sq4r"
      },
      "outputs": [],
      "source": [
        "import optuna\n",
        "import xgboost as xgb\n",
        "from sklearn.model_selection import train_test_split,KFold,cross_validate\n",
        "\n",
        "def objective(trial):\n",
        "    params = {\n",
        "        'max_depth': trial.suggest_int('max_depth', 2, 15),\n",
        "        'subsample': trial.suggest_discrete_uniform('subsample', 0.6, 1.0, 0.05),\n",
        "        'eta': trial.suggest_discrete_uniform('eta', 0.01, 0.1, 0.01),\n",
        "#         'reg_alpha': trial.suggest_int('reg_alpha', 1, 50),\n",
        "#         'reg_lambda': trial.suggest_int('reg_lambda', 5, 100),\n",
        "        'min_child_weight': trial.suggest_int('min_child_weight', 2, 20),\n",
        "        \"colsample_bytree\": trial.suggest_float(\"colsample_bytree\", 0.1, 1.0),\n",
        "        \"objective\": \"reg:linear\",\n",
        "        \"eval_metric\": \"mae\",\n",
        "        \"tree_method\": 'gpu_hist',\n",
        "        \"predictor\": 'gpu_predictor',\n",
        "        \"gpu_id\": 0,\n",
        "        \"verbosity\": 0,\n",
        "    }\n",
        "    \n",
        "#     model = xgb.train(param_sch,\n",
        "#                       dtrain=d_tr,\n",
        "#                       num_boost_round=10,\n",
        "#                       evals=[(d_val, 'eval')],\n",
        "#                       evals_result={},\n",
        "#                       verbose_eval=10,\n",
        "#                       early_stopping_rounds=100,\n",
        "#                       )\n",
        "#     kf = KFold(n_splits=3, shuffle=True, random_state=0)\n",
        "#     scores = cross_validate(model, X=, y=y_train,scoring='mae',cv=kf,n_jobs=-1)\n",
        "\n",
        "    # xgb.trainではval_setを指定する必要があるがxgb.cvではcvする際にval_setを自動で各cvごとに設定してくれる\n",
        "    cv_results = xgb.cv(params=params,\n",
        "                        dtrain=d_tr,\n",
        "                        num_boost_round=10000,\n",
        "                        nfold=3,\n",
        "                        verbose_eval=10,\n",
        "                        early_stopping_rounds=500)\n",
        "    return cv_results[\"test-mae-mean\"].min()\n",
        "\n",
        "\n",
        "\n",
        "\n",
        "# params = {}\n",
        "# params['eta'] = 0.02\n",
        "# params['objective'] = 'reg:linear'\n",
        "# params['eval_metric'] = 'mae'\n",
        "# params['max_depth'] = 4\n",
        "# params['silent'] = 1\n",
        "\n",
        "# watchlist = [(d_train, 'train'), (d_valid, 'valid')]\n",
        "# clf = xgb.train(params, d_train, 10000, watchlist, early_stopping_rounds=100, verbose_eval=10)"
      ]
    },
    {
      "cell_type": "code",
      "execution_count": null,
      "metadata": {
        "id": "HN1gtaGoSwxT"
      },
      "outputs": [],
      "source": [
        "study = optuna.create_study(direction='minimize',\n",
        "                            study_name=\"study_1\",\n",
        "                            storage=f\"sqlite:////content/gdrive/MyDrive/kaggle/zillow_prize/results/study_1.db\",\n",
        "                            load_if_exists=True,\n",
        "                            pruner=optuna.pruners.PercentilePruner(60.0))\n",
        "\n",
        "study.optimize(objective, n_trials=50)"
      ]
    },
    {
      "cell_type": "code",
      "execution_count": null,
      "metadata": {
        "id": "FmRxVaORtJXN"
      },
      "outputs": [],
      "source": [
        "# 保存した結果の読み込み\n",
        "study = optuna.load_study(study_name='study_1', storage='sqlite:////content/gdrive/MyDrive/kaggle/zillow_prize/results/study_1.db')"
      ]
    },
    {
      "cell_type": "code",
      "execution_count": null,
      "metadata": {
        "colab": {
          "base_uri": "https://localhost:8080/",
          "height": 1000
        },
        "id": "grrpYxlttaz_",
        "outputId": "caf24580-7928-4c6b-eef9-37b3a15b4da7"
      },
      "outputs": [
        {
          "data": {
            "text/html": [
              "\n",
              "  <div id=\"df-2f624892-100c-4dff-bf9e-ae38f57c16c5\">\n",
              "    <div class=\"colab-df-container\">\n",
              "      <div>\n",
              "<style scoped>\n",
              "    .dataframe tbody tr th:only-of-type {\n",
              "        vertical-align: middle;\n",
              "    }\n",
              "\n",
              "    .dataframe tbody tr th {\n",
              "        vertical-align: top;\n",
              "    }\n",
              "\n",
              "    .dataframe thead th {\n",
              "        text-align: right;\n",
              "    }\n",
              "</style>\n",
              "<table border=\"1\" class=\"dataframe\">\n",
              "  <thead>\n",
              "    <tr style=\"text-align: right;\">\n",
              "      <th></th>\n",
              "      <th>number</th>\n",
              "      <th>value</th>\n",
              "      <th>datetime_start</th>\n",
              "      <th>datetime_complete</th>\n",
              "      <th>duration</th>\n",
              "      <th>params_colsample_bytree</th>\n",
              "      <th>params_eta</th>\n",
              "      <th>params_max_depth</th>\n",
              "      <th>params_min_child_weight</th>\n",
              "      <th>params_subsample</th>\n",
              "      <th>state</th>\n",
              "    </tr>\n",
              "  </thead>\n",
              "  <tbody>\n",
              "    <tr>\n",
              "      <th>0</th>\n",
              "      <td>0</td>\n",
              "      <td>NaN</td>\n",
              "      <td>2022-04-07 05:10:37.831319</td>\n",
              "      <td>NaT</td>\n",
              "      <td>NaT</td>\n",
              "      <td>0.248701</td>\n",
              "      <td>0.10</td>\n",
              "      <td>12</td>\n",
              "      <td>17</td>\n",
              "      <td>0.95</td>\n",
              "      <td>RUNNING</td>\n",
              "    </tr>\n",
              "    <tr>\n",
              "      <th>1</th>\n",
              "      <td>1</td>\n",
              "      <td>0.068626</td>\n",
              "      <td>2022-04-07 05:10:58.809998</td>\n",
              "      <td>2022-04-07 05:11:21.330014</td>\n",
              "      <td>0 days 00:00:22.520016</td>\n",
              "      <td>0.165255</td>\n",
              "      <td>0.01</td>\n",
              "      <td>7</td>\n",
              "      <td>16</td>\n",
              "      <td>0.95</td>\n",
              "      <td>COMPLETE</td>\n",
              "    </tr>\n",
              "    <tr>\n",
              "      <th>2</th>\n",
              "      <td>2</td>\n",
              "      <td>0.070715</td>\n",
              "      <td>2022-04-07 05:11:21.405142</td>\n",
              "      <td>2022-04-07 05:11:55.750425</td>\n",
              "      <td>0 days 00:00:34.345283</td>\n",
              "      <td>0.626758</td>\n",
              "      <td>0.06</td>\n",
              "      <td>11</td>\n",
              "      <td>4</td>\n",
              "      <td>0.60</td>\n",
              "      <td>COMPLETE</td>\n",
              "    </tr>\n",
              "    <tr>\n",
              "      <th>3</th>\n",
              "      <td>3</td>\n",
              "      <td>0.071048</td>\n",
              "      <td>2022-04-07 06:38:32.409541</td>\n",
              "      <td>2022-04-07 06:39:12.745684</td>\n",
              "      <td>0 days 00:00:40.336143</td>\n",
              "      <td>0.677216</td>\n",
              "      <td>0.07</td>\n",
              "      <td>15</td>\n",
              "      <td>18</td>\n",
              "      <td>0.75</td>\n",
              "      <td>COMPLETE</td>\n",
              "    </tr>\n",
              "    <tr>\n",
              "      <th>4</th>\n",
              "      <td>4</td>\n",
              "      <td>0.068714</td>\n",
              "      <td>2022-04-07 06:39:12.815621</td>\n",
              "      <td>2022-04-07 06:39:22.567490</td>\n",
              "      <td>0 days 00:00:09.751869</td>\n",
              "      <td>0.706567</td>\n",
              "      <td>0.05</td>\n",
              "      <td>5</td>\n",
              "      <td>12</td>\n",
              "      <td>0.90</td>\n",
              "      <td>COMPLETE</td>\n",
              "    </tr>\n",
              "    <tr>\n",
              "      <th>5</th>\n",
              "      <td>5</td>\n",
              "      <td>0.069672</td>\n",
              "      <td>2022-04-07 06:39:22.631557</td>\n",
              "      <td>2022-04-07 06:40:03.612910</td>\n",
              "      <td>0 days 00:00:40.981353</td>\n",
              "      <td>0.855272</td>\n",
              "      <td>0.01</td>\n",
              "      <td>9</td>\n",
              "      <td>2</td>\n",
              "      <td>0.90</td>\n",
              "      <td>COMPLETE</td>\n",
              "    </tr>\n",
              "    <tr>\n",
              "      <th>6</th>\n",
              "      <td>6</td>\n",
              "      <td>0.069478</td>\n",
              "      <td>2022-04-07 06:40:03.683574</td>\n",
              "      <td>2022-04-07 06:40:24.408330</td>\n",
              "      <td>0 days 00:00:20.724756</td>\n",
              "      <td>0.224880</td>\n",
              "      <td>0.04</td>\n",
              "      <td>9</td>\n",
              "      <td>4</td>\n",
              "      <td>0.60</td>\n",
              "      <td>COMPLETE</td>\n",
              "    </tr>\n",
              "    <tr>\n",
              "      <th>7</th>\n",
              "      <td>7</td>\n",
              "      <td>0.068532</td>\n",
              "      <td>2022-04-07 06:40:24.493149</td>\n",
              "      <td>2022-04-07 06:40:33.395288</td>\n",
              "      <td>0 days 00:00:08.902139</td>\n",
              "      <td>0.239044</td>\n",
              "      <td>0.05</td>\n",
              "      <td>4</td>\n",
              "      <td>9</td>\n",
              "      <td>0.70</td>\n",
              "      <td>COMPLETE</td>\n",
              "    </tr>\n",
              "    <tr>\n",
              "      <th>8</th>\n",
              "      <td>8</td>\n",
              "      <td>0.069670</td>\n",
              "      <td>2022-04-07 06:40:33.464726</td>\n",
              "      <td>2022-04-07 06:41:19.314417</td>\n",
              "      <td>0 days 00:00:45.849691</td>\n",
              "      <td>0.491400</td>\n",
              "      <td>0.01</td>\n",
              "      <td>11</td>\n",
              "      <td>8</td>\n",
              "      <td>0.95</td>\n",
              "      <td>COMPLETE</td>\n",
              "    </tr>\n",
              "    <tr>\n",
              "      <th>9</th>\n",
              "      <td>9</td>\n",
              "      <td>0.069179</td>\n",
              "      <td>2022-04-07 06:41:19.380544</td>\n",
              "      <td>2022-04-07 06:41:29.475578</td>\n",
              "      <td>0 days 00:00:10.095034</td>\n",
              "      <td>0.648173</td>\n",
              "      <td>0.09</td>\n",
              "      <td>6</td>\n",
              "      <td>13</td>\n",
              "      <td>0.85</td>\n",
              "      <td>COMPLETE</td>\n",
              "    </tr>\n",
              "    <tr>\n",
              "      <th>10</th>\n",
              "      <td>10</td>\n",
              "      <td>0.068975</td>\n",
              "      <td>2022-04-07 06:41:29.541461</td>\n",
              "      <td>2022-04-07 06:41:40.550277</td>\n",
              "      <td>0 days 00:00:11.008816</td>\n",
              "      <td>0.615685</td>\n",
              "      <td>0.05</td>\n",
              "      <td>6</td>\n",
              "      <td>10</td>\n",
              "      <td>0.85</td>\n",
              "      <td>COMPLETE</td>\n",
              "    </tr>\n",
              "    <tr>\n",
              "      <th>11</th>\n",
              "      <td>11</td>\n",
              "      <td>0.068423</td>\n",
              "      <td>2022-04-07 06:41:40.609839</td>\n",
              "      <td>2022-04-07 06:41:47.982612</td>\n",
              "      <td>0 days 00:00:07.372773</td>\n",
              "      <td>0.361479</td>\n",
              "      <td>0.10</td>\n",
              "      <td>2</td>\n",
              "      <td>7</td>\n",
              "      <td>0.70</td>\n",
              "      <td>COMPLETE</td>\n",
              "    </tr>\n",
              "    <tr>\n",
              "      <th>12</th>\n",
              "      <td>12</td>\n",
              "      <td>0.068423</td>\n",
              "      <td>2022-04-07 06:41:48.049520</td>\n",
              "      <td>2022-04-07 06:41:55.429524</td>\n",
              "      <td>0 days 00:00:07.380004</td>\n",
              "      <td>0.360457</td>\n",
              "      <td>0.10</td>\n",
              "      <td>2</td>\n",
              "      <td>7</td>\n",
              "      <td>0.70</td>\n",
              "      <td>COMPLETE</td>\n",
              "    </tr>\n",
              "    <tr>\n",
              "      <th>13</th>\n",
              "      <td>13</td>\n",
              "      <td>0.068437</td>\n",
              "      <td>2022-04-07 06:41:55.491915</td>\n",
              "      <td>2022-04-07 06:42:02.653049</td>\n",
              "      <td>0 days 00:00:07.161134</td>\n",
              "      <td>0.401131</td>\n",
              "      <td>0.10</td>\n",
              "      <td>2</td>\n",
              "      <td>6</td>\n",
              "      <td>0.70</td>\n",
              "      <td>COMPLETE</td>\n",
              "    </tr>\n",
              "    <tr>\n",
              "      <th>14</th>\n",
              "      <td>14</td>\n",
              "      <td>0.068415</td>\n",
              "      <td>2022-04-07 06:42:02.742926</td>\n",
              "      <td>2022-04-07 06:42:10.090674</td>\n",
              "      <td>0 days 00:00:07.347748</td>\n",
              "      <td>0.366807</td>\n",
              "      <td>0.09</td>\n",
              "      <td>2</td>\n",
              "      <td>6</td>\n",
              "      <td>0.70</td>\n",
              "      <td>COMPLETE</td>\n",
              "    </tr>\n",
              "    <tr>\n",
              "      <th>15</th>\n",
              "      <td>15</td>\n",
              "      <td>0.068491</td>\n",
              "      <td>2022-04-07 06:42:10.152621</td>\n",
              "      <td>2022-04-07 06:42:17.856438</td>\n",
              "      <td>0 days 00:00:07.703817</td>\n",
              "      <td>0.350142</td>\n",
              "      <td>0.08</td>\n",
              "      <td>3</td>\n",
              "      <td>5</td>\n",
              "      <td>0.75</td>\n",
              "      <td>COMPLETE</td>\n",
              "    </tr>\n",
              "    <tr>\n",
              "      <th>16</th>\n",
              "      <td>16</td>\n",
              "      <td>0.068538</td>\n",
              "      <td>2022-04-07 06:42:17.920057</td>\n",
              "      <td>2022-04-07 06:42:26.177965</td>\n",
              "      <td>0 days 00:00:08.257908</td>\n",
              "      <td>0.102446</td>\n",
              "      <td>0.08</td>\n",
              "      <td>4</td>\n",
              "      <td>2</td>\n",
              "      <td>0.65</td>\n",
              "      <td>COMPLETE</td>\n",
              "    </tr>\n",
              "    <tr>\n",
              "      <th>17</th>\n",
              "      <td>17</td>\n",
              "      <td>0.068346</td>\n",
              "      <td>2022-04-07 06:42:26.246228</td>\n",
              "      <td>2022-04-07 06:42:33.609479</td>\n",
              "      <td>0 days 00:00:07.363251</td>\n",
              "      <td>0.471415</td>\n",
              "      <td>0.09</td>\n",
              "      <td>2</td>\n",
              "      <td>13</td>\n",
              "      <td>0.80</td>\n",
              "      <td>COMPLETE</td>\n",
              "    </tr>\n",
              "    <tr>\n",
              "      <th>18</th>\n",
              "      <td>18</td>\n",
              "      <td>0.068536</td>\n",
              "      <td>2022-04-07 06:42:33.676405</td>\n",
              "      <td>2022-04-07 06:42:44.000838</td>\n",
              "      <td>0 days 00:00:10.324433</td>\n",
              "      <td>0.498989</td>\n",
              "      <td>0.03</td>\n",
              "      <td>4</td>\n",
              "      <td>15</td>\n",
              "      <td>0.80</td>\n",
              "      <td>COMPLETE</td>\n",
              "    </tr>\n",
              "    <tr>\n",
              "      <th>19</th>\n",
              "      <td>19</td>\n",
              "      <td>0.071081</td>\n",
              "      <td>2022-04-07 06:42:44.060558</td>\n",
              "      <td>2022-04-07 06:43:25.721002</td>\n",
              "      <td>0 days 00:00:41.660444</td>\n",
              "      <td>0.839400</td>\n",
              "      <td>0.08</td>\n",
              "      <td>15</td>\n",
              "      <td>20</td>\n",
              "      <td>0.80</td>\n",
              "      <td>COMPLETE</td>\n",
              "    </tr>\n",
              "    <tr>\n",
              "      <th>20</th>\n",
              "      <td>20</td>\n",
              "      <td>0.069298</td>\n",
              "      <td>2022-04-07 06:43:25.783981</td>\n",
              "      <td>2022-04-07 06:43:37.816253</td>\n",
              "      <td>0 days 00:00:12.032272</td>\n",
              "      <td>0.997719</td>\n",
              "      <td>0.07</td>\n",
              "      <td>7</td>\n",
              "      <td>14</td>\n",
              "      <td>1.00</td>\n",
              "      <td>COMPLETE</td>\n",
              "    </tr>\n",
              "    <tr>\n",
              "      <th>21</th>\n",
              "      <td>21</td>\n",
              "      <td>0.071085</td>\n",
              "      <td>2022-04-07 06:43:37.876519</td>\n",
              "      <td>2022-04-07 06:44:17.686000</td>\n",
              "      <td>0 days 00:00:39.809481</td>\n",
              "      <td>0.484644</td>\n",
              "      <td>0.09</td>\n",
              "      <td>13</td>\n",
              "      <td>11</td>\n",
              "      <td>0.75</td>\n",
              "      <td>COMPLETE</td>\n",
              "    </tr>\n",
              "    <tr>\n",
              "      <th>22</th>\n",
              "      <td>22</td>\n",
              "      <td>0.068437</td>\n",
              "      <td>2022-04-07 06:44:17.755120</td>\n",
              "      <td>2022-04-07 06:44:25.152833</td>\n",
              "      <td>0 days 00:00:07.397713</td>\n",
              "      <td>0.293197</td>\n",
              "      <td>0.10</td>\n",
              "      <td>2</td>\n",
              "      <td>8</td>\n",
              "      <td>0.65</td>\n",
              "      <td>COMPLETE</td>\n",
              "    </tr>\n",
              "    <tr>\n",
              "      <th>23</th>\n",
              "      <td>23</td>\n",
              "      <td>0.068506</td>\n",
              "      <td>2022-04-07 06:44:25.219862</td>\n",
              "      <td>2022-04-07 06:44:33.032425</td>\n",
              "      <td>0 days 00:00:07.812563</td>\n",
              "      <td>0.422702</td>\n",
              "      <td>0.09</td>\n",
              "      <td>3</td>\n",
              "      <td>11</td>\n",
              "      <td>0.65</td>\n",
              "      <td>COMPLETE</td>\n",
              "    </tr>\n",
              "    <tr>\n",
              "      <th>24</th>\n",
              "      <td>24</td>\n",
              "      <td>0.068457</td>\n",
              "      <td>2022-04-07 06:44:33.101823</td>\n",
              "      <td>2022-04-07 06:44:40.865410</td>\n",
              "      <td>0 days 00:00:07.763587</td>\n",
              "      <td>0.300118</td>\n",
              "      <td>0.09</td>\n",
              "      <td>3</td>\n",
              "      <td>6</td>\n",
              "      <td>0.75</td>\n",
              "      <td>COMPLETE</td>\n",
              "    </tr>\n",
              "    <tr>\n",
              "      <th>25</th>\n",
              "      <td>25</td>\n",
              "      <td>0.068820</td>\n",
              "      <td>2022-04-07 06:44:40.931344</td>\n",
              "      <td>2022-04-07 06:44:50.144522</td>\n",
              "      <td>0 days 00:00:09.213178</td>\n",
              "      <td>0.544111</td>\n",
              "      <td>0.07</td>\n",
              "      <td>5</td>\n",
              "      <td>9</td>\n",
              "      <td>0.85</td>\n",
              "      <td>COMPLETE</td>\n",
              "    </tr>\n",
              "    <tr>\n",
              "      <th>26</th>\n",
              "      <td>26</td>\n",
              "      <td>0.068400</td>\n",
              "      <td>2022-04-07 06:44:50.241017</td>\n",
              "      <td>2022-04-07 06:44:57.658686</td>\n",
              "      <td>0 days 00:00:07.417669</td>\n",
              "      <td>0.431943</td>\n",
              "      <td>0.10</td>\n",
              "      <td>2</td>\n",
              "      <td>17</td>\n",
              "      <td>0.70</td>\n",
              "      <td>COMPLETE</td>\n",
              "    </tr>\n",
              "    <tr>\n",
              "      <th>27</th>\n",
              "      <td>27</td>\n",
              "      <td>0.068780</td>\n",
              "      <td>2022-04-07 06:44:57.719500</td>\n",
              "      <td>2022-04-07 06:45:06.838762</td>\n",
              "      <td>0 days 00:00:09.119262</td>\n",
              "      <td>0.438125</td>\n",
              "      <td>0.08</td>\n",
              "      <td>5</td>\n",
              "      <td>17</td>\n",
              "      <td>0.80</td>\n",
              "      <td>COMPLETE</td>\n",
              "    </tr>\n",
              "    <tr>\n",
              "      <th>28</th>\n",
              "      <td>28</td>\n",
              "      <td>0.068580</td>\n",
              "      <td>2022-04-07 06:45:06.904831</td>\n",
              "      <td>2022-04-07 06:45:14.598820</td>\n",
              "      <td>0 days 00:00:07.693989</td>\n",
              "      <td>0.560140</td>\n",
              "      <td>0.09</td>\n",
              "      <td>3</td>\n",
              "      <td>19</td>\n",
              "      <td>0.65</td>\n",
              "      <td>COMPLETE</td>\n",
              "    </tr>\n",
              "    <tr>\n",
              "      <th>29</th>\n",
              "      <td>29</td>\n",
              "      <td>0.069292</td>\n",
              "      <td>2022-04-07 06:45:14.672060</td>\n",
              "      <td>2022-04-07 06:45:26.958424</td>\n",
              "      <td>0 days 00:00:12.286364</td>\n",
              "      <td>0.727888</td>\n",
              "      <td>0.06</td>\n",
              "      <td>7</td>\n",
              "      <td>14</td>\n",
              "      <td>0.75</td>\n",
              "      <td>COMPLETE</td>\n",
              "    </tr>\n",
              "    <tr>\n",
              "      <th>30</th>\n",
              "      <td>30</td>\n",
              "      <td>0.068612</td>\n",
              "      <td>2022-04-07 06:45:27.053778</td>\n",
              "      <td>2022-04-07 06:45:35.092592</td>\n",
              "      <td>0 days 00:00:08.038814</td>\n",
              "      <td>0.277313</td>\n",
              "      <td>0.10</td>\n",
              "      <td>4</td>\n",
              "      <td>17</td>\n",
              "      <td>0.70</td>\n",
              "      <td>COMPLETE</td>\n",
              "    </tr>\n",
              "    <tr>\n",
              "      <th>31</th>\n",
              "      <td>31</td>\n",
              "      <td>0.068352</td>\n",
              "      <td>2022-04-07 06:45:35.163965</td>\n",
              "      <td>2022-04-07 06:45:45.114574</td>\n",
              "      <td>0 days 00:00:09.950609</td>\n",
              "      <td>0.166836</td>\n",
              "      <td>0.03</td>\n",
              "      <td>2</td>\n",
              "      <td>16</td>\n",
              "      <td>0.60</td>\n",
              "      <td>COMPLETE</td>\n",
              "    </tr>\n",
              "    <tr>\n",
              "      <th>32</th>\n",
              "      <td>32</td>\n",
              "      <td>0.068354</td>\n",
              "      <td>2022-04-07 06:45:45.187588</td>\n",
              "      <td>2022-04-07 06:45:55.107294</td>\n",
              "      <td>0 days 00:00:09.919706</td>\n",
              "      <td>0.153385</td>\n",
              "      <td>0.03</td>\n",
              "      <td>2</td>\n",
              "      <td>16</td>\n",
              "      <td>0.60</td>\n",
              "      <td>COMPLETE</td>\n",
              "    </tr>\n",
              "    <tr>\n",
              "      <th>33</th>\n",
              "      <td>33</td>\n",
              "      <td>0.068417</td>\n",
              "      <td>2022-04-07 06:45:55.178752</td>\n",
              "      <td>2022-04-07 06:46:04.948519</td>\n",
              "      <td>0 days 00:00:09.769767</td>\n",
              "      <td>0.159885</td>\n",
              "      <td>0.03</td>\n",
              "      <td>3</td>\n",
              "      <td>16</td>\n",
              "      <td>0.60</td>\n",
              "      <td>COMPLETE</td>\n",
              "    </tr>\n",
              "    <tr>\n",
              "      <th>34</th>\n",
              "      <td>34</td>\n",
              "      <td>0.068346</td>\n",
              "      <td>2022-04-07 06:46:05.019636</td>\n",
              "      <td>2022-04-07 06:46:16.910548</td>\n",
              "      <td>0 days 00:00:11.890912</td>\n",
              "      <td>0.110244</td>\n",
              "      <td>0.02</td>\n",
              "      <td>2</td>\n",
              "      <td>16</td>\n",
              "      <td>0.60</td>\n",
              "      <td>COMPLETE</td>\n",
              "    </tr>\n",
              "    <tr>\n",
              "      <th>35</th>\n",
              "      <td>35</td>\n",
              "      <td>0.068421</td>\n",
              "      <td>2022-04-07 06:46:16.979923</td>\n",
              "      <td>2022-04-07 06:46:28.924435</td>\n",
              "      <td>0 days 00:00:11.944512</td>\n",
              "      <td>0.100995</td>\n",
              "      <td>0.02</td>\n",
              "      <td>4</td>\n",
              "      <td>15</td>\n",
              "      <td>0.60</td>\n",
              "      <td>COMPLETE</td>\n",
              "    </tr>\n",
              "    <tr>\n",
              "      <th>36</th>\n",
              "      <td>36</td>\n",
              "      <td>0.068519</td>\n",
              "      <td>2022-04-07 06:46:28.994626</td>\n",
              "      <td>2022-04-07 06:46:41.732075</td>\n",
              "      <td>0 days 00:00:12.737449</td>\n",
              "      <td>0.174925</td>\n",
              "      <td>0.02</td>\n",
              "      <td>5</td>\n",
              "      <td>13</td>\n",
              "      <td>0.60</td>\n",
              "      <td>COMPLETE</td>\n",
              "    </tr>\n",
              "    <tr>\n",
              "      <th>37</th>\n",
              "      <td>37</td>\n",
              "      <td>0.069162</td>\n",
              "      <td>2022-04-07 06:46:41.801023</td>\n",
              "      <td>2022-04-07 06:47:02.828690</td>\n",
              "      <td>0 days 00:00:21.027667</td>\n",
              "      <td>0.166995</td>\n",
              "      <td>0.03</td>\n",
              "      <td>10</td>\n",
              "      <td>18</td>\n",
              "      <td>0.60</td>\n",
              "      <td>COMPLETE</td>\n",
              "    </tr>\n",
              "    <tr>\n",
              "      <th>38</th>\n",
              "      <td>38</td>\n",
              "      <td>0.068376</td>\n",
              "      <td>2022-04-07 06:47:02.897730</td>\n",
              "      <td>2022-04-07 06:47:12.103513</td>\n",
              "      <td>0 days 00:00:09.205783</td>\n",
              "      <td>0.209458</td>\n",
              "      <td>0.04</td>\n",
              "      <td>3</td>\n",
              "      <td>15</td>\n",
              "      <td>0.65</td>\n",
              "      <td>COMPLETE</td>\n",
              "    </tr>\n",
              "    <tr>\n",
              "      <th>39</th>\n",
              "      <td>39</td>\n",
              "      <td>0.068654</td>\n",
              "      <td>2022-04-07 06:47:12.174506</td>\n",
              "      <td>2022-04-07 06:47:26.443865</td>\n",
              "      <td>0 days 00:00:14.269359</td>\n",
              "      <td>0.236055</td>\n",
              "      <td>0.02</td>\n",
              "      <td>6</td>\n",
              "      <td>13</td>\n",
              "      <td>0.60</td>\n",
              "      <td>COMPLETE</td>\n",
              "    </tr>\n",
              "    <tr>\n",
              "      <th>40</th>\n",
              "      <td>40</td>\n",
              "      <td>0.069548</td>\n",
              "      <td>2022-04-07 06:47:26.514810</td>\n",
              "      <td>2022-04-07 06:48:00.659690</td>\n",
              "      <td>0 days 00:00:34.144880</td>\n",
              "      <td>0.127238</td>\n",
              "      <td>0.04</td>\n",
              "      <td>13</td>\n",
              "      <td>16</td>\n",
              "      <td>0.90</td>\n",
              "      <td>COMPLETE</td>\n",
              "    </tr>\n",
              "    <tr>\n",
              "      <th>41</th>\n",
              "      <td>41</td>\n",
              "      <td>0.068631</td>\n",
              "      <td>2022-04-07 06:48:00.738447</td>\n",
              "      <td>2022-04-07 06:48:22.552961</td>\n",
              "      <td>0 days 00:00:21.814514</td>\n",
              "      <td>0.184597</td>\n",
              "      <td>0.01</td>\n",
              "      <td>7</td>\n",
              "      <td>19</td>\n",
              "      <td>0.65</td>\n",
              "      <td>COMPLETE</td>\n",
              "    </tr>\n",
              "    <tr>\n",
              "      <th>42</th>\n",
              "      <td>42</td>\n",
              "      <td>0.068379</td>\n",
              "      <td>2022-04-07 06:48:22.649701</td>\n",
              "      <td>2022-04-07 06:48:31.938867</td>\n",
              "      <td>0 days 00:00:09.289166</td>\n",
              "      <td>0.206895</td>\n",
              "      <td>0.04</td>\n",
              "      <td>3</td>\n",
              "      <td>15</td>\n",
              "      <td>0.60</td>\n",
              "      <td>COMPLETE</td>\n",
              "    </tr>\n",
              "    <tr>\n",
              "      <th>43</th>\n",
              "      <td>43</td>\n",
              "      <td>0.068323</td>\n",
              "      <td>2022-04-07 06:48:32.014043</td>\n",
              "      <td>2022-04-07 06:48:40.784653</td>\n",
              "      <td>0 days 00:00:08.770610</td>\n",
              "      <td>0.248643</td>\n",
              "      <td>0.04</td>\n",
              "      <td>2</td>\n",
              "      <td>12</td>\n",
              "      <td>0.65</td>\n",
              "      <td>COMPLETE</td>\n",
              "    </tr>\n",
              "    <tr>\n",
              "      <th>44</th>\n",
              "      <td>44</td>\n",
              "      <td>0.068351</td>\n",
              "      <td>2022-04-07 06:48:40.855674</td>\n",
              "      <td>2022-04-07 06:48:50.431966</td>\n",
              "      <td>0 days 00:00:09.576292</td>\n",
              "      <td>0.267551</td>\n",
              "      <td>0.03</td>\n",
              "      <td>2</td>\n",
              "      <td>12</td>\n",
              "      <td>0.60</td>\n",
              "      <td>COMPLETE</td>\n",
              "    </tr>\n",
              "    <tr>\n",
              "      <th>45</th>\n",
              "      <td>45</td>\n",
              "      <td>0.068352</td>\n",
              "      <td>2022-04-07 06:48:50.506014</td>\n",
              "      <td>2022-04-07 06:48:58.822465</td>\n",
              "      <td>0 days 00:00:08.316451</td>\n",
              "      <td>0.269603</td>\n",
              "      <td>0.05</td>\n",
              "      <td>2</td>\n",
              "      <td>10</td>\n",
              "      <td>0.65</td>\n",
              "      <td>COMPLETE</td>\n",
              "    </tr>\n",
              "    <tr>\n",
              "      <th>46</th>\n",
              "      <td>46</td>\n",
              "      <td>0.068488</td>\n",
              "      <td>2022-04-07 06:48:58.920021</td>\n",
              "      <td>2022-04-07 06:49:10.488854</td>\n",
              "      <td>0 days 00:00:11.568833</td>\n",
              "      <td>0.323708</td>\n",
              "      <td>0.02</td>\n",
              "      <td>4</td>\n",
              "      <td>12</td>\n",
              "      <td>0.60</td>\n",
              "      <td>COMPLETE</td>\n",
              "    </tr>\n",
              "    <tr>\n",
              "      <th>47</th>\n",
              "      <td>47</td>\n",
              "      <td>0.068337</td>\n",
              "      <td>2022-04-07 06:49:10.560518</td>\n",
              "      <td>2022-04-07 06:49:20.250448</td>\n",
              "      <td>0 days 00:00:09.689930</td>\n",
              "      <td>0.254917</td>\n",
              "      <td>0.03</td>\n",
              "      <td>2</td>\n",
              "      <td>12</td>\n",
              "      <td>0.65</td>\n",
              "      <td>COMPLETE</td>\n",
              "    </tr>\n",
              "    <tr>\n",
              "      <th>48</th>\n",
              "      <td>48</td>\n",
              "      <td>0.068364</td>\n",
              "      <td>2022-04-07 06:49:20.320207</td>\n",
              "      <td>2022-04-07 06:49:29.541850</td>\n",
              "      <td>0 days 00:00:09.221643</td>\n",
              "      <td>0.268525</td>\n",
              "      <td>0.04</td>\n",
              "      <td>3</td>\n",
              "      <td>12</td>\n",
              "      <td>0.85</td>\n",
              "      <td>COMPLETE</td>\n",
              "    </tr>\n",
              "    <tr>\n",
              "      <th>49</th>\n",
              "      <td>49</td>\n",
              "      <td>0.068450</td>\n",
              "      <td>2022-04-07 06:49:29.616506</td>\n",
              "      <td>2022-04-07 06:49:46.384818</td>\n",
              "      <td>0 days 00:00:16.768312</td>\n",
              "      <td>0.323486</td>\n",
              "      <td>0.01</td>\n",
              "      <td>4</td>\n",
              "      <td>12</td>\n",
              "      <td>0.65</td>\n",
              "      <td>COMPLETE</td>\n",
              "    </tr>\n",
              "    <tr>\n",
              "      <th>50</th>\n",
              "      <td>50</td>\n",
              "      <td>0.069349</td>\n",
              "      <td>2022-04-07 06:49:46.467604</td>\n",
              "      <td>2022-04-07 06:50:00.939850</td>\n",
              "      <td>0 days 00:00:14.472246</td>\n",
              "      <td>0.384439</td>\n",
              "      <td>0.06</td>\n",
              "      <td>8</td>\n",
              "      <td>10</td>\n",
              "      <td>0.70</td>\n",
              "      <td>COMPLETE</td>\n",
              "    </tr>\n",
              "    <tr>\n",
              "      <th>51</th>\n",
              "      <td>51</td>\n",
              "      <td>0.068323</td>\n",
              "      <td>2022-04-07 06:50:01.012486</td>\n",
              "      <td>2022-04-07 06:50:09.429985</td>\n",
              "      <td>0 days 00:00:08.417499</td>\n",
              "      <td>0.236374</td>\n",
              "      <td>0.05</td>\n",
              "      <td>2</td>\n",
              "      <td>13</td>\n",
              "      <td>0.75</td>\n",
              "      <td>COMPLETE</td>\n",
              "    </tr>\n",
              "    <tr>\n",
              "      <th>52</th>\n",
              "      <td>52</td>\n",
              "      <td>0.068313</td>\n",
              "      <td>2022-04-07 06:50:09.501047</td>\n",
              "      <td>2022-04-07 06:50:17.794096</td>\n",
              "      <td>0 days 00:00:08.293049</td>\n",
              "      <td>0.248893</td>\n",
              "      <td>0.05</td>\n",
              "      <td>2</td>\n",
              "      <td>14</td>\n",
              "      <td>0.80</td>\n",
              "      <td>COMPLETE</td>\n",
              "    </tr>\n",
              "  </tbody>\n",
              "</table>\n",
              "</div>\n",
              "      <button class=\"colab-df-convert\" onclick=\"convertToInteractive('df-2f624892-100c-4dff-bf9e-ae38f57c16c5')\"\n",
              "              title=\"Convert this dataframe to an interactive table.\"\n",
              "              style=\"display:none;\">\n",
              "        \n",
              "  <svg xmlns=\"http://www.w3.org/2000/svg\" height=\"24px\"viewBox=\"0 0 24 24\"\n",
              "       width=\"24px\">\n",
              "    <path d=\"M0 0h24v24H0V0z\" fill=\"none\"/>\n",
              "    <path d=\"M18.56 5.44l.94 2.06.94-2.06 2.06-.94-2.06-.94-.94-2.06-.94 2.06-2.06.94zm-11 1L8.5 8.5l.94-2.06 2.06-.94-2.06-.94L8.5 2.5l-.94 2.06-2.06.94zm10 10l.94 2.06.94-2.06 2.06-.94-2.06-.94-.94-2.06-.94 2.06-2.06.94z\"/><path d=\"M17.41 7.96l-1.37-1.37c-.4-.4-.92-.59-1.43-.59-.52 0-1.04.2-1.43.59L10.3 9.45l-7.72 7.72c-.78.78-.78 2.05 0 2.83L4 21.41c.39.39.9.59 1.41.59.51 0 1.02-.2 1.41-.59l7.78-7.78 2.81-2.81c.8-.78.8-2.07 0-2.86zM5.41 20L4 18.59l7.72-7.72 1.47 1.35L5.41 20z\"/>\n",
              "  </svg>\n",
              "      </button>\n",
              "      \n",
              "  <style>\n",
              "    .colab-df-container {\n",
              "      display:flex;\n",
              "      flex-wrap:wrap;\n",
              "      gap: 12px;\n",
              "    }\n",
              "\n",
              "    .colab-df-convert {\n",
              "      background-color: #E8F0FE;\n",
              "      border: none;\n",
              "      border-radius: 50%;\n",
              "      cursor: pointer;\n",
              "      display: none;\n",
              "      fill: #1967D2;\n",
              "      height: 32px;\n",
              "      padding: 0 0 0 0;\n",
              "      width: 32px;\n",
              "    }\n",
              "\n",
              "    .colab-df-convert:hover {\n",
              "      background-color: #E2EBFA;\n",
              "      box-shadow: 0px 1px 2px rgba(60, 64, 67, 0.3), 0px 1px 3px 1px rgba(60, 64, 67, 0.15);\n",
              "      fill: #174EA6;\n",
              "    }\n",
              "\n",
              "    [theme=dark] .colab-df-convert {\n",
              "      background-color: #3B4455;\n",
              "      fill: #D2E3FC;\n",
              "    }\n",
              "\n",
              "    [theme=dark] .colab-df-convert:hover {\n",
              "      background-color: #434B5C;\n",
              "      box-shadow: 0px 1px 3px 1px rgba(0, 0, 0, 0.15);\n",
              "      filter: drop-shadow(0px 1px 2px rgba(0, 0, 0, 0.3));\n",
              "      fill: #FFFFFF;\n",
              "    }\n",
              "  </style>\n",
              "\n",
              "      <script>\n",
              "        const buttonEl =\n",
              "          document.querySelector('#df-2f624892-100c-4dff-bf9e-ae38f57c16c5 button.colab-df-convert');\n",
              "        buttonEl.style.display =\n",
              "          google.colab.kernel.accessAllowed ? 'block' : 'none';\n",
              "\n",
              "        async function convertToInteractive(key) {\n",
              "          const element = document.querySelector('#df-2f624892-100c-4dff-bf9e-ae38f57c16c5');\n",
              "          const dataTable =\n",
              "            await google.colab.kernel.invokeFunction('convertToInteractive',\n",
              "                                                     [key], {});\n",
              "          if (!dataTable) return;\n",
              "\n",
              "          const docLinkHtml = 'Like what you see? Visit the ' +\n",
              "            '<a target=\"_blank\" href=https://colab.research.google.com/notebooks/data_table.ipynb>data table notebook</a>'\n",
              "            + ' to learn more about interactive tables.';\n",
              "          element.innerHTML = '';\n",
              "          dataTable['output_type'] = 'display_data';\n",
              "          await google.colab.output.renderOutput(dataTable, element);\n",
              "          const docLink = document.createElement('div');\n",
              "          docLink.innerHTML = docLinkHtml;\n",
              "          element.appendChild(docLink);\n",
              "        }\n",
              "      </script>\n",
              "    </div>\n",
              "  </div>\n",
              "  "
            ],
            "text/plain": [
              "    number     value             datetime_start          datetime_complete  \\\n",
              "0        0       NaN 2022-04-07 05:10:37.831319                        NaT   \n",
              "1        1  0.068626 2022-04-07 05:10:58.809998 2022-04-07 05:11:21.330014   \n",
              "2        2  0.070715 2022-04-07 05:11:21.405142 2022-04-07 05:11:55.750425   \n",
              "3        3  0.071048 2022-04-07 06:38:32.409541 2022-04-07 06:39:12.745684   \n",
              "4        4  0.068714 2022-04-07 06:39:12.815621 2022-04-07 06:39:22.567490   \n",
              "5        5  0.069672 2022-04-07 06:39:22.631557 2022-04-07 06:40:03.612910   \n",
              "6        6  0.069478 2022-04-07 06:40:03.683574 2022-04-07 06:40:24.408330   \n",
              "7        7  0.068532 2022-04-07 06:40:24.493149 2022-04-07 06:40:33.395288   \n",
              "8        8  0.069670 2022-04-07 06:40:33.464726 2022-04-07 06:41:19.314417   \n",
              "9        9  0.069179 2022-04-07 06:41:19.380544 2022-04-07 06:41:29.475578   \n",
              "10      10  0.068975 2022-04-07 06:41:29.541461 2022-04-07 06:41:40.550277   \n",
              "11      11  0.068423 2022-04-07 06:41:40.609839 2022-04-07 06:41:47.982612   \n",
              "12      12  0.068423 2022-04-07 06:41:48.049520 2022-04-07 06:41:55.429524   \n",
              "13      13  0.068437 2022-04-07 06:41:55.491915 2022-04-07 06:42:02.653049   \n",
              "14      14  0.068415 2022-04-07 06:42:02.742926 2022-04-07 06:42:10.090674   \n",
              "15      15  0.068491 2022-04-07 06:42:10.152621 2022-04-07 06:42:17.856438   \n",
              "16      16  0.068538 2022-04-07 06:42:17.920057 2022-04-07 06:42:26.177965   \n",
              "17      17  0.068346 2022-04-07 06:42:26.246228 2022-04-07 06:42:33.609479   \n",
              "18      18  0.068536 2022-04-07 06:42:33.676405 2022-04-07 06:42:44.000838   \n",
              "19      19  0.071081 2022-04-07 06:42:44.060558 2022-04-07 06:43:25.721002   \n",
              "20      20  0.069298 2022-04-07 06:43:25.783981 2022-04-07 06:43:37.816253   \n",
              "21      21  0.071085 2022-04-07 06:43:37.876519 2022-04-07 06:44:17.686000   \n",
              "22      22  0.068437 2022-04-07 06:44:17.755120 2022-04-07 06:44:25.152833   \n",
              "23      23  0.068506 2022-04-07 06:44:25.219862 2022-04-07 06:44:33.032425   \n",
              "24      24  0.068457 2022-04-07 06:44:33.101823 2022-04-07 06:44:40.865410   \n",
              "25      25  0.068820 2022-04-07 06:44:40.931344 2022-04-07 06:44:50.144522   \n",
              "26      26  0.068400 2022-04-07 06:44:50.241017 2022-04-07 06:44:57.658686   \n",
              "27      27  0.068780 2022-04-07 06:44:57.719500 2022-04-07 06:45:06.838762   \n",
              "28      28  0.068580 2022-04-07 06:45:06.904831 2022-04-07 06:45:14.598820   \n",
              "29      29  0.069292 2022-04-07 06:45:14.672060 2022-04-07 06:45:26.958424   \n",
              "30      30  0.068612 2022-04-07 06:45:27.053778 2022-04-07 06:45:35.092592   \n",
              "31      31  0.068352 2022-04-07 06:45:35.163965 2022-04-07 06:45:45.114574   \n",
              "32      32  0.068354 2022-04-07 06:45:45.187588 2022-04-07 06:45:55.107294   \n",
              "33      33  0.068417 2022-04-07 06:45:55.178752 2022-04-07 06:46:04.948519   \n",
              "34      34  0.068346 2022-04-07 06:46:05.019636 2022-04-07 06:46:16.910548   \n",
              "35      35  0.068421 2022-04-07 06:46:16.979923 2022-04-07 06:46:28.924435   \n",
              "36      36  0.068519 2022-04-07 06:46:28.994626 2022-04-07 06:46:41.732075   \n",
              "37      37  0.069162 2022-04-07 06:46:41.801023 2022-04-07 06:47:02.828690   \n",
              "38      38  0.068376 2022-04-07 06:47:02.897730 2022-04-07 06:47:12.103513   \n",
              "39      39  0.068654 2022-04-07 06:47:12.174506 2022-04-07 06:47:26.443865   \n",
              "40      40  0.069548 2022-04-07 06:47:26.514810 2022-04-07 06:48:00.659690   \n",
              "41      41  0.068631 2022-04-07 06:48:00.738447 2022-04-07 06:48:22.552961   \n",
              "42      42  0.068379 2022-04-07 06:48:22.649701 2022-04-07 06:48:31.938867   \n",
              "43      43  0.068323 2022-04-07 06:48:32.014043 2022-04-07 06:48:40.784653   \n",
              "44      44  0.068351 2022-04-07 06:48:40.855674 2022-04-07 06:48:50.431966   \n",
              "45      45  0.068352 2022-04-07 06:48:50.506014 2022-04-07 06:48:58.822465   \n",
              "46      46  0.068488 2022-04-07 06:48:58.920021 2022-04-07 06:49:10.488854   \n",
              "47      47  0.068337 2022-04-07 06:49:10.560518 2022-04-07 06:49:20.250448   \n",
              "48      48  0.068364 2022-04-07 06:49:20.320207 2022-04-07 06:49:29.541850   \n",
              "49      49  0.068450 2022-04-07 06:49:29.616506 2022-04-07 06:49:46.384818   \n",
              "50      50  0.069349 2022-04-07 06:49:46.467604 2022-04-07 06:50:00.939850   \n",
              "51      51  0.068323 2022-04-07 06:50:01.012486 2022-04-07 06:50:09.429985   \n",
              "52      52  0.068313 2022-04-07 06:50:09.501047 2022-04-07 06:50:17.794096   \n",
              "\n",
              "                 duration  params_colsample_bytree  params_eta  \\\n",
              "0                     NaT                 0.248701        0.10   \n",
              "1  0 days 00:00:22.520016                 0.165255        0.01   \n",
              "2  0 days 00:00:34.345283                 0.626758        0.06   \n",
              "3  0 days 00:00:40.336143                 0.677216        0.07   \n",
              "4  0 days 00:00:09.751869                 0.706567        0.05   \n",
              "5  0 days 00:00:40.981353                 0.855272        0.01   \n",
              "6  0 days 00:00:20.724756                 0.224880        0.04   \n",
              "7  0 days 00:00:08.902139                 0.239044        0.05   \n",
              "8  0 days 00:00:45.849691                 0.491400        0.01   \n",
              "9  0 days 00:00:10.095034                 0.648173        0.09   \n",
              "10 0 days 00:00:11.008816                 0.615685        0.05   \n",
              "11 0 days 00:00:07.372773                 0.361479        0.10   \n",
              "12 0 days 00:00:07.380004                 0.360457        0.10   \n",
              "13 0 days 00:00:07.161134                 0.401131        0.10   \n",
              "14 0 days 00:00:07.347748                 0.366807        0.09   \n",
              "15 0 days 00:00:07.703817                 0.350142        0.08   \n",
              "16 0 days 00:00:08.257908                 0.102446        0.08   \n",
              "17 0 days 00:00:07.363251                 0.471415        0.09   \n",
              "18 0 days 00:00:10.324433                 0.498989        0.03   \n",
              "19 0 days 00:00:41.660444                 0.839400        0.08   \n",
              "20 0 days 00:00:12.032272                 0.997719        0.07   \n",
              "21 0 days 00:00:39.809481                 0.484644        0.09   \n",
              "22 0 days 00:00:07.397713                 0.293197        0.10   \n",
              "23 0 days 00:00:07.812563                 0.422702        0.09   \n",
              "24 0 days 00:00:07.763587                 0.300118        0.09   \n",
              "25 0 days 00:00:09.213178                 0.544111        0.07   \n",
              "26 0 days 00:00:07.417669                 0.431943        0.10   \n",
              "27 0 days 00:00:09.119262                 0.438125        0.08   \n",
              "28 0 days 00:00:07.693989                 0.560140        0.09   \n",
              "29 0 days 00:00:12.286364                 0.727888        0.06   \n",
              "30 0 days 00:00:08.038814                 0.277313        0.10   \n",
              "31 0 days 00:00:09.950609                 0.166836        0.03   \n",
              "32 0 days 00:00:09.919706                 0.153385        0.03   \n",
              "33 0 days 00:00:09.769767                 0.159885        0.03   \n",
              "34 0 days 00:00:11.890912                 0.110244        0.02   \n",
              "35 0 days 00:00:11.944512                 0.100995        0.02   \n",
              "36 0 days 00:00:12.737449                 0.174925        0.02   \n",
              "37 0 days 00:00:21.027667                 0.166995        0.03   \n",
              "38 0 days 00:00:09.205783                 0.209458        0.04   \n",
              "39 0 days 00:00:14.269359                 0.236055        0.02   \n",
              "40 0 days 00:00:34.144880                 0.127238        0.04   \n",
              "41 0 days 00:00:21.814514                 0.184597        0.01   \n",
              "42 0 days 00:00:09.289166                 0.206895        0.04   \n",
              "43 0 days 00:00:08.770610                 0.248643        0.04   \n",
              "44 0 days 00:00:09.576292                 0.267551        0.03   \n",
              "45 0 days 00:00:08.316451                 0.269603        0.05   \n",
              "46 0 days 00:00:11.568833                 0.323708        0.02   \n",
              "47 0 days 00:00:09.689930                 0.254917        0.03   \n",
              "48 0 days 00:00:09.221643                 0.268525        0.04   \n",
              "49 0 days 00:00:16.768312                 0.323486        0.01   \n",
              "50 0 days 00:00:14.472246                 0.384439        0.06   \n",
              "51 0 days 00:00:08.417499                 0.236374        0.05   \n",
              "52 0 days 00:00:08.293049                 0.248893        0.05   \n",
              "\n",
              "    params_max_depth  params_min_child_weight  params_subsample     state  \n",
              "0                 12                       17              0.95   RUNNING  \n",
              "1                  7                       16              0.95  COMPLETE  \n",
              "2                 11                        4              0.60  COMPLETE  \n",
              "3                 15                       18              0.75  COMPLETE  \n",
              "4                  5                       12              0.90  COMPLETE  \n",
              "5                  9                        2              0.90  COMPLETE  \n",
              "6                  9                        4              0.60  COMPLETE  \n",
              "7                  4                        9              0.70  COMPLETE  \n",
              "8                 11                        8              0.95  COMPLETE  \n",
              "9                  6                       13              0.85  COMPLETE  \n",
              "10                 6                       10              0.85  COMPLETE  \n",
              "11                 2                        7              0.70  COMPLETE  \n",
              "12                 2                        7              0.70  COMPLETE  \n",
              "13                 2                        6              0.70  COMPLETE  \n",
              "14                 2                        6              0.70  COMPLETE  \n",
              "15                 3                        5              0.75  COMPLETE  \n",
              "16                 4                        2              0.65  COMPLETE  \n",
              "17                 2                       13              0.80  COMPLETE  \n",
              "18                 4                       15              0.80  COMPLETE  \n",
              "19                15                       20              0.80  COMPLETE  \n",
              "20                 7                       14              1.00  COMPLETE  \n",
              "21                13                       11              0.75  COMPLETE  \n",
              "22                 2                        8              0.65  COMPLETE  \n",
              "23                 3                       11              0.65  COMPLETE  \n",
              "24                 3                        6              0.75  COMPLETE  \n",
              "25                 5                        9              0.85  COMPLETE  \n",
              "26                 2                       17              0.70  COMPLETE  \n",
              "27                 5                       17              0.80  COMPLETE  \n",
              "28                 3                       19              0.65  COMPLETE  \n",
              "29                 7                       14              0.75  COMPLETE  \n",
              "30                 4                       17              0.70  COMPLETE  \n",
              "31                 2                       16              0.60  COMPLETE  \n",
              "32                 2                       16              0.60  COMPLETE  \n",
              "33                 3                       16              0.60  COMPLETE  \n",
              "34                 2                       16              0.60  COMPLETE  \n",
              "35                 4                       15              0.60  COMPLETE  \n",
              "36                 5                       13              0.60  COMPLETE  \n",
              "37                10                       18              0.60  COMPLETE  \n",
              "38                 3                       15              0.65  COMPLETE  \n",
              "39                 6                       13              0.60  COMPLETE  \n",
              "40                13                       16              0.90  COMPLETE  \n",
              "41                 7                       19              0.65  COMPLETE  \n",
              "42                 3                       15              0.60  COMPLETE  \n",
              "43                 2                       12              0.65  COMPLETE  \n",
              "44                 2                       12              0.60  COMPLETE  \n",
              "45                 2                       10              0.65  COMPLETE  \n",
              "46                 4                       12              0.60  COMPLETE  \n",
              "47                 2                       12              0.65  COMPLETE  \n",
              "48                 3                       12              0.85  COMPLETE  \n",
              "49                 4                       12              0.65  COMPLETE  \n",
              "50                 8                       10              0.70  COMPLETE  \n",
              "51                 2                       13              0.75  COMPLETE  \n",
              "52                 2                       14              0.80  COMPLETE  "
            ]
          },
          "execution_count": 43,
          "metadata": {},
          "output_type": "execute_result"
        }
      ],
      "source": [
        "study.trials_dataframe()"
      ]
    },
    {
      "cell_type": "code",
      "execution_count": null,
      "metadata": {
        "colab": {
          "base_uri": "https://localhost:8080/",
          "height": 542
        },
        "id": "P9Yk-TUgvPSe",
        "outputId": "73753b75-0026-495f-94de-7fca3b69b039"
      },
      "outputs": [
        {
          "data": {
            "text/html": [
              "<html>\n",
              "<head><meta charset=\"utf-8\" /></head>\n",
              "<body>\n",
              "    <div>            <script src=\"https://cdnjs.cloudflare.com/ajax/libs/mathjax/2.7.5/MathJax.js?config=TeX-AMS-MML_SVG\"></script><script type=\"text/javascript\">if (window.MathJax) {MathJax.Hub.Config({SVG: {font: \"STIX-Web\"}});}</script>                <script type=\"text/javascript\">window.PlotlyConfig = {MathJaxConfig: 'local'};</script>\n",
              "        <script src=\"https://cdn.plot.ly/plotly-2.8.3.min.js\"></script>                <div id=\"6a1e1bef-341e-4cf8-8948-cf0d695e9445\" class=\"plotly-graph-div\" style=\"height:525px; width:100%;\"></div>            <script type=\"text/javascript\">                                    window.PLOTLYENV=window.PLOTLYENV || {};                                    if (document.getElementById(\"6a1e1bef-341e-4cf8-8948-cf0d695e9445\")) {                    Plotly.newPlot(                        \"6a1e1bef-341e-4cf8-8948-cf0d695e9445\",                        [{\"mode\":\"markers\",\"name\":\"Objective Value\",\"x\":[1,2,3,4,5,6,7,8,9,10,11,12,13,14,15,16,17,18,19,20,21,22,23,24,25,26,27,28,29,30,31,32,33,34,35,36,37,38,39,40,41,42,43,44,45,46,47,48,49,50,51,52],\"y\":[0.06862566666666667,0.07071499999999999,0.07104833333333332,0.06871433333333334,0.06967166666666667,0.06947766666666667,0.06853166666666667,0.06967033333333333,0.06917933333333333,0.06897533333333335,0.068423,0.068423,0.06843733333333334,0.068415,0.06849066666666666,0.068538,0.068346,0.06853566666666666,0.071081,0.06929766666666666,0.07108466666666667,0.06843733333333334,0.06850633333333334,0.06845666666666667,0.06882033333333333,0.0684,0.06878000000000001,0.06857999999999999,0.069292,0.06861166666666667,0.06835166666666666,0.068354,0.068417,0.068346,0.06842066666666667,0.068519,0.06916233333333333,0.068376,0.06865399999999999,0.06954766666666666,0.06863066666666667,0.06837900000000001,0.06832333333333333,0.06835133333333333,0.06835233333333333,0.068488,0.068337,0.06836366666666667,0.06844966666666667,0.06934933333333333,0.06832333333333333,0.06831333333333332],\"type\":\"scatter\"},{\"name\":\"Best Value\",\"x\":[1,2,3,4,5,6,7,8,9,10,11,12,13,14,15,16,17,18,19,20,21,22,23,24,25,26,27,28,29,30,31,32,33,34,35,36,37,38,39,40,41,42,43,44,45,46,47,48,49,50,51,52],\"y\":[0.06862566666666667,0.06862566666666667,0.06862566666666667,0.06862566666666667,0.06862566666666667,0.06862566666666667,0.06853166666666667,0.06853166666666667,0.06853166666666667,0.06853166666666667,0.068423,0.068423,0.068423,0.068415,0.068415,0.068415,0.068346,0.068346,0.068346,0.068346,0.068346,0.068346,0.068346,0.068346,0.068346,0.068346,0.068346,0.068346,0.068346,0.068346,0.068346,0.068346,0.068346,0.068346,0.068346,0.068346,0.068346,0.068346,0.068346,0.068346,0.068346,0.068346,0.06832333333333333,0.06832333333333333,0.06832333333333333,0.06832333333333333,0.06832333333333333,0.06832333333333333,0.06832333333333333,0.06832333333333333,0.06832333333333333,0.06831333333333332],\"type\":\"scatter\"}],                        {\"title\":{\"text\":\"Optimization History Plot\"},\"xaxis\":{\"title\":{\"text\":\"#Trials\"}},\"yaxis\":{\"title\":{\"text\":\"Objective Value\"}},\"template\":{\"data\":{\"bar\":[{\"error_x\":{\"color\":\"#2a3f5f\"},\"error_y\":{\"color\":\"#2a3f5f\"},\"marker\":{\"line\":{\"color\":\"#E5ECF6\",\"width\":0.5},\"pattern\":{\"fillmode\":\"overlay\",\"size\":10,\"solidity\":0.2}},\"type\":\"bar\"}],\"barpolar\":[{\"marker\":{\"line\":{\"color\":\"#E5ECF6\",\"width\":0.5},\"pattern\":{\"fillmode\":\"overlay\",\"size\":10,\"solidity\":0.2}},\"type\":\"barpolar\"}],\"carpet\":[{\"aaxis\":{\"endlinecolor\":\"#2a3f5f\",\"gridcolor\":\"white\",\"linecolor\":\"white\",\"minorgridcolor\":\"white\",\"startlinecolor\":\"#2a3f5f\"},\"baxis\":{\"endlinecolor\":\"#2a3f5f\",\"gridcolor\":\"white\",\"linecolor\":\"white\",\"minorgridcolor\":\"white\",\"startlinecolor\":\"#2a3f5f\"},\"type\":\"carpet\"}],\"choropleth\":[{\"colorbar\":{\"outlinewidth\":0,\"ticks\":\"\"},\"type\":\"choropleth\"}],\"contour\":[{\"colorbar\":{\"outlinewidth\":0,\"ticks\":\"\"},\"colorscale\":[[0.0,\"#0d0887\"],[0.1111111111111111,\"#46039f\"],[0.2222222222222222,\"#7201a8\"],[0.3333333333333333,\"#9c179e\"],[0.4444444444444444,\"#bd3786\"],[0.5555555555555556,\"#d8576b\"],[0.6666666666666666,\"#ed7953\"],[0.7777777777777778,\"#fb9f3a\"],[0.8888888888888888,\"#fdca26\"],[1.0,\"#f0f921\"]],\"type\":\"contour\"}],\"contourcarpet\":[{\"colorbar\":{\"outlinewidth\":0,\"ticks\":\"\"},\"type\":\"contourcarpet\"}],\"heatmap\":[{\"colorbar\":{\"outlinewidth\":0,\"ticks\":\"\"},\"colorscale\":[[0.0,\"#0d0887\"],[0.1111111111111111,\"#46039f\"],[0.2222222222222222,\"#7201a8\"],[0.3333333333333333,\"#9c179e\"],[0.4444444444444444,\"#bd3786\"],[0.5555555555555556,\"#d8576b\"],[0.6666666666666666,\"#ed7953\"],[0.7777777777777778,\"#fb9f3a\"],[0.8888888888888888,\"#fdca26\"],[1.0,\"#f0f921\"]],\"type\":\"heatmap\"}],\"heatmapgl\":[{\"colorbar\":{\"outlinewidth\":0,\"ticks\":\"\"},\"colorscale\":[[0.0,\"#0d0887\"],[0.1111111111111111,\"#46039f\"],[0.2222222222222222,\"#7201a8\"],[0.3333333333333333,\"#9c179e\"],[0.4444444444444444,\"#bd3786\"],[0.5555555555555556,\"#d8576b\"],[0.6666666666666666,\"#ed7953\"],[0.7777777777777778,\"#fb9f3a\"],[0.8888888888888888,\"#fdca26\"],[1.0,\"#f0f921\"]],\"type\":\"heatmapgl\"}],\"histogram\":[{\"marker\":{\"pattern\":{\"fillmode\":\"overlay\",\"size\":10,\"solidity\":0.2}},\"type\":\"histogram\"}],\"histogram2d\":[{\"colorbar\":{\"outlinewidth\":0,\"ticks\":\"\"},\"colorscale\":[[0.0,\"#0d0887\"],[0.1111111111111111,\"#46039f\"],[0.2222222222222222,\"#7201a8\"],[0.3333333333333333,\"#9c179e\"],[0.4444444444444444,\"#bd3786\"],[0.5555555555555556,\"#d8576b\"],[0.6666666666666666,\"#ed7953\"],[0.7777777777777778,\"#fb9f3a\"],[0.8888888888888888,\"#fdca26\"],[1.0,\"#f0f921\"]],\"type\":\"histogram2d\"}],\"histogram2dcontour\":[{\"colorbar\":{\"outlinewidth\":0,\"ticks\":\"\"},\"colorscale\":[[0.0,\"#0d0887\"],[0.1111111111111111,\"#46039f\"],[0.2222222222222222,\"#7201a8\"],[0.3333333333333333,\"#9c179e\"],[0.4444444444444444,\"#bd3786\"],[0.5555555555555556,\"#d8576b\"],[0.6666666666666666,\"#ed7953\"],[0.7777777777777778,\"#fb9f3a\"],[0.8888888888888888,\"#fdca26\"],[1.0,\"#f0f921\"]],\"type\":\"histogram2dcontour\"}],\"mesh3d\":[{\"colorbar\":{\"outlinewidth\":0,\"ticks\":\"\"},\"type\":\"mesh3d\"}],\"parcoords\":[{\"line\":{\"colorbar\":{\"outlinewidth\":0,\"ticks\":\"\"}},\"type\":\"parcoords\"}],\"pie\":[{\"automargin\":true,\"type\":\"pie\"}],\"scatter\":[{\"marker\":{\"colorbar\":{\"outlinewidth\":0,\"ticks\":\"\"}},\"type\":\"scatter\"}],\"scatter3d\":[{\"line\":{\"colorbar\":{\"outlinewidth\":0,\"ticks\":\"\"}},\"marker\":{\"colorbar\":{\"outlinewidth\":0,\"ticks\":\"\"}},\"type\":\"scatter3d\"}],\"scattercarpet\":[{\"marker\":{\"colorbar\":{\"outlinewidth\":0,\"ticks\":\"\"}},\"type\":\"scattercarpet\"}],\"scattergeo\":[{\"marker\":{\"colorbar\":{\"outlinewidth\":0,\"ticks\":\"\"}},\"type\":\"scattergeo\"}],\"scattergl\":[{\"marker\":{\"colorbar\":{\"outlinewidth\":0,\"ticks\":\"\"}},\"type\":\"scattergl\"}],\"scattermapbox\":[{\"marker\":{\"colorbar\":{\"outlinewidth\":0,\"ticks\":\"\"}},\"type\":\"scattermapbox\"}],\"scatterpolar\":[{\"marker\":{\"colorbar\":{\"outlinewidth\":0,\"ticks\":\"\"}},\"type\":\"scatterpolar\"}],\"scatterpolargl\":[{\"marker\":{\"colorbar\":{\"outlinewidth\":0,\"ticks\":\"\"}},\"type\":\"scatterpolargl\"}],\"scatterternary\":[{\"marker\":{\"colorbar\":{\"outlinewidth\":0,\"ticks\":\"\"}},\"type\":\"scatterternary\"}],\"surface\":[{\"colorbar\":{\"outlinewidth\":0,\"ticks\":\"\"},\"colorscale\":[[0.0,\"#0d0887\"],[0.1111111111111111,\"#46039f\"],[0.2222222222222222,\"#7201a8\"],[0.3333333333333333,\"#9c179e\"],[0.4444444444444444,\"#bd3786\"],[0.5555555555555556,\"#d8576b\"],[0.6666666666666666,\"#ed7953\"],[0.7777777777777778,\"#fb9f3a\"],[0.8888888888888888,\"#fdca26\"],[1.0,\"#f0f921\"]],\"type\":\"surface\"}],\"table\":[{\"cells\":{\"fill\":{\"color\":\"#EBF0F8\"},\"line\":{\"color\":\"white\"}},\"header\":{\"fill\":{\"color\":\"#C8D4E3\"},\"line\":{\"color\":\"white\"}},\"type\":\"table\"}]},\"layout\":{\"annotationdefaults\":{\"arrowcolor\":\"#2a3f5f\",\"arrowhead\":0,\"arrowwidth\":1},\"autotypenumbers\":\"strict\",\"coloraxis\":{\"colorbar\":{\"outlinewidth\":0,\"ticks\":\"\"}},\"colorscale\":{\"diverging\":[[0,\"#8e0152\"],[0.1,\"#c51b7d\"],[0.2,\"#de77ae\"],[0.3,\"#f1b6da\"],[0.4,\"#fde0ef\"],[0.5,\"#f7f7f7\"],[0.6,\"#e6f5d0\"],[0.7,\"#b8e186\"],[0.8,\"#7fbc41\"],[0.9,\"#4d9221\"],[1,\"#276419\"]],\"sequential\":[[0.0,\"#0d0887\"],[0.1111111111111111,\"#46039f\"],[0.2222222222222222,\"#7201a8\"],[0.3333333333333333,\"#9c179e\"],[0.4444444444444444,\"#bd3786\"],[0.5555555555555556,\"#d8576b\"],[0.6666666666666666,\"#ed7953\"],[0.7777777777777778,\"#fb9f3a\"],[0.8888888888888888,\"#fdca26\"],[1.0,\"#f0f921\"]],\"sequentialminus\":[[0.0,\"#0d0887\"],[0.1111111111111111,\"#46039f\"],[0.2222222222222222,\"#7201a8\"],[0.3333333333333333,\"#9c179e\"],[0.4444444444444444,\"#bd3786\"],[0.5555555555555556,\"#d8576b\"],[0.6666666666666666,\"#ed7953\"],[0.7777777777777778,\"#fb9f3a\"],[0.8888888888888888,\"#fdca26\"],[1.0,\"#f0f921\"]]},\"colorway\":[\"#636efa\",\"#EF553B\",\"#00cc96\",\"#ab63fa\",\"#FFA15A\",\"#19d3f3\",\"#FF6692\",\"#B6E880\",\"#FF97FF\",\"#FECB52\"],\"font\":{\"color\":\"#2a3f5f\"},\"geo\":{\"bgcolor\":\"white\",\"lakecolor\":\"white\",\"landcolor\":\"#E5ECF6\",\"showlakes\":true,\"showland\":true,\"subunitcolor\":\"white\"},\"hoverlabel\":{\"align\":\"left\"},\"hovermode\":\"closest\",\"mapbox\":{\"style\":\"light\"},\"paper_bgcolor\":\"white\",\"plot_bgcolor\":\"#E5ECF6\",\"polar\":{\"angularaxis\":{\"gridcolor\":\"white\",\"linecolor\":\"white\",\"ticks\":\"\"},\"bgcolor\":\"#E5ECF6\",\"radialaxis\":{\"gridcolor\":\"white\",\"linecolor\":\"white\",\"ticks\":\"\"}},\"scene\":{\"xaxis\":{\"backgroundcolor\":\"#E5ECF6\",\"gridcolor\":\"white\",\"gridwidth\":2,\"linecolor\":\"white\",\"showbackground\":true,\"ticks\":\"\",\"zerolinecolor\":\"white\"},\"yaxis\":{\"backgroundcolor\":\"#E5ECF6\",\"gridcolor\":\"white\",\"gridwidth\":2,\"linecolor\":\"white\",\"showbackground\":true,\"ticks\":\"\",\"zerolinecolor\":\"white\"},\"zaxis\":{\"backgroundcolor\":\"#E5ECF6\",\"gridcolor\":\"white\",\"gridwidth\":2,\"linecolor\":\"white\",\"showbackground\":true,\"ticks\":\"\",\"zerolinecolor\":\"white\"}},\"shapedefaults\":{\"line\":{\"color\":\"#2a3f5f\"}},\"ternary\":{\"aaxis\":{\"gridcolor\":\"white\",\"linecolor\":\"white\",\"ticks\":\"\"},\"baxis\":{\"gridcolor\":\"white\",\"linecolor\":\"white\",\"ticks\":\"\"},\"bgcolor\":\"#E5ECF6\",\"caxis\":{\"gridcolor\":\"white\",\"linecolor\":\"white\",\"ticks\":\"\"}},\"title\":{\"x\":0.05},\"xaxis\":{\"automargin\":true,\"gridcolor\":\"white\",\"linecolor\":\"white\",\"ticks\":\"\",\"title\":{\"standoff\":15},\"zerolinecolor\":\"white\",\"zerolinewidth\":2},\"yaxis\":{\"automargin\":true,\"gridcolor\":\"white\",\"linecolor\":\"white\",\"ticks\":\"\",\"title\":{\"standoff\":15},\"zerolinecolor\":\"white\",\"zerolinewidth\":2}}}},                        {\"responsive\": true}                    ).then(function(){\n",
              "                            \n",
              "var gd = document.getElementById('6a1e1bef-341e-4cf8-8948-cf0d695e9445');\n",
              "var x = new MutationObserver(function (mutations, observer) {{\n",
              "        var display = window.getComputedStyle(gd).display;\n",
              "        if (!display || display === 'none') {{\n",
              "            console.log([gd, 'removed!']);\n",
              "            Plotly.purge(gd);\n",
              "            observer.disconnect();\n",
              "        }}\n",
              "}});\n",
              "\n",
              "// Listen for the removal of the full notebook cells\n",
              "var notebookContainer = gd.closest('#notebook-container');\n",
              "if (notebookContainer) {{\n",
              "    x.observe(notebookContainer, {childList: true});\n",
              "}}\n",
              "\n",
              "// Listen for the clearing of the current output cell\n",
              "var outputEl = gd.closest('.output');\n",
              "if (outputEl) {{\n",
              "    x.observe(outputEl, {childList: true});\n",
              "}}\n",
              "\n",
              "                        })                };                            </script>        </div>\n",
              "</body>\n",
              "</html>"
            ]
          },
          "metadata": {},
          "output_type": "display_data"
        }
      ],
      "source": [
        "optuna.visualization.plot_optimization_history(study)"
      ]
    },
    {
      "cell_type": "code",
      "execution_count": null,
      "metadata": {
        "colab": {
          "base_uri": "https://localhost:8080/",
          "height": 542
        },
        "id": "03vVldOezpOb",
        "outputId": "6b2cc576-8b89-4f84-b618-94d483b4d70e"
      },
      "outputs": [
        {
          "data": {
            "text/html": [
              "<html>\n",
              "<head><meta charset=\"utf-8\" /></head>\n",
              "<body>\n",
              "    <div>            <script src=\"https://cdnjs.cloudflare.com/ajax/libs/mathjax/2.7.5/MathJax.js?config=TeX-AMS-MML_SVG\"></script><script type=\"text/javascript\">if (window.MathJax) {MathJax.Hub.Config({SVG: {font: \"STIX-Web\"}});}</script>                <script type=\"text/javascript\">window.PlotlyConfig = {MathJaxConfig: 'local'};</script>\n",
              "        <script src=\"https://cdn.plot.ly/plotly-2.8.3.min.js\"></script>                <div id=\"c6f407aa-e017-4f10-bb78-963398a17c06\" class=\"plotly-graph-div\" style=\"height:525px; width:100%;\"></div>            <script type=\"text/javascript\">                                    window.PLOTLYENV=window.PLOTLYENV || {};                                    if (document.getElementById(\"c6f407aa-e017-4f10-bb78-963398a17c06\")) {                    Plotly.newPlot(                        \"c6f407aa-e017-4f10-bb78-963398a17c06\",                        [{\"cliponaxis\":false,\"hovertemplate\":[\"min_child_weight (IntUniformDistribution): 0.019249031637975707<extra></extra>\",\"subsample (DiscreteUniformDistribution): 0.03109451675739917<extra></extra>\",\"colsample_bytree (UniformDistribution): 0.0342524890301411<extra></extra>\",\"eta (DiscreteUniformDistribution): 0.08749285411857165<extra></extra>\",\"max_depth (IntUniformDistribution): 0.8279111084559124<extra></extra>\"],\"marker\":{\"color\":\"rgb(66,146,198)\"},\"orientation\":\"h\",\"text\":[\"0.019249031637975707\",\"0.03109451675739917\",\"0.0342524890301411\",\"0.08749285411857165\",\"0.8279111084559124\"],\"textposition\":\"outside\",\"texttemplate\":\"%{text:.2f}\",\"x\":[0.019249031637975707,0.03109451675739917,0.0342524890301411,0.08749285411857165,0.8279111084559124],\"y\":[\"min_child_weight\",\"subsample\",\"colsample_bytree\",\"eta\",\"max_depth\"],\"type\":\"bar\"}],                        {\"showlegend\":false,\"title\":{\"text\":\"Hyperparameter Importances\"},\"xaxis\":{\"title\":{\"text\":\"Importance for Objective Value\"}},\"yaxis\":{\"title\":{\"text\":\"Hyperparameter\"}},\"template\":{\"data\":{\"bar\":[{\"error_x\":{\"color\":\"#2a3f5f\"},\"error_y\":{\"color\":\"#2a3f5f\"},\"marker\":{\"line\":{\"color\":\"#E5ECF6\",\"width\":0.5},\"pattern\":{\"fillmode\":\"overlay\",\"size\":10,\"solidity\":0.2}},\"type\":\"bar\"}],\"barpolar\":[{\"marker\":{\"line\":{\"color\":\"#E5ECF6\",\"width\":0.5},\"pattern\":{\"fillmode\":\"overlay\",\"size\":10,\"solidity\":0.2}},\"type\":\"barpolar\"}],\"carpet\":[{\"aaxis\":{\"endlinecolor\":\"#2a3f5f\",\"gridcolor\":\"white\",\"linecolor\":\"white\",\"minorgridcolor\":\"white\",\"startlinecolor\":\"#2a3f5f\"},\"baxis\":{\"endlinecolor\":\"#2a3f5f\",\"gridcolor\":\"white\",\"linecolor\":\"white\",\"minorgridcolor\":\"white\",\"startlinecolor\":\"#2a3f5f\"},\"type\":\"carpet\"}],\"choropleth\":[{\"colorbar\":{\"outlinewidth\":0,\"ticks\":\"\"},\"type\":\"choropleth\"}],\"contour\":[{\"colorbar\":{\"outlinewidth\":0,\"ticks\":\"\"},\"colorscale\":[[0.0,\"#0d0887\"],[0.1111111111111111,\"#46039f\"],[0.2222222222222222,\"#7201a8\"],[0.3333333333333333,\"#9c179e\"],[0.4444444444444444,\"#bd3786\"],[0.5555555555555556,\"#d8576b\"],[0.6666666666666666,\"#ed7953\"],[0.7777777777777778,\"#fb9f3a\"],[0.8888888888888888,\"#fdca26\"],[1.0,\"#f0f921\"]],\"type\":\"contour\"}],\"contourcarpet\":[{\"colorbar\":{\"outlinewidth\":0,\"ticks\":\"\"},\"type\":\"contourcarpet\"}],\"heatmap\":[{\"colorbar\":{\"outlinewidth\":0,\"ticks\":\"\"},\"colorscale\":[[0.0,\"#0d0887\"],[0.1111111111111111,\"#46039f\"],[0.2222222222222222,\"#7201a8\"],[0.3333333333333333,\"#9c179e\"],[0.4444444444444444,\"#bd3786\"],[0.5555555555555556,\"#d8576b\"],[0.6666666666666666,\"#ed7953\"],[0.7777777777777778,\"#fb9f3a\"],[0.8888888888888888,\"#fdca26\"],[1.0,\"#f0f921\"]],\"type\":\"heatmap\"}],\"heatmapgl\":[{\"colorbar\":{\"outlinewidth\":0,\"ticks\":\"\"},\"colorscale\":[[0.0,\"#0d0887\"],[0.1111111111111111,\"#46039f\"],[0.2222222222222222,\"#7201a8\"],[0.3333333333333333,\"#9c179e\"],[0.4444444444444444,\"#bd3786\"],[0.5555555555555556,\"#d8576b\"],[0.6666666666666666,\"#ed7953\"],[0.7777777777777778,\"#fb9f3a\"],[0.8888888888888888,\"#fdca26\"],[1.0,\"#f0f921\"]],\"type\":\"heatmapgl\"}],\"histogram\":[{\"marker\":{\"pattern\":{\"fillmode\":\"overlay\",\"size\":10,\"solidity\":0.2}},\"type\":\"histogram\"}],\"histogram2d\":[{\"colorbar\":{\"outlinewidth\":0,\"ticks\":\"\"},\"colorscale\":[[0.0,\"#0d0887\"],[0.1111111111111111,\"#46039f\"],[0.2222222222222222,\"#7201a8\"],[0.3333333333333333,\"#9c179e\"],[0.4444444444444444,\"#bd3786\"],[0.5555555555555556,\"#d8576b\"],[0.6666666666666666,\"#ed7953\"],[0.7777777777777778,\"#fb9f3a\"],[0.8888888888888888,\"#fdca26\"],[1.0,\"#f0f921\"]],\"type\":\"histogram2d\"}],\"histogram2dcontour\":[{\"colorbar\":{\"outlinewidth\":0,\"ticks\":\"\"},\"colorscale\":[[0.0,\"#0d0887\"],[0.1111111111111111,\"#46039f\"],[0.2222222222222222,\"#7201a8\"],[0.3333333333333333,\"#9c179e\"],[0.4444444444444444,\"#bd3786\"],[0.5555555555555556,\"#d8576b\"],[0.6666666666666666,\"#ed7953\"],[0.7777777777777778,\"#fb9f3a\"],[0.8888888888888888,\"#fdca26\"],[1.0,\"#f0f921\"]],\"type\":\"histogram2dcontour\"}],\"mesh3d\":[{\"colorbar\":{\"outlinewidth\":0,\"ticks\":\"\"},\"type\":\"mesh3d\"}],\"parcoords\":[{\"line\":{\"colorbar\":{\"outlinewidth\":0,\"ticks\":\"\"}},\"type\":\"parcoords\"}],\"pie\":[{\"automargin\":true,\"type\":\"pie\"}],\"scatter\":[{\"marker\":{\"colorbar\":{\"outlinewidth\":0,\"ticks\":\"\"}},\"type\":\"scatter\"}],\"scatter3d\":[{\"line\":{\"colorbar\":{\"outlinewidth\":0,\"ticks\":\"\"}},\"marker\":{\"colorbar\":{\"outlinewidth\":0,\"ticks\":\"\"}},\"type\":\"scatter3d\"}],\"scattercarpet\":[{\"marker\":{\"colorbar\":{\"outlinewidth\":0,\"ticks\":\"\"}},\"type\":\"scattercarpet\"}],\"scattergeo\":[{\"marker\":{\"colorbar\":{\"outlinewidth\":0,\"ticks\":\"\"}},\"type\":\"scattergeo\"}],\"scattergl\":[{\"marker\":{\"colorbar\":{\"outlinewidth\":0,\"ticks\":\"\"}},\"type\":\"scattergl\"}],\"scattermapbox\":[{\"marker\":{\"colorbar\":{\"outlinewidth\":0,\"ticks\":\"\"}},\"type\":\"scattermapbox\"}],\"scatterpolar\":[{\"marker\":{\"colorbar\":{\"outlinewidth\":0,\"ticks\":\"\"}},\"type\":\"scatterpolar\"}],\"scatterpolargl\":[{\"marker\":{\"colorbar\":{\"outlinewidth\":0,\"ticks\":\"\"}},\"type\":\"scatterpolargl\"}],\"scatterternary\":[{\"marker\":{\"colorbar\":{\"outlinewidth\":0,\"ticks\":\"\"}},\"type\":\"scatterternary\"}],\"surface\":[{\"colorbar\":{\"outlinewidth\":0,\"ticks\":\"\"},\"colorscale\":[[0.0,\"#0d0887\"],[0.1111111111111111,\"#46039f\"],[0.2222222222222222,\"#7201a8\"],[0.3333333333333333,\"#9c179e\"],[0.4444444444444444,\"#bd3786\"],[0.5555555555555556,\"#d8576b\"],[0.6666666666666666,\"#ed7953\"],[0.7777777777777778,\"#fb9f3a\"],[0.8888888888888888,\"#fdca26\"],[1.0,\"#f0f921\"]],\"type\":\"surface\"}],\"table\":[{\"cells\":{\"fill\":{\"color\":\"#EBF0F8\"},\"line\":{\"color\":\"white\"}},\"header\":{\"fill\":{\"color\":\"#C8D4E3\"},\"line\":{\"color\":\"white\"}},\"type\":\"table\"}]},\"layout\":{\"annotationdefaults\":{\"arrowcolor\":\"#2a3f5f\",\"arrowhead\":0,\"arrowwidth\":1},\"autotypenumbers\":\"strict\",\"coloraxis\":{\"colorbar\":{\"outlinewidth\":0,\"ticks\":\"\"}},\"colorscale\":{\"diverging\":[[0,\"#8e0152\"],[0.1,\"#c51b7d\"],[0.2,\"#de77ae\"],[0.3,\"#f1b6da\"],[0.4,\"#fde0ef\"],[0.5,\"#f7f7f7\"],[0.6,\"#e6f5d0\"],[0.7,\"#b8e186\"],[0.8,\"#7fbc41\"],[0.9,\"#4d9221\"],[1,\"#276419\"]],\"sequential\":[[0.0,\"#0d0887\"],[0.1111111111111111,\"#46039f\"],[0.2222222222222222,\"#7201a8\"],[0.3333333333333333,\"#9c179e\"],[0.4444444444444444,\"#bd3786\"],[0.5555555555555556,\"#d8576b\"],[0.6666666666666666,\"#ed7953\"],[0.7777777777777778,\"#fb9f3a\"],[0.8888888888888888,\"#fdca26\"],[1.0,\"#f0f921\"]],\"sequentialminus\":[[0.0,\"#0d0887\"],[0.1111111111111111,\"#46039f\"],[0.2222222222222222,\"#7201a8\"],[0.3333333333333333,\"#9c179e\"],[0.4444444444444444,\"#bd3786\"],[0.5555555555555556,\"#d8576b\"],[0.6666666666666666,\"#ed7953\"],[0.7777777777777778,\"#fb9f3a\"],[0.8888888888888888,\"#fdca26\"],[1.0,\"#f0f921\"]]},\"colorway\":[\"#636efa\",\"#EF553B\",\"#00cc96\",\"#ab63fa\",\"#FFA15A\",\"#19d3f3\",\"#FF6692\",\"#B6E880\",\"#FF97FF\",\"#FECB52\"],\"font\":{\"color\":\"#2a3f5f\"},\"geo\":{\"bgcolor\":\"white\",\"lakecolor\":\"white\",\"landcolor\":\"#E5ECF6\",\"showlakes\":true,\"showland\":true,\"subunitcolor\":\"white\"},\"hoverlabel\":{\"align\":\"left\"},\"hovermode\":\"closest\",\"mapbox\":{\"style\":\"light\"},\"paper_bgcolor\":\"white\",\"plot_bgcolor\":\"#E5ECF6\",\"polar\":{\"angularaxis\":{\"gridcolor\":\"white\",\"linecolor\":\"white\",\"ticks\":\"\"},\"bgcolor\":\"#E5ECF6\",\"radialaxis\":{\"gridcolor\":\"white\",\"linecolor\":\"white\",\"ticks\":\"\"}},\"scene\":{\"xaxis\":{\"backgroundcolor\":\"#E5ECF6\",\"gridcolor\":\"white\",\"gridwidth\":2,\"linecolor\":\"white\",\"showbackground\":true,\"ticks\":\"\",\"zerolinecolor\":\"white\"},\"yaxis\":{\"backgroundcolor\":\"#E5ECF6\",\"gridcolor\":\"white\",\"gridwidth\":2,\"linecolor\":\"white\",\"showbackground\":true,\"ticks\":\"\",\"zerolinecolor\":\"white\"},\"zaxis\":{\"backgroundcolor\":\"#E5ECF6\",\"gridcolor\":\"white\",\"gridwidth\":2,\"linecolor\":\"white\",\"showbackground\":true,\"ticks\":\"\",\"zerolinecolor\":\"white\"}},\"shapedefaults\":{\"line\":{\"color\":\"#2a3f5f\"}},\"ternary\":{\"aaxis\":{\"gridcolor\":\"white\",\"linecolor\":\"white\",\"ticks\":\"\"},\"baxis\":{\"gridcolor\":\"white\",\"linecolor\":\"white\",\"ticks\":\"\"},\"bgcolor\":\"#E5ECF6\",\"caxis\":{\"gridcolor\":\"white\",\"linecolor\":\"white\",\"ticks\":\"\"}},\"title\":{\"x\":0.05},\"xaxis\":{\"automargin\":true,\"gridcolor\":\"white\",\"linecolor\":\"white\",\"ticks\":\"\",\"title\":{\"standoff\":15},\"zerolinecolor\":\"white\",\"zerolinewidth\":2},\"yaxis\":{\"automargin\":true,\"gridcolor\":\"white\",\"linecolor\":\"white\",\"ticks\":\"\",\"title\":{\"standoff\":15},\"zerolinecolor\":\"white\",\"zerolinewidth\":2}}}},                        {\"responsive\": true}                    ).then(function(){\n",
              "                            \n",
              "var gd = document.getElementById('c6f407aa-e017-4f10-bb78-963398a17c06');\n",
              "var x = new MutationObserver(function (mutations, observer) {{\n",
              "        var display = window.getComputedStyle(gd).display;\n",
              "        if (!display || display === 'none') {{\n",
              "            console.log([gd, 'removed!']);\n",
              "            Plotly.purge(gd);\n",
              "            observer.disconnect();\n",
              "        }}\n",
              "}});\n",
              "\n",
              "// Listen for the removal of the full notebook cells\n",
              "var notebookContainer = gd.closest('#notebook-container');\n",
              "if (notebookContainer) {{\n",
              "    x.observe(notebookContainer, {childList: true});\n",
              "}}\n",
              "\n",
              "// Listen for the clearing of the current output cell\n",
              "var outputEl = gd.closest('.output');\n",
              "if (outputEl) {{\n",
              "    x.observe(outputEl, {childList: true});\n",
              "}}\n",
              "\n",
              "                        })                };                            </script>        </div>\n",
              "</body>\n",
              "</html>"
            ]
          },
          "metadata": {},
          "output_type": "display_data"
        }
      ],
      "source": [
        "optuna.visualization.plot_param_importances(study)"
      ]
    },
    {
      "cell_type": "code",
      "execution_count": null,
      "metadata": {
        "id": "Oj_P0cEa05Pa"
      },
      "outputs": [],
      "source": [
        "# テストデータでの推測の準備\n",
        "\n",
        "param_f = study.best_params\n",
        "param_f[\"objective\"] = \"reg:linear\"\n",
        "param_f[\"eval_metric\"] = \"mae\"\n",
        "param_f[\"predictor\"] = 'gpu_predictor'\n",
        "param_f[\"gpu_id\"] = 0\n",
        "param_f[\"verbosity\"] = 0"
      ]
    },
    {
      "cell_type": "code",
      "execution_count": null,
      "metadata": {
        "id": "zJVNDe4F2ulZ"
      },
      "outputs": [],
      "source": [
        "# evals = [(xgb_train, ‘train’), (xgb_eval, ‘eval’)]"
      ]
    },
    {
      "cell_type": "code",
      "execution_count": null,
      "metadata": {
        "colab": {
          "base_uri": "https://localhost:8080/"
        },
        "id": "mtorrdv92Mh6",
        "outputId": "b8bc9bd2-c180-4478-8280-101d1846525b"
      },
      "outputs": [
        {
          "name": "stdout",
          "output_type": "stream",
          "text": [
            "[0]\ttrain-mae:0.472983\teval-mae:0.472478\n",
            "Multiple eval metrics have been passed: 'eval-mae' will be used for early stopping.\n",
            "\n",
            "Will train until eval-mae hasn't improved in 500 rounds.\n",
            "[10]\ttrain-mae:0.2921\teval-mae:0.291605\n",
            "[20]\ttrain-mae:0.187704\teval-mae:0.187195\n",
            "[30]\ttrain-mae:0.128984\teval-mae:0.128389\n",
            "[40]\ttrain-mae:0.097369\teval-mae:0.096796\n",
            "[50]\ttrain-mae:0.081447\teval-mae:0.08097\n",
            "[60]\ttrain-mae:0.074105\teval-mae:0.073743\n",
            "[70]\ttrain-mae:0.070865\teval-mae:0.070537\n",
            "[80]\ttrain-mae:0.069432\teval-mae:0.06912\n",
            "[90]\ttrain-mae:0.068792\teval-mae:0.068473\n",
            "[100]\ttrain-mae:0.068473\teval-mae:0.068146\n",
            "[110]\ttrain-mae:0.068315\teval-mae:0.067989\n",
            "[120]\ttrain-mae:0.068204\teval-mae:0.067877\n",
            "[130]\ttrain-mae:0.06815\teval-mae:0.06784\n",
            "[140]\ttrain-mae:0.068121\teval-mae:0.067815\n",
            "[150]\ttrain-mae:0.068094\teval-mae:0.067802\n",
            "[160]\ttrain-mae:0.068078\teval-mae:0.067794\n",
            "[170]\ttrain-mae:0.068071\teval-mae:0.0678\n",
            "[180]\ttrain-mae:0.068064\teval-mae:0.067798\n",
            "[190]\ttrain-mae:0.068042\teval-mae:0.067782\n",
            "[200]\ttrain-mae:0.068045\teval-mae:0.067802\n",
            "[210]\ttrain-mae:0.068056\teval-mae:0.067821\n",
            "[220]\ttrain-mae:0.068042\teval-mae:0.067824\n",
            "[230]\ttrain-mae:0.06804\teval-mae:0.067825\n",
            "[240]\ttrain-mae:0.068049\teval-mae:0.067838\n",
            "[250]\ttrain-mae:0.068049\teval-mae:0.067857\n",
            "[260]\ttrain-mae:0.06804\teval-mae:0.067845\n",
            "[270]\ttrain-mae:0.068037\teval-mae:0.067851\n",
            "[280]\ttrain-mae:0.068033\teval-mae:0.067851\n",
            "[290]\ttrain-mae:0.06803\teval-mae:0.06785\n",
            "[300]\ttrain-mae:0.068029\teval-mae:0.067867\n",
            "[310]\ttrain-mae:0.068024\teval-mae:0.06787\n",
            "[320]\ttrain-mae:0.068029\teval-mae:0.067879\n",
            "[330]\ttrain-mae:0.068018\teval-mae:0.067883\n",
            "[340]\ttrain-mae:0.068006\teval-mae:0.067873\n",
            "[350]\ttrain-mae:0.068016\teval-mae:0.067893\n",
            "[360]\ttrain-mae:0.068008\teval-mae:0.067881\n",
            "[370]\ttrain-mae:0.068014\teval-mae:0.067892\n",
            "[380]\ttrain-mae:0.068006\teval-mae:0.067903\n",
            "[390]\ttrain-mae:0.068005\teval-mae:0.067917\n",
            "[400]\ttrain-mae:0.068\teval-mae:0.067922\n",
            "[410]\ttrain-mae:0.068001\teval-mae:0.067929\n",
            "[420]\ttrain-mae:0.067995\teval-mae:0.067931\n",
            "[430]\ttrain-mae:0.067994\teval-mae:0.067942\n",
            "[440]\ttrain-mae:0.067999\teval-mae:0.067953\n",
            "[450]\ttrain-mae:0.067995\teval-mae:0.067952\n",
            "[460]\ttrain-mae:0.067998\teval-mae:0.067963\n",
            "[470]\ttrain-mae:0.067991\teval-mae:0.067966\n",
            "[480]\ttrain-mae:0.067991\teval-mae:0.067969\n",
            "[490]\ttrain-mae:0.067988\teval-mae:0.067978\n",
            "[500]\ttrain-mae:0.067989\teval-mae:0.067978\n",
            "[510]\ttrain-mae:0.067994\teval-mae:0.067984\n",
            "[520]\ttrain-mae:0.067996\teval-mae:0.067996\n",
            "[530]\ttrain-mae:0.067996\teval-mae:0.068003\n",
            "[540]\ttrain-mae:0.06799\teval-mae:0.068003\n",
            "[550]\ttrain-mae:0.067987\teval-mae:0.068004\n",
            "[560]\ttrain-mae:0.067984\teval-mae:0.068\n",
            "[570]\ttrain-mae:0.067984\teval-mae:0.068006\n",
            "[580]\ttrain-mae:0.067986\teval-mae:0.068012\n",
            "[590]\ttrain-mae:0.067986\teval-mae:0.068016\n",
            "[600]\ttrain-mae:0.067984\teval-mae:0.06802\n",
            "[610]\ttrain-mae:0.067982\teval-mae:0.068027\n",
            "[620]\ttrain-mae:0.067981\teval-mae:0.06802\n",
            "[630]\ttrain-mae:0.067974\teval-mae:0.068022\n",
            "[640]\ttrain-mae:0.067975\teval-mae:0.068033\n",
            "[650]\ttrain-mae:0.067979\teval-mae:0.068043\n",
            "[660]\ttrain-mae:0.067981\teval-mae:0.06805\n",
            "[670]\ttrain-mae:0.067986\teval-mae:0.068051\n",
            "[680]\ttrain-mae:0.067976\teval-mae:0.068049\n",
            "Stopping. Best iteration:\n",
            "[184]\ttrain-mae:0.068045\teval-mae:0.067782\n",
            "\n"
          ]
        }
      ],
      "source": [
        "# https://datatechlog.com/how_to_use_xgboost_and_optuna_for_parameter_optimization/#toc26\n",
        "model = xgb.train(params=param_f,\n",
        "                  dtrain=d_tr,\n",
        "                  num_boost_round=10000,\n",
        "                  early_stopping_rounds=500,\n",
        "                  evals=[(d_tr, 'train'), (d_val, 'eval')],\n",
        "                  evals_result={},\n",
        "                  verbose_eval=10,\n",
        "                 )\n",
        "                  "
      ]
    },
    {
      "cell_type": "code",
      "execution_count": null,
      "metadata": {
        "id": "6xbhVZQIIEp4"
      },
      "outputs": [],
      "source": [
        "# https://colab.research.google.com/drive/1UDHCMgX-_953h1Vc_kAkjQghe2foVT3H これもみる"
      ]
    },
    {
      "cell_type": "code",
      "execution_count": null,
      "metadata": {
        "colab": {
          "base_uri": "https://localhost:8080/"
        },
        "id": "3DR8sM2o1bKy",
        "outputId": "dbde3f52-3ef0-43bf-8117-369e3c961a28"
      },
      "outputs": [
        {
          "name": "stdout",
          "output_type": "stream",
          "text": [
            "Building test set ...\n"
          ]
        }
      ],
      "source": [
        "print('Building test set ...')\n",
        "sample['parcelid'] = sample['ParcelId']\n",
        "df_test = sample.merge(prop, on='parcelid', how='left')"
      ]
    },
    {
      "cell_type": "code",
      "execution_count": null,
      "metadata": {
        "colab": {
          "base_uri": "https://localhost:8080/"
        },
        "id": "1e_nYQj91ptt",
        "outputId": "72335f7c-9e0b-4a07-e059-af0d8f80a802"
      },
      "outputs": [
        {
          "name": "stderr",
          "output_type": "stream",
          "text": [
            "/usr/local/lib/python3.7/dist-packages/ipykernel_launcher.py:3: SettingWithCopyWarning:\n",
            "\n",
            "\n",
            "A value is trying to be set on a copy of a slice from a DataFrame.\n",
            "Try using .loc[row_indexer,col_indexer] = value instead\n",
            "\n",
            "See the caveats in the documentation: https://pandas.pydata.org/pandas-docs/stable/user_guide/indexing.html#returning-a-view-versus-a-copy\n",
            "\n"
          ]
        },
        {
          "data": {
            "text/plain": [
              "2"
            ]
          },
          "execution_count": 49,
          "metadata": {},
          "output_type": "execute_result"
        }
      ],
      "source": [
        "x_test = df_test[train_columns]\n",
        "for c in x_test.dtypes[x_test.dtypes == object].index.values:\n",
        "    x_test[c] = (x_test[c] == True)\n",
        "\n",
        "del df_test, sample; gc.collect()\n",
        "\n",
        "d_test = xgb.DMatrix(x_test)\n",
        "\n",
        "del x_test; gc.collect()"
      ]
    },
    {
      "cell_type": "code",
      "execution_count": null,
      "metadata": {
        "colab": {
          "base_uri": "https://localhost:8080/"
        },
        "id": "VibrbPcJ2A1q",
        "outputId": "a40f3c9b-7f6b-4227-8a5e-eb955bd989b0"
      },
      "outputs": [
        {
          "name": "stdout",
          "output_type": "stream",
          "text": [
            "Predicting on test ...\n"
          ]
        }
      ],
      "source": [
        "print('Predicting on test ...')\n",
        "\n",
        "p_test = model.predict(d_test)"
      ]
    },
    {
      "cell_type": "code",
      "execution_count": null,
      "metadata": {
        "colab": {
          "base_uri": "https://localhost:8080/"
        },
        "id": "tPq9dBb2DePi",
        "outputId": "451d9656-d93d-4db7-bda2-714d9b1a92f9"
      },
      "outputs": [
        {
          "data": {
            "text/plain": [
              "72220"
            ]
          },
          "execution_count": 67,
          "metadata": {},
          "output_type": "execute_result"
        }
      ],
      "source": [
        "d_tr.num_row()"
      ]
    },
    {
      "cell_type": "code",
      "execution_count": null,
      "metadata": {
        "colab": {
          "base_uri": "https://localhost:8080/"
        },
        "id": "s2XAiwiB_acl",
        "outputId": "c75aa84f-b280-43fa-a3c3-469c16e790d2"
      },
      "outputs": [
        {
          "data": {
            "text/plain": [
              "(2985217,)"
            ]
          },
          "execution_count": 69,
          "metadata": {},
          "output_type": "execute_result"
        }
      ],
      "source": [
        "p_test.shape"
      ]
    },
    {
      "cell_type": "code",
      "execution_count": null,
      "metadata": {
        "colab": {
          "base_uri": "https://localhost:8080/",
          "height": 170
        },
        "id": "OzV245yX8JgO",
        "outputId": "7341c490-fdb6-4eec-9078-ad45b2fb8f25"
      },
      "outputs": [
        {
          "ename": "AttributeError",
          "evalue": "ignored",
          "output_type": "error",
          "traceback": [
            "\u001b[0;31m---------------------------------------------------------------------------\u001b[0m",
            "\u001b[0;31mAttributeError\u001b[0m                            Traceback (most recent call last)",
            "\u001b[0;32m<ipython-input-59-c9643c1fdd5e>\u001b[0m in \u001b[0;36m<module>\u001b[0;34m()\u001b[0m\n\u001b[0;32m----> 1\u001b[0;31m \u001b[0md_test\u001b[0m\u001b[0;34m.\u001b[0m\u001b[0mshape\u001b[0m\u001b[0;34m(\u001b[0m\u001b[0;34m)\u001b[0m\u001b[0;34m\u001b[0m\u001b[0;34m\u001b[0m\u001b[0m\n\u001b[0m",
            "\u001b[0;31mAttributeError\u001b[0m: 'DMatrix' object has no attribute 'shape'"
          ]
        }
      ],
      "source": [
        "from sklearn.metrics import r2_score\n",
        "\n",
        "r2 = r2_score(y_obs, y_pred)"
      ]
    },
    {
      "cell_type": "code",
      "execution_count": null,
      "metadata": {
        "colab": {
          "base_uri": "https://localhost:8080/"
        },
        "id": "Um4BswL67MC-",
        "outputId": "544b178d-de51-4e24-ffa4-b80cd6aa81f0"
      },
      "outputs": [
        {
          "data": {
            "text/plain": [
              "(2985217,)"
            ]
          },
          "execution_count": 56,
          "metadata": {},
          "output_type": "execute_result"
        }
      ],
      "source": [
        "p_test.shape"
      ]
    },
    {
      "cell_type": "code",
      "execution_count": null,
      "metadata": {
        "id": "COX5gMM_cBNn"
      },
      "outputs": [],
      "source": [
        "# import sqlite3\n",
        "# con = sqlite3.connect('/content/gdrive/MyDrive/kaggle/zillow_prize/results/study_1.db')\n",
        "# cur = con.cursor()"
      ]
    },
    {
      "cell_type": "code",
      "execution_count": null,
      "metadata": {
        "id": "KwnHJa6oqp_H"
      },
      "outputs": [],
      "source": [
        "# cur.execute('select * from study_1')\n",
        "# for row in cur:\n",
        "#     # rowオブジェクトでデータが取得できる。タプル型の結果が取得\n",
        "#     print(row)"
      ]
    },
    {
      "cell_type": "code",
      "execution_count": null,
      "metadata": {
        "id": "mt4Z9dbieH3t"
      },
      "outputs": [],
      "source": [
        "# from sqlalchemy import create_engine\n",
        "# import sqlalchemy\n",
        "# engine = create_engine('sqlite:////content/gdrive/MyDrive/kaggle/zillow_prize/results/study_1.db', echo = True)\n"
      ]
    },
    {
      "cell_type": "code",
      "execution_count": null,
      "metadata": {
        "id": "JMvxaFrkp_M_"
      },
      "outputs": [],
      "source": [
        "# from sqlalchemy.orm import sessionmaker\n",
        "# Session = sessionmaker(autocommit=False, autoflush=False, bind=engine)\n",
        "# session = Session() "
      ]
    },
    {
      "cell_type": "code",
      "execution_count": null,
      "metadata": {
        "colab": {
          "base_uri": "https://localhost:8080/"
        },
        "id": "sRXsHIZAo_9E",
        "outputId": "31a70d74-084e-46cf-c5bb-af9151340379"
      },
      "outputs": [
        {
          "name": "stdout",
          "output_type": "stream",
          "text": [
            "Engine(sqlite:////content/gdrive/MyDrive/kaggle/zillow_prize/results/study_1.db)\n"
          ]
        }
      ],
      "source": [
        "print(engine)"
      ]
    },
    {
      "cell_type": "code",
      "execution_count": null,
      "metadata": {
        "id": "NYVkSBsPSzKL"
      },
      "outputs": [],
      "source": [
        "print(\"Number of finished trials: \", len(study.trials))\n",
        "print(\"Best trial:\")\n",
        "trial = study.best_trial\n",
        "\n",
        "print(\"  Value: {}\".format(trial.value))\n",
        "print(\"  Params: \")\n",
        "for key, value in trial.params.items():\n",
        "    print(\"    {}: {}\".format(key, value))"
      ]
    }
  ],
  "metadata": {
    "accelerator": "GPU",
    "colab": {
      "collapsed_sections": [],
      "machine_shape": "hm",
      "name": "zillow_prize_v4.ipynb ",
      "provenance": [],
      "authorship_tag": "ABX9TyMjIuzMgJQu6760gZXUHs0i",
      "include_colab_link": true
    },
    "kernelspec": {
      "display_name": "Python 3",
      "name": "python3"
    },
    "language_info": {
      "name": "python"
    },
    "widgets": {
      "application/vnd.jupyter.widget-state+json": {
        "ed13370c60014cef8e2125e05d037add": {
          "model_module": "@jupyter-widgets/controls",
          "model_name": "HBoxModel",
          "model_module_version": "1.5.0",
          "state": {
            "_dom_classes": [],
            "_model_module": "@jupyter-widgets/controls",
            "_model_module_version": "1.5.0",
            "_model_name": "HBoxModel",
            "_view_count": null,
            "_view_module": "@jupyter-widgets/controls",
            "_view_module_version": "1.5.0",
            "_view_name": "HBoxView",
            "box_style": "",
            "children": [
              "IPY_MODEL_0feac7de1136426bb82f3f14cb3cc2c9",
              "IPY_MODEL_30cfca19154a4ac4b6faa3092ff6a515",
              "IPY_MODEL_b241aa44f01d40b39d54a5cb0c0d25ed"
            ],
            "layout": "IPY_MODEL_230e920cdd14469b83aaa9361c2758e3"
          }
        },
        "0feac7de1136426bb82f3f14cb3cc2c9": {
          "model_module": "@jupyter-widgets/controls",
          "model_name": "HTMLModel",
          "model_module_version": "1.5.0",
          "state": {
            "_dom_classes": [],
            "_model_module": "@jupyter-widgets/controls",
            "_model_module_version": "1.5.0",
            "_model_name": "HTMLModel",
            "_view_count": null,
            "_view_module": "@jupyter-widgets/controls",
            "_view_module_version": "1.5.0",
            "_view_name": "HTMLView",
            "description": "",
            "description_tooltip": null,
            "layout": "IPY_MODEL_0b9a6595dd96479fa5a9f9622cc76aa1",
            "placeholder": "​",
            "style": "IPY_MODEL_0cd7ba65b365438d99966ac0b48f66f9",
            "value": "100%"
          }
        },
        "30cfca19154a4ac4b6faa3092ff6a515": {
          "model_module": "@jupyter-widgets/controls",
          "model_name": "FloatProgressModel",
          "model_module_version": "1.5.0",
          "state": {
            "_dom_classes": [],
            "_model_module": "@jupyter-widgets/controls",
            "_model_module_version": "1.5.0",
            "_model_name": "FloatProgressModel",
            "_view_count": null,
            "_view_module": "@jupyter-widgets/controls",
            "_view_module_version": "1.5.0",
            "_view_name": "ProgressView",
            "bar_style": "success",
            "description": "",
            "description_tooltip": null,
            "layout": "IPY_MODEL_ac4ca16ef00d4e138a4bd928c50549a1",
            "max": 3,
            "min": 0,
            "orientation": "horizontal",
            "style": "IPY_MODEL_e541434c53574dc195d6908c271a1f2c",
            "value": 3
          }
        },
        "b241aa44f01d40b39d54a5cb0c0d25ed": {
          "model_module": "@jupyter-widgets/controls",
          "model_name": "HTMLModel",
          "model_module_version": "1.5.0",
          "state": {
            "_dom_classes": [],
            "_model_module": "@jupyter-widgets/controls",
            "_model_module_version": "1.5.0",
            "_model_name": "HTMLModel",
            "_view_count": null,
            "_view_module": "@jupyter-widgets/controls",
            "_view_module_version": "1.5.0",
            "_view_name": "HTMLView",
            "description": "",
            "description_tooltip": null,
            "layout": "IPY_MODEL_6c6f01afb6894eac98ada12f1020e0d1",
            "placeholder": "​",
            "style": "IPY_MODEL_af0ebec253754be0a7bfb9889367dff1",
            "value": " 3/3 [01:18&lt;00:00, 28.63s/it]"
          }
        },
        "230e920cdd14469b83aaa9361c2758e3": {
          "model_module": "@jupyter-widgets/base",
          "model_name": "LayoutModel",
          "model_module_version": "1.2.0",
          "state": {
            "_model_module": "@jupyter-widgets/base",
            "_model_module_version": "1.2.0",
            "_model_name": "LayoutModel",
            "_view_count": null,
            "_view_module": "@jupyter-widgets/base",
            "_view_module_version": "1.2.0",
            "_view_name": "LayoutView",
            "align_content": null,
            "align_items": null,
            "align_self": null,
            "border": null,
            "bottom": null,
            "display": null,
            "flex": null,
            "flex_flow": null,
            "grid_area": null,
            "grid_auto_columns": null,
            "grid_auto_flow": null,
            "grid_auto_rows": null,
            "grid_column": null,
            "grid_gap": null,
            "grid_row": null,
            "grid_template_areas": null,
            "grid_template_columns": null,
            "grid_template_rows": null,
            "height": null,
            "justify_content": null,
            "justify_items": null,
            "left": null,
            "margin": null,
            "max_height": null,
            "max_width": null,
            "min_height": null,
            "min_width": null,
            "object_fit": null,
            "object_position": null,
            "order": null,
            "overflow": null,
            "overflow_x": null,
            "overflow_y": null,
            "padding": null,
            "right": null,
            "top": null,
            "visibility": null,
            "width": null
          }
        },
        "0b9a6595dd96479fa5a9f9622cc76aa1": {
          "model_module": "@jupyter-widgets/base",
          "model_name": "LayoutModel",
          "model_module_version": "1.2.0",
          "state": {
            "_model_module": "@jupyter-widgets/base",
            "_model_module_version": "1.2.0",
            "_model_name": "LayoutModel",
            "_view_count": null,
            "_view_module": "@jupyter-widgets/base",
            "_view_module_version": "1.2.0",
            "_view_name": "LayoutView",
            "align_content": null,
            "align_items": null,
            "align_self": null,
            "border": null,
            "bottom": null,
            "display": null,
            "flex": null,
            "flex_flow": null,
            "grid_area": null,
            "grid_auto_columns": null,
            "grid_auto_flow": null,
            "grid_auto_rows": null,
            "grid_column": null,
            "grid_gap": null,
            "grid_row": null,
            "grid_template_areas": null,
            "grid_template_columns": null,
            "grid_template_rows": null,
            "height": null,
            "justify_content": null,
            "justify_items": null,
            "left": null,
            "margin": null,
            "max_height": null,
            "max_width": null,
            "min_height": null,
            "min_width": null,
            "object_fit": null,
            "object_position": null,
            "order": null,
            "overflow": null,
            "overflow_x": null,
            "overflow_y": null,
            "padding": null,
            "right": null,
            "top": null,
            "visibility": null,
            "width": null
          }
        },
        "0cd7ba65b365438d99966ac0b48f66f9": {
          "model_module": "@jupyter-widgets/controls",
          "model_name": "DescriptionStyleModel",
          "model_module_version": "1.5.0",
          "state": {
            "_model_module": "@jupyter-widgets/controls",
            "_model_module_version": "1.5.0",
            "_model_name": "DescriptionStyleModel",
            "_view_count": null,
            "_view_module": "@jupyter-widgets/base",
            "_view_module_version": "1.2.0",
            "_view_name": "StyleView",
            "description_width": ""
          }
        },
        "ac4ca16ef00d4e138a4bd928c50549a1": {
          "model_module": "@jupyter-widgets/base",
          "model_name": "LayoutModel",
          "model_module_version": "1.2.0",
          "state": {
            "_model_module": "@jupyter-widgets/base",
            "_model_module_version": "1.2.0",
            "_model_name": "LayoutModel",
            "_view_count": null,
            "_view_module": "@jupyter-widgets/base",
            "_view_module_version": "1.2.0",
            "_view_name": "LayoutView",
            "align_content": null,
            "align_items": null,
            "align_self": null,
            "border": null,
            "bottom": null,
            "display": null,
            "flex": null,
            "flex_flow": null,
            "grid_area": null,
            "grid_auto_columns": null,
            "grid_auto_flow": null,
            "grid_auto_rows": null,
            "grid_column": null,
            "grid_gap": null,
            "grid_row": null,
            "grid_template_areas": null,
            "grid_template_columns": null,
            "grid_template_rows": null,
            "height": null,
            "justify_content": null,
            "justify_items": null,
            "left": null,
            "margin": null,
            "max_height": null,
            "max_width": null,
            "min_height": null,
            "min_width": null,
            "object_fit": null,
            "object_position": null,
            "order": null,
            "overflow": null,
            "overflow_x": null,
            "overflow_y": null,
            "padding": null,
            "right": null,
            "top": null,
            "visibility": null,
            "width": null
          }
        },
        "e541434c53574dc195d6908c271a1f2c": {
          "model_module": "@jupyter-widgets/controls",
          "model_name": "ProgressStyleModel",
          "model_module_version": "1.5.0",
          "state": {
            "_model_module": "@jupyter-widgets/controls",
            "_model_module_version": "1.5.0",
            "_model_name": "ProgressStyleModel",
            "_view_count": null,
            "_view_module": "@jupyter-widgets/base",
            "_view_module_version": "1.2.0",
            "_view_name": "StyleView",
            "bar_color": null,
            "description_width": ""
          }
        },
        "6c6f01afb6894eac98ada12f1020e0d1": {
          "model_module": "@jupyter-widgets/base",
          "model_name": "LayoutModel",
          "model_module_version": "1.2.0",
          "state": {
            "_model_module": "@jupyter-widgets/base",
            "_model_module_version": "1.2.0",
            "_model_name": "LayoutModel",
            "_view_count": null,
            "_view_module": "@jupyter-widgets/base",
            "_view_module_version": "1.2.0",
            "_view_name": "LayoutView",
            "align_content": null,
            "align_items": null,
            "align_self": null,
            "border": null,
            "bottom": null,
            "display": null,
            "flex": null,
            "flex_flow": null,
            "grid_area": null,
            "grid_auto_columns": null,
            "grid_auto_flow": null,
            "grid_auto_rows": null,
            "grid_column": null,
            "grid_gap": null,
            "grid_row": null,
            "grid_template_areas": null,
            "grid_template_columns": null,
            "grid_template_rows": null,
            "height": null,
            "justify_content": null,
            "justify_items": null,
            "left": null,
            "margin": null,
            "max_height": null,
            "max_width": null,
            "min_height": null,
            "min_width": null,
            "object_fit": null,
            "object_position": null,
            "order": null,
            "overflow": null,
            "overflow_x": null,
            "overflow_y": null,
            "padding": null,
            "right": null,
            "top": null,
            "visibility": null,
            "width": null
          }
        },
        "af0ebec253754be0a7bfb9889367dff1": {
          "model_module": "@jupyter-widgets/controls",
          "model_name": "DescriptionStyleModel",
          "model_module_version": "1.5.0",
          "state": {
            "_model_module": "@jupyter-widgets/controls",
            "_model_module_version": "1.5.0",
            "_model_name": "DescriptionStyleModel",
            "_view_count": null,
            "_view_module": "@jupyter-widgets/base",
            "_view_module_version": "1.2.0",
            "_view_name": "StyleView",
            "description_width": ""
          }
        }
      }
    }
  },
  "nbformat": 4,
  "nbformat_minor": 0
}